{
 "cells": [
  {
   "cell_type": "code",
   "execution_count": 479,
   "metadata": {},
   "outputs": [],
   "source": [
    "import pandas as pd\n",
    "import string\n",
    "import numpy as np\n",
    "import matplotlib.pyplot as plt\n",
    "import itertools\n",
    "import seaborn as sb\n",
    "\n",
    "from sklearn import svm\n",
    "from sklearn.linear_model import LogisticRegression\n",
    "from sklearn.feature_extraction import DictVectorizer\n",
    "from nltk.stem import WordNetLemmatizer, PorterStemmer\n",
    "from collections import defaultdict\n",
    "from nltk.corpus import stopwords\n",
    "from nltk.tokenize import word_tokenize\n",
    "from nltk import bigrams\n",
    "from nltk import trigrams\n",
    "from sklearn.metrics import classification_report,confusion_matrix\n",
    "from sklearn.model_selection import train_test_split, GridSearchCV, ShuffleSplit, cross_val_score, LeaveOneOut\n",
    "from sklearn.preprocessing import StandardScaler\n",
    "from sklearn.neural_network import MLPClassifier\n",
    "from sklearn.naive_bayes import MultinomialNB"
   ]
  },
  {
   "cell_type": "code",
   "execution_count": 480,
   "metadata": {},
   "outputs": [],
   "source": [
    "class Data(object):\n",
    "    def __init__(self):\n",
    "        '''\n",
    "        Class constructor or initialization method.\n",
    "        '''\n",
    "    def predict(self):\n",
    "        self.clf.fit(self.X, self.y)\n",
    "        for x, y in zip(self.X,self.y):\n",
    "            print(\"{} {}\".format(self.clf.predict(x),y))\n",
    "    \n",
    "    def validate(self, splits=10, test=0.1):\n",
    "        cv = ShuffleSplit(n_splits=splits, test_size=test)\n",
    "        scores = cross_val_score(self.clf, self.X, self.y, cv=cv)\n",
    "        return scores.mean()\n",
    "        \n",
    "    def train_score(self):\n",
    "        return self.clf.score(self.X,self.y)\n",
    "        \n",
    "    def load_data(self, data, threshold=0, num_hours=1):\n",
    "        # Check market change\n",
    "        #data['grew'] = np.select([data['pDelta']>threshold,data['pDelta']<-threshold],[1,-1],default=0)\n",
    "        \n",
    "        self.x ={}\n",
    "        self.y ={}\n",
    "        \n",
    "        hours = data.timeId.unique()\n",
    "        hours.sort()\n",
    "        count = 0\n",
    "        index = 0\n",
    "        change = 1\n",
    "        remap = {}\n",
    "        \n",
    "        for hour in hours:\n",
    "            change *= 1+data.loc[data['timeId']==hour].iloc[0]['pDelta']\n",
    "            remap[hour] = index\n",
    "            count += 1\n",
    "            if count >= num_hours:\n",
    "                self.x[index] = defaultdict(int)\n",
    "                if change > 1+threshold:\n",
    "                    self.y[index] = 1\n",
    "                elif change < 1-threshold:\n",
    "                    self.y[index] = -1\n",
    "                else:\n",
    "                    self.y[index] = 0\n",
    "                count = 0\n",
    "                change = 1\n",
    "                index += 1\n",
    "        #handle potential end missing\n",
    "        if count>0:\n",
    "            self.x[index] = defaultdict(int)\n",
    "            if change > 1+threshold:\n",
    "                self.y[index] = 1\n",
    "            elif change < 1-threshold:\n",
    "                self.y[index] = -1\n",
    "            else:\n",
    "                self.y[index] = 0\n",
    "            \n",
    "            \n",
    "        wnl = WordNetLemmatizer()\n",
    "        stemmer = PorterStemmer()\n",
    "        stopset = stopwords.words('english')\n",
    "        ignore = str.maketrans('', '', string.punctuation+string.digits)\n",
    "        for index, row in data.iterrows():\n",
    "            tag = remap[row['timeId']]\n",
    "            words = set()\n",
    "            line = row['text'].translate(ignore)\n",
    "            tokens = word_tokenize(line)\n",
    "            tokens = [ stemmer.stem(token.lower()) for token in tokens ]\n",
    "            tokens = [w for w in tokens if not w in stopset]\n",
    "            bigrm = bigrams(tokens)\n",
    "#             trigrm = trigrams(tokens)\n",
    "            for word in tokens:\n",
    "                words.add(word)\n",
    "            for word in words:\n",
    "                self.x[tag][word] += 1\n",
    "            for gram in bigrm:\n",
    "                word = gram[0]+gram[1]\n",
    "                self.x[tag][word] += 1\n",
    "#             for gram in trigrm:\n",
    "#                 word = gram[0]+gram[1]+gram[2]\n",
    "#                 self.x[tag][word] += 1\n",
    "                \n",
    "        self.x = [self.x[key] for key in sorted(self.x.keys())]\n",
    "        self.y = [self.y[key] for key in sorted(self.y.keys())]\n",
    "        v = DictVectorizer()\n",
    "        self.X = v.fit_transform(self.x)\n",
    "        self.Y = self.y[:]\n",
    "    \n",
    "    def trim(self):\n",
    "        new_x = []\n",
    "        new_y = []\n",
    "        for a, b in zip(self.x, self.y):\n",
    "            if len(a) > 0:\n",
    "                new_x.append(a)\n",
    "                new_y.append(b)\n",
    "        self.x=new_x\n",
    "        self.y=new_y\n",
    "    def shift(self, shift):\n",
    "        v = DictVectorizer()\n",
    "        self.X = v.fit_transform(self.x[:len(self.x)-shift])\n",
    "        self.Y = self.y[shift:]"
   ]
  },
  {
   "cell_type": "code",
   "execution_count": 481,
   "metadata": {},
   "outputs": [],
   "source": [
    "def plot_confusion_matrix(cm, classes, title='Confusion matrix', cmap=plt.cm.Blues):\n",
    "    plt.imshow(cm, interpolation='nearest', cmap=cmap)\n",
    "    plt.title(title)\n",
    "    plt.colorbar()\n",
    "    tick_marks = np.arange(len(classes))\n",
    "    plt.xticks(tick_marks, classes, rotation=90)\n",
    "    plt.yticks(tick_marks, classes)\n",
    "\n",
    "    fmt = 'd'\n",
    "    thresh = cm.max() / 2.\n",
    "    for i, j in itertools.product(range(cm.shape[0]), range(cm.shape[1])):\n",
    "        plt.text(j, i, format(cm[i, j], fmt),horizontalalignment=\"center\",color=\"white\" if cm[i, j] > thresh else \"black\")\n",
    "\n",
    "    plt.tight_layout()\n",
    "    plt.ylabel('True label')\n",
    "    plt.xlabel('Predicted label')"
   ]
  },
  {
   "cell_type": "code",
   "execution_count": 482,
   "metadata": {},
   "outputs": [],
   "source": [
    "data = pd.read_pickle('Data/Cleaned/temporary_processed_data.pkl')"
   ]
  },
  {
   "cell_type": "code",
   "execution_count": 483,
   "metadata": {},
   "outputs": [],
   "source": [
    "d = Data()\n",
    "d.load_data(data, num_hours=2, threshold = 0.005)"
   ]
  },
  {
   "cell_type": "code",
   "execution_count": 453,
   "metadata": {},
   "outputs": [],
   "source": [
    "score_l = list()\n",
    "for i in range(25):\n",
    "    d.shift(i)\n",
    "    clf = svm.SVC(kernel='linear',C=0.75)\n",
    "    scores = cross_val_score(clf, d.X, d.Y, cv=5)\n",
    "    score_l.append(scores.mean())"
   ]
  },
  {
   "cell_type": "code",
   "execution_count": 454,
   "metadata": {},
   "outputs": [
    {
     "data": {
      "image/png": "[encoded data removed]",
      "text/plain": [
       "<matplotlib.figure.Figure at 0x1a35fd25f8>"
      ]
     },
     "metadata": {},
     "output_type": "display_data"
    }
   ],
   "source": [
    "df = pd.DataFrame()\n",
    "df['Number of Hours'] = list(range(len(score_l)))\n",
    "df['Accuracy'] = score_l\n",
    "sb.regplot(x=\"Number of Hours\",y=\"Accuracy\",data=df)\n",
    "plt.title(\"Time Delay (2 Hour Groups)\")\n",
    "plt.savefig(\"time_delay_double.png\")"
   ]
  },
  {
   "cell_type": "code",
   "execution_count": 386,
   "metadata": {},
   "outputs": [],
   "source": [
    "d.shift(0)"
   ]
  },
  {
   "cell_type": "code",
   "execution_count": 387,
   "metadata": {},
   "outputs": [
    {
     "name": "stdout",
     "output_type": "stream",
     "text": [
      "0.14184397163120568\n"
     ]
    }
   ],
   "source": [
    "print(sum(d.y)/len(d.y))"
   ]
  },
  {
   "cell_type": "code",
   "execution_count": 511,
   "metadata": {},
   "outputs": [],
   "source": [
    "X_train, X_test, y_train, y_test = train_test_split(d.X, d.Y, test_size=0.2)"
   ]
  },
  {
   "cell_type": "code",
   "execution_count": 512,
   "metadata": {},
   "outputs": [
    {
     "name": "stdout",
     "output_type": "stream",
     "text": [
      "             precision    recall  f1-score   support\n",
      "\n",
      "         -1       0.25      0.25      0.25         8\n",
      "          0       0.00      0.00      0.00         7\n",
      "          1       0.39      0.50      0.44        14\n",
      "\n",
      "avg / total       0.26      0.31      0.28        29\n",
      "\n",
      "0.3103448275862069\n"
     ]
    },
    {
     "data": {
      "image/png": "[encoded data removed]",
      "text/plain": [
       "<matplotlib.figure.Figure at 0x11ba10630>"
      ]
     },
     "metadata": {},
     "output_type": "display_data"
    }
   ],
   "source": [
    "clf = svm.SVC(kernel='linear',C=0.75)\n",
    "clf.fit(X_train,y_train)\n",
    "predictions = clf.predict(X_test)\n",
    "cnf_matrix = confusion_matrix(y_test,predictions)\n",
    "plot_confusion_matrix(cnf_matrix,['Negative','Neutral','Positive'],title=\"SVM Confusion Matrix\")\n",
    "print(classification_report(y_test,predictions))\n",
    "print(clf.score(X_test,y_test))\n",
    "plt.savefig(\"svm_cm.png\")"
   ]
  },
  {
   "cell_type": "code",
   "execution_count": 488,
   "metadata": {},
   "outputs": [
    {
     "name": "stdout",
     "output_type": "stream",
     "text": [
      "             precision    recall  f1-score   support\n",
      "\n",
      "         -1       0.29      0.29      0.29         7\n",
      "          0       0.40      0.40      0.40         5\n",
      "          1       0.59      0.59      0.59        17\n",
      "\n",
      "avg / total       0.48      0.48      0.48        29\n",
      "\n",
      "0.4827586206896552\n"
     ]
    },
    {
     "data": {
      "image/png": "[encoded data removed]",
      "text/plain": [
       "<matplotlib.figure.Figure at 0x1a1ff15470>"
      ]
     },
     "metadata": {},
     "output_type": "display_data"
    }
   ],
   "source": [
    "clf = LogisticRegression()\n",
    "clf.fit(X_train,y_train)\n",
    "predictions = clf.predict(X_test)\n",
    "cnf_matrix = confusion_matrix(y_test,predictions)\n",
    "plot_confusion_matrix(cnf_matrix,['Negative','Neutral','Positive'],title=\"Logistic Reg Confusion Matrix\")\n",
    "print(classification_report(y_test,predictions))\n",
    "print(clf.score(X_test,y_test))\n",
    "plt.savefig(\"log_cm.png\")"
   ]
  },
  {
   "cell_type": "code",
   "execution_count": 489,
   "metadata": {},
   "outputs": [
    {
     "name": "stdout",
     "output_type": "stream",
     "text": [
      "             precision    recall  f1-score   support\n",
      "\n",
      "         -1       0.00      0.00      0.00         7\n",
      "          0       0.00      0.00      0.00         5\n",
      "          1       0.56      0.82      0.67        17\n",
      "\n",
      "avg / total       0.33      0.48      0.39        29\n",
      "\n",
      "0.4827586206896552\n"
     ]
    },
    {
     "data": {
      "image/png": "[encoded data removed]",
      "text/plain": [
       "<matplotlib.figure.Figure at 0x11a610e10>"
      ]
     },
     "metadata": {},
     "output_type": "display_data"
    }
   ],
   "source": [
    "clf = MultinomialNB()\n",
    "clf.fit(X_train,y_train)\n",
    "predictions = clf.predict(X_test)\n",
    "cnf_matrix = confusion_matrix(y_test,predictions)\n",
    "plot_confusion_matrix(cnf_matrix,['Negative','Neutral','Positive'],title=\"Naive Bayes Confusion Matrix\")\n",
    "print(classification_report(y_test,predictions))\n",
    "print(clf.score(X_test,y_test))\n",
    "plt.savefig(\"nb_cm.png\")"
   ]
  },
  {
   "cell_type": "code",
   "execution_count": 490,
   "metadata": {},
   "outputs": [
    {
     "name": "stdout",
     "output_type": "stream",
     "text": [
      "             precision    recall  f1-score   support\n",
      "\n",
      "         -1       0.00      0.00      0.00         7\n",
      "          0       0.00      0.00      0.00         5\n",
      "          1       0.59      1.00      0.74        17\n",
      "\n",
      "avg / total       0.34      0.59      0.43        29\n",
      "\n",
      "0.4827586206896552\n"
     ]
    },
    {
     "name": "stderr",
     "output_type": "stream",
     "text": [
      "/Users/moslin/anaconda3/lib/python3.6/site-packages/sklearn/metrics/classification.py:1135: UndefinedMetricWarning: Precision and F-score are ill-defined and being set to 0.0 in labels with no predicted samples.\n",
      "  'precision', 'predicted', average, warn_for)\n"
     ]
    },
    {
     "data": {
      "image/png": "[encoded data removed]",
      "text/plain": [
       "<matplotlib.figure.Figure at 0x1a39fef198>"
      ]
     },
     "metadata": {},
     "output_type": "display_data"
    }
   ],
   "source": [
    "mlp = MLPClassifier(hidden_layer_sizes=(50,50))\n",
    "mlp.fit(X_train,y_train)\n",
    "predictions = mlp.predict(X_test)\n",
    "cnf_matrix = confusion_matrix(y_test,predictions)\n",
    "plot_confusion_matrix(cnf_matrix,['Negative','Neutral','Positive'],title=\"Neural Net Confusion Matrix\")\n",
    "print(classification_report(y_test,predictions))\n",
    "print(clf.score(X_test,y_test))\n",
    "plt.savefig(\"nn_cm.png\")"
   ]
  },
  {
   "cell_type": "code",
   "execution_count": 477,
   "metadata": {},
   "outputs": [
    {
     "name": "stdout",
     "output_type": "stream",
     "text": [
      "{'C': 0.5}\n",
      "0.3914590747330961\n"
     ]
    }
   ],
   "source": [
    "svc = svm.SVC(kernel='linear')\n",
    "parameters = {'C':[0.5, 0.75, 1.0, 1.25, 1.5]}#,'kernel':('linear', 'rbf')}\n",
    "clf = GridSearchCV(svc, parameters)\n",
    "clf.fit(d.X, d.Y)\n",
    "print(clf.best_params_)\n",
    "print(clf.best_score_)"
   ]
  },
  {
   "cell_type": "code",
   "execution_count": 478,
   "metadata": {},
   "outputs": [
    {
     "name": "stdout",
     "output_type": "stream",
     "text": [
      "             precision    recall  f1-score   support\n",
      "\n",
      "         -1       1.00      1.00      1.00        72\n",
      "          0       1.00      1.00      1.00       116\n",
      "          1       1.00      1.00      1.00        93\n",
      "\n",
      "avg / total       1.00      1.00      1.00       281\n",
      "\n"
     ]
    },
    {
     "data": {
      "image/png": "[encoded data removed]",
      "text/plain": [
       "<matplotlib.figure.Figure at 0x1a2475cdd8>"
      ]
     },
     "metadata": {},
     "output_type": "display_data"
    }
   ],
   "source": [
    "predictions = clf.predict(d.X)\n",
    "cnf_matrix = confusion_matrix(d.Y,predictions)\n",
    "plot_confusion_matrix(cnf_matrix,['Negative','Neutral','Positive'])\n",
    "print(classification_report(d.Y,predictions))"
   ]
  },
  {
   "cell_type": "code",
   "execution_count": null,
   "metadata": {},
   "outputs": [],
   "source": []
  },
  {
   "cell_type": "code",
   "execution_count": null,
   "metadata": {},
   "outputs": [],
   "source": []
  }
 ],
 "metadata": {
  "kernelspec": {
   "display_name": "Python 3",
   "language": "python",
   "name": "python3"
  },
  "language_info": {
   "codemirror_mode": {
    "name": "ipython",
    "version": 3
   },
   "file_extension": ".py",
   "mimetype": "text/x-python",
   "name": "python",
   "nbconvert_exporter": "python",
   "pygments_lexer": "ipython3",
   "version": "3.6.4"
  }
 },
 "nbformat": 4,
 "nbformat_minor": 2
}
