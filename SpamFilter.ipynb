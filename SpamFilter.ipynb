{
 "cells": [
  {
   "cell_type": "code",
   "execution_count": 31,
   "metadata": {},
   "outputs": [],
   "source": [
    "import pandas as pd\n",
    "import numpy as np\n",
    "from sklearn.feature_extraction.text import CountVectorizer\n",
    "from regularize import regularize_urls, regularize_numbers\n",
    "from tqdm import tqdm_notebook as tqdm"
   ]
  },
  {
   "cell_type": "code",
   "execution_count": 19,
   "metadata": {},
   "outputs": [],
   "source": [
    "## Load Data\n",
    "path = 'Data/Cleaned/xrp_cleaned_date.pkl'\n",
    "\n",
    "data_df = pd.read_pickle(path)"
   ]
  },
  {
   "cell_type": "code",
   "execution_count": 29,
   "metadata": {},
   "outputs": [
    {
     "data": {
      "text/html": [
       "<div>\n",
       "<style>\n",
       "    .dataframe thead tr:only-child th {\n",
       "        text-align: right;\n",
       "    }\n",
       "\n",
       "    .dataframe thead th {\n",
       "        text-align: left;\n",
       "    }\n",
       "\n",
       "    .dataframe tbody tr th {\n",
       "        vertical-align: top;\n",
       "    }\n",
       "</style>\n",
       "<table border=\"1\" class=\"dataframe\">\n",
       "  <thead>\n",
       "    <tr style=\"text-align: right;\">\n",
       "      <th></th>\n",
       "      <th>ID</th>\n",
       "      <th>datetime</th>\n",
       "      <th>is_reply</th>\n",
       "      <th>is_retweet</th>\n",
       "      <th>nbr_favorite</th>\n",
       "      <th>nbr_reply</th>\n",
       "      <th>nbr_retweet</th>\n",
       "      <th>text</th>\n",
       "      <th>url</th>\n",
       "      <th>user_id</th>\n",
       "      <th>usernameTweet</th>\n",
       "      <th>has_media</th>\n",
       "      <th>medias</th>\n",
       "      <th>rounded_dateTime</th>\n",
       "    </tr>\n",
       "  </thead>\n",
       "  <tbody>\n",
       "    <tr>\n",
       "      <th>0</th>\n",
       "      <td>9.885302e+17</td>\n",
       "      <td>2018-04-23 17:29:08</td>\n",
       "      <td>0.0</td>\n",
       "      <td>0.0</td>\n",
       "      <td>0.0</td>\n",
       "      <td>0.0</td>\n",
       "      <td>0.0</td>\n",
       "      <td>New post (Could  Ripple   XRP  Really Reach $1...</td>\n",
       "      <td>/ExcelVisibility/status/988530235493748736</td>\n",
       "      <td>815322320</td>\n",
       "      <td>ExcelVisibility</td>\n",
       "      <td>NaN</td>\n",
       "      <td>NaN</td>\n",
       "      <td>2018-04-23 18:00:00</td>\n",
       "    </tr>\n",
       "    <tr>\n",
       "      <th>1</th>\n",
       "      <td>9.847927e+17</td>\n",
       "      <td>2018-04-13 09:57:41</td>\n",
       "      <td>0.0</td>\n",
       "      <td>0.0</td>\n",
       "      <td>0.0</td>\n",
       "      <td>0.0</td>\n",
       "      <td>0.0</td>\n",
       "      <td>Did you know that you can buy, sell, store, co...</td>\n",
       "      <td>/coindirectcom/status/984792745666580481</td>\n",
       "      <td>915453520924545025</td>\n",
       "      <td>coindirectcom</td>\n",
       "      <td>1.0</td>\n",
       "      <td>[https://t.co/h1CTJHGwPs]</td>\n",
       "      <td>2018-04-13 10:00:00</td>\n",
       "    </tr>\n",
       "    <tr>\n",
       "      <th>2</th>\n",
       "      <td>9.863800e+17</td>\n",
       "      <td>2018-04-17 19:05:02</td>\n",
       "      <td>0.0</td>\n",
       "      <td>0.0</td>\n",
       "      <td>0.0</td>\n",
       "      <td>0.0</td>\n",
       "      <td>0.0</td>\n",
       "      <td>1  Ripple  = 0.6589 USD.  Ripple  has changed ...</td>\n",
       "      <td>/RippleMarket/status/986380040517701633</td>\n",
       "      <td>848989770923601922</td>\n",
       "      <td>RippleMarket</td>\n",
       "      <td>NaN</td>\n",
       "      <td>NaN</td>\n",
       "      <td>2018-04-17 20:00:00</td>\n",
       "    </tr>\n",
       "    <tr>\n",
       "      <th>3</th>\n",
       "      <td>9.853410e+17</td>\n",
       "      <td>2018-04-14 22:16:19</td>\n",
       "      <td>0.0</td>\n",
       "      <td>0.0</td>\n",
       "      <td>0.0</td>\n",
       "      <td>0.0</td>\n",
       "      <td>1.0</td>\n",
       "      <td># Batteries  #ITO  #ICO  #Token  #TokenSale  #...</td>\n",
       "      <td>/nsdelpitiya/status/985341014339608576</td>\n",
       "      <td>880003387672088576</td>\n",
       "      <td>nsdelpitiya</td>\n",
       "      <td>NaN</td>\n",
       "      <td>NaN</td>\n",
       "      <td>2018-04-14 23:00:00</td>\n",
       "    </tr>\n",
       "    <tr>\n",
       "      <th>4</th>\n",
       "      <td>9.866047e+17</td>\n",
       "      <td>2018-04-18 09:57:42</td>\n",
       "      <td>0.0</td>\n",
       "      <td>0.0</td>\n",
       "      <td>0.0</td>\n",
       "      <td>0.0</td>\n",
       "      <td>0.0</td>\n",
       "      <td>How Is #Ripple  Different From All Other #Cryp...</td>\n",
       "      <td>/Matthix191/status/986604686856933376</td>\n",
       "      <td>916641996823031808</td>\n",
       "      <td>Matthix191</td>\n",
       "      <td>1.0</td>\n",
       "      <td>[https://t.co/xF5l49lz8P]</td>\n",
       "      <td>2018-04-18 10:00:00</td>\n",
       "    </tr>\n",
       "  </tbody>\n",
       "</table>\n",
       "</div>"
      ],
      "text/plain": [
       "             ID            datetime  is_reply  is_retweet  nbr_favorite  \\\n",
       "0  9.885302e+17 2018-04-23 17:29:08       0.0         0.0           0.0   \n",
       "1  9.847927e+17 2018-04-13 09:57:41       0.0         0.0           0.0   \n",
       "2  9.863800e+17 2018-04-17 19:05:02       0.0         0.0           0.0   \n",
       "3  9.853410e+17 2018-04-14 22:16:19       0.0         0.0           0.0   \n",
       "4  9.866047e+17 2018-04-18 09:57:42       0.0         0.0           0.0   \n",
       "\n",
       "   nbr_reply  nbr_retweet                                               text  \\\n",
       "0        0.0          0.0  New post (Could  Ripple   XRP  Really Reach $1...   \n",
       "1        0.0          0.0  Did you know that you can buy, sell, store, co...   \n",
       "2        0.0          0.0  1  Ripple  = 0.6589 USD.  Ripple  has changed ...   \n",
       "3        0.0          1.0  # Batteries  #ITO  #ICO  #Token  #TokenSale  #...   \n",
       "4        0.0          0.0  How Is #Ripple  Different From All Other #Cryp...   \n",
       "\n",
       "                                          url             user_id  \\\n",
       "0  /ExcelVisibility/status/988530235493748736           815322320   \n",
       "1    /coindirectcom/status/984792745666580481  915453520924545025   \n",
       "2     /RippleMarket/status/986380040517701633  848989770923601922   \n",
       "3      /nsdelpitiya/status/985341014339608576  880003387672088576   \n",
       "4       /Matthix191/status/986604686856933376  916641996823031808   \n",
       "\n",
       "     usernameTweet  has_media                     medias    rounded_dateTime  \n",
       "0  ExcelVisibility        NaN                        NaN 2018-04-23 18:00:00  \n",
       "1    coindirectcom        1.0  [https://t.co/h1CTJHGwPs] 2018-04-13 10:00:00  \n",
       "2     RippleMarket        NaN                        NaN 2018-04-17 20:00:00  \n",
       "3      nsdelpitiya        NaN                        NaN 2018-04-14 23:00:00  \n",
       "4       Matthix191        1.0  [https://t.co/xF5l49lz8P] 2018-04-18 10:00:00  "
      ]
     },
     "execution_count": 29,
     "metadata": {},
     "output_type": "execute_result"
    }
   ],
   "source": [
    "data_df.head()"
   ]
  },
  {
   "cell_type": "code",
   "execution_count": 36,
   "metadata": {
    "collapsed": true
   },
   "outputs": [],
   "source": [
    "## Find most common words\n",
    "\n",
    "def top_kwords(data_df, vec, k):\n",
    "    X = vec.fit_transform(data_df['text'].values)\n",
    "    labels = vec.get_feature_names()\n",
    "    \n",
    "    return pd.DataFrame(columns = labels, data = X.toarray()).sum().sort_values(ascending = False)[:k]"
   ]
  },
  {
   "cell_type": "code",
   "execution_count": 33,
   "metadata": {
    "collapsed": true
   },
   "outputs": [],
   "source": [
    "vec = CountVectorizer(decode_error = 'ignore', stop_words = 'english')\n",
    "X = vec.fit_transform(data_df['text'].values)"
   ]
  },
  {
   "cell_type": "code",
   "execution_count": 38,
   "metadata": {},
   "outputs": [
    {
     "data": {
      "text/plain": [
       "xrp               31783\n",
       "ripple            30923\n",
       "com               16965\n",
       "https             12731\n",
       "btc               10427\n",
       "bitcoin            9934\n",
       "eth                9446\n",
       "twitter            8292\n",
       "crypto             8255\n",
       "price              7144\n",
       "trx                6616\n",
       "binance            6439\n",
       "ethereum           6399\n",
       "pic                6266\n",
       "airdrop            5776\n",
       "blockchain         5699\n",
       "cryptocurrency     5340\n",
       "http               5041\n",
       "tron               4517\n",
       "ltc                4482\n",
       "freetoken          4391\n",
       "usd                3610\n",
       "litecoin           3205\n",
       "bounty             3127\n",
       "krw                3126\n",
       "04                 2968\n",
       "token              2955\n",
       "xvg                2673\n",
       "news               2669\n",
       "2018               2651\n",
       "dtype: int64"
      ]
     },
     "execution_count": 38,
     "metadata": {},
     "output_type": "execute_result"
    }
   ],
   "source": [
    "top_words = top_kwords(data_df, vec, 30)\n",
    "\n",
    "top_words"
   ]
  },
  {
   "cell_type": "code",
   "execution_count": null,
   "metadata": {
    "collapsed": true
   },
   "outputs": [],
   "source": []
  },
  {
   "cell_type": "code",
   "execution_count": null,
   "metadata": {
    "collapsed": true
   },
   "outputs": [],
   "source": []
  },
  {
   "cell_type": "code",
   "execution_count": null,
   "metadata": {
    "collapsed": true
   },
   "outputs": [],
   "source": []
  }
 ],
 "metadata": {
  "kernelspec": {
   "display_name": "Python 3",
   "language": "python",
   "name": "python3"
  },
  "language_info": {
   "codemirror_mode": {
    "name": "ipython",
    "version": 3
   },
   "file_extension": ".py",
   "mimetype": "text/x-python",
   "name": "python",
   "nbconvert_exporter": "python",
   "pygments_lexer": "ipython3",
   "version": "3.6.3"
  }
 },
 "nbformat": 4,
 "nbformat_minor": 2
}
