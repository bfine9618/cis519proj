{
 "cells": [
  {
   "cell_type": "code",
   "execution_count": 57,
   "metadata": {
    "collapsed": true
   },
   "outputs": [],
   "source": [
    "import numpy as np\n",
    "import pandas as pd\n",
    "import re\n",
    "from bs4 import BeautifulSoup\n",
    "from nltk.tokenize import WordPunctTokenizer\n",
    "from sklearn.metrics import classification_report\n",
    "\n",
    "import matplotlib.pyplot as plt\n",
    "import seaborn as sns\n",
    "% matplotlib inline\n",
    "import time"
   ]
  },
  {
   "cell_type": "code",
   "execution_count": 30,
   "metadata": {
    "collapsed": true
   },
   "outputs": [],
   "source": [
    "tweets = pd.read_pickle('./Data/Cleaned/xrp_cleaned_date.pkl')"
   ]
  },
  {
   "cell_type": "code",
   "execution_count": 31,
   "metadata": {
    "collapsed": true
   },
   "outputs": [],
   "source": [
    "priceDelta = pd.read_pickle('./Data/Cleaned/xrp_delta.pkl')"
   ]
  },
  {
   "cell_type": "code",
   "execution_count": 35,
   "metadata": {
    "collapsed": false
   },
   "outputs": [],
   "source": [
    "tweets['timeId'] = tweets['rounded_dateTime'].apply(lambda t : time.mktime(t.timetuple()))"
   ]
  },
  {
   "cell_type": "code",
   "execution_count": 28,
   "metadata": {
    "collapsed": false
   },
   "outputs": [
    {
     "data": {
      "text/plain": [
       "count                   25435\n",
       "unique                    267\n",
       "top       2018-04-16 13:00:00\n",
       "freq                      221\n",
       "first     2018-04-13 08:00:00\n",
       "last      2018-04-24 10:00:00\n",
       "Name: rounded_dateTime, dtype: object"
      ]
     },
     "execution_count": 28,
     "metadata": {},
     "output_type": "execute_result"
    }
   ],
   "source": [
    "tweets['rounded_dateTime'].describe()"
   ]
  },
  {
   "cell_type": "code",
   "execution_count": 36,
   "metadata": {
    "collapsed": false
   },
   "outputs": [
    {
     "name": "stdout",
     "output_type": "stream",
     "text": [
      "<class 'pandas.core.frame.DataFrame'>\n",
      "RangeIndex: 25435 entries, 0 to 25434\n",
      "Data columns (total 15 columns):\n",
      "ID                  25435 non-null float64\n",
      "datetime            25435 non-null datetime64[ns]\n",
      "is_reply            25435 non-null float64\n",
      "is_retweet          25435 non-null float64\n",
      "nbr_favorite        25435 non-null float64\n",
      "nbr_reply           25435 non-null float64\n",
      "nbr_retweet         25435 non-null float64\n",
      "text                25435 non-null object\n",
      "url                 25435 non-null object\n",
      "user_id             25435 non-null object\n",
      "usernameTweet       25435 non-null object\n",
      "has_media           8834 non-null float64\n",
      "medias              8834 non-null object\n",
      "rounded_dateTime    25435 non-null datetime64[ns]\n",
      "timeId              25435 non-null float64\n",
      "dtypes: datetime64[ns](2), float64(8), object(5)\n",
      "memory usage: 2.9+ MB\n"
     ]
    }
   ],
   "source": [
    "tweets.info()"
   ]
  },
  {
   "cell_type": "code",
   "execution_count": 37,
   "metadata": {
    "collapsed": false
   },
   "outputs": [],
   "source": [
    "tweets = pd.merge(tweets, priceDelta, how='left', on='timeId')"
   ]
  },
  {
   "cell_type": "code",
   "execution_count": 39,
   "metadata": {
    "collapsed": false
   },
   "outputs": [
    {
     "name": "stdout",
     "output_type": "stream",
     "text": [
      "<class 'pandas.core.frame.DataFrame'>\n",
      "Int64Index: 25435 entries, 0 to 25434\n",
      "Data columns (total 17 columns):\n",
      "ID                  25435 non-null float64\n",
      "datetime            25435 non-null datetime64[ns]\n",
      "is_reply            25435 non-null float64\n",
      "is_retweet          25435 non-null float64\n",
      "nbr_favorite        25435 non-null float64\n",
      "nbr_reply           25435 non-null float64\n",
      "nbr_retweet         25435 non-null float64\n",
      "text                25435 non-null object\n",
      "url                 25435 non-null object\n",
      "user_id             25435 non-null object\n",
      "usernameTweet       25435 non-null object\n",
      "has_media           8834 non-null float64\n",
      "medias              8834 non-null object\n",
      "rounded_dateTime    25435 non-null datetime64[ns]\n",
      "timeId              25435 non-null float64\n",
      "time                25435 non-null datetime64[ns]\n",
      "pDelta              25435 non-null float64\n",
      "dtypes: datetime64[ns](3), float64(9), object(5)\n",
      "memory usage: 3.5+ MB\n"
     ]
    }
   ],
   "source": [
    "tweets.info()"
   ]
  },
  {
   "cell_type": "code",
   "execution_count": 40,
   "metadata": {
    "collapsed": false
   },
   "outputs": [
    {
     "data": {
      "text/plain": [
       "count                   25435\n",
       "unique                    267\n",
       "top       2018-04-16 13:00:00\n",
       "freq                      221\n",
       "first     2018-04-13 08:00:00\n",
       "last      2018-04-24 10:00:00\n",
       "Name: rounded_dateTime, dtype: object"
      ]
     },
     "execution_count": 40,
     "metadata": {},
     "output_type": "execute_result"
    }
   ],
   "source": [
    "tweets['rounded_dateTime'].describe(include='all')"
   ]
  },
  {
   "cell_type": "code",
   "execution_count": 41,
   "metadata": {
    "collapsed": false
   },
   "outputs": [],
   "source": [
    "# URLS\n",
    "tweets['text'] = tweets['text'].apply(lambda t : re.sub('https?://[A-Za-z0-9./]+',' ',t))\n",
    "\n",
    "#Mentions\n",
    "tweets['text'] = tweets['text'].apply(lambda t : re.sub(r'@[A-Za-z0-9]+',' ',t))\n",
    "\n",
    "#Hashtags\n",
    "tweets['text'] = tweets['text'].apply(lambda t : re.sub(\"[^a-zA-Z]\", \" \", t))"
   ]
  },
  {
   "cell_type": "code",
   "execution_count": 42,
   "metadata": {
    "collapsed": true
   },
   "outputs": [],
   "source": [
    "tok = WordPunctTokenizer()\n",
    "pat1 = r'@[A-Za-z0-9]+'\n",
    "pat2 = r'https?://[A-Za-z0-9./]+'\n",
    "combined_pat = r'|'.join((pat1, pat2))\n",
    "def tweet_cleaner(text):\n",
    "    soup = BeautifulSoup(text, 'lxml')\n",
    "    souped = soup.get_text()\n",
    "    stripped = re.sub(combined_pat, '', souped)\n",
    "    try:\n",
    "        clean = stripped.decode(\"utf-8-sig\").replace(u\"\\ufffd\", \"?\")\n",
    "    except:\n",
    "        clean = stripped\n",
    "    letters_only = re.sub(\"[^a-zA-Z]\", \" \", clean)\n",
    "    lower_case = letters_only.lower()\n",
    "    \n",
    "    # During the letters_only process two lines above, it has created unnecessay white spaces,\n",
    "    # I will tokenize and join together to remove unneccessary white spaces\n",
    "    \n",
    "    words = tok.tokenize(lower_case)\n",
    "    return (\" \".join(words)).strip()"
   ]
  },
  {
   "cell_type": "code",
   "execution_count": 43,
   "metadata": {
    "collapsed": false
   },
   "outputs": [],
   "source": [
    "tweets['text'] = tweets['text'].apply(lambda t : tweet_cleaner(t))"
   ]
  },
  {
   "cell_type": "code",
   "execution_count": 44,
   "metadata": {
    "collapsed": false
   },
   "outputs": [],
   "source": [
    "from textblob import TextBlob\n",
    " \n",
    "class TwitterClient(object):\n",
    "    '''\n",
    "    Generic Twitter Class for sentiment analysis.\n",
    "    '''\n",
    "    def __init__(self):\n",
    "        '''\n",
    "        Class constructor or initialization method.\n",
    "        '''\n",
    " \n",
    "    def clean_tweet(self, tweet):\n",
    "        '''\n",
    "        Utility function to clean tweet text by removing links, special characters\n",
    "        using simple regex statements.\n",
    "        '''\n",
    "        return ' '.join(re.sub(\"(@[A-Za-z0-9]+)|([^0-9A-Za-z \\t])\"\\\n",
    "                                    \"|(\\w+:\\/\\/\\S+)\", \" \", tweet).split())\n",
    " \n",
    "    def get_tweet_sentiment(self, tweet):\n",
    "        '''\n",
    "        Utility function to classify sentiment of passed tweet\n",
    "        using textblob's sentiment method\n",
    "        '''\n",
    "        # create TextBlob object of passed tweet text\n",
    "        analysis = TextBlob(self.clean_tweet(tweet))\n",
    "        # set sentiment\n",
    "        if analysis.sentiment.polarity > 0:\n",
    "            return 'positive'\n",
    "        elif analysis.sentiment.polarity == 0:\n",
    "            return 'neutral'\n",
    "        else:\n",
    "            return 'negative'"
   ]
  },
  {
   "cell_type": "code",
   "execution_count": 46,
   "metadata": {
    "collapsed": true
   },
   "outputs": [],
   "source": [
    "tc = TwitterClient()"
   ]
  },
  {
   "cell_type": "code",
   "execution_count": 47,
   "metadata": {
    "collapsed": true
   },
   "outputs": [],
   "source": [
    "cleaned2 = pd.DataFrame(tweets)"
   ]
  },
  {
   "cell_type": "code",
   "execution_count": 48,
   "metadata": {
    "collapsed": false
   },
   "outputs": [],
   "source": [
    "cleaned2['tc_cleaned'] = tweets['text'].apply(lambda t : tc.clean_tweet(t))"
   ]
  },
  {
   "cell_type": "code",
   "execution_count": 49,
   "metadata": {
    "collapsed": true
   },
   "outputs": [],
   "source": [
    "cleaned2['tc_sentiment'] = cleaned2['tc_cleaned'].apply(lambda t : tc.get_tweet_sentiment(t))"
   ]
  },
  {
   "cell_type": "code",
   "execution_count": 50,
   "metadata": {
    "collapsed": false
   },
   "outputs": [
    {
     "data": {
      "text/html": [
       "<div>\n",
       "<style>\n",
       "    .dataframe thead tr:only-child th {\n",
       "        text-align: right;\n",
       "    }\n",
       "\n",
       "    .dataframe thead th {\n",
       "        text-align: left;\n",
       "    }\n",
       "\n",
       "    .dataframe tbody tr th {\n",
       "        vertical-align: top;\n",
       "    }\n",
       "</style>\n",
       "<table border=\"1\" class=\"dataframe\">\n",
       "  <thead>\n",
       "    <tr style=\"text-align: right;\">\n",
       "      <th></th>\n",
       "      <th>ID</th>\n",
       "      <th>datetime</th>\n",
       "      <th>is_reply</th>\n",
       "      <th>is_retweet</th>\n",
       "      <th>nbr_favorite</th>\n",
       "      <th>nbr_reply</th>\n",
       "      <th>nbr_retweet</th>\n",
       "      <th>text</th>\n",
       "      <th>url</th>\n",
       "      <th>user_id</th>\n",
       "      <th>usernameTweet</th>\n",
       "      <th>has_media</th>\n",
       "      <th>medias</th>\n",
       "      <th>rounded_dateTime</th>\n",
       "      <th>timeId</th>\n",
       "      <th>time</th>\n",
       "      <th>pDelta</th>\n",
       "      <th>tc_cleaned</th>\n",
       "      <th>tc_sentiment</th>\n",
       "    </tr>\n",
       "  </thead>\n",
       "  <tbody>\n",
       "    <tr>\n",
       "      <th>0</th>\n",
       "      <td>9.885302e+17</td>\n",
       "      <td>2018-04-23 17:29:08</td>\n",
       "      <td>0.0</td>\n",
       "      <td>0.0</td>\n",
       "      <td>0.0</td>\n",
       "      <td>0.0</td>\n",
       "      <td>0.0</td>\n",
       "      <td>new post could ripple xrp really reach in days...</td>\n",
       "      <td>/ExcelVisibility/status/988530235493748736</td>\n",
       "      <td>815322320</td>\n",
       "      <td>ExcelVisibility</td>\n",
       "      <td>NaN</td>\n",
       "      <td>NaN</td>\n",
       "      <td>2018-04-23 18:00:00</td>\n",
       "      <td>1.524521e+09</td>\n",
       "      <td>2018-04-23 18:00:00</td>\n",
       "      <td>0.002178</td>\n",
       "      <td>new post could ripple xrp really reach in days...</td>\n",
       "      <td>positive</td>\n",
       "    </tr>\n",
       "    <tr>\n",
       "      <th>1</th>\n",
       "      <td>9.847927e+17</td>\n",
       "      <td>2018-04-13 09:57:41</td>\n",
       "      <td>0.0</td>\n",
       "      <td>0.0</td>\n",
       "      <td>0.0</td>\n",
       "      <td>0.0</td>\n",
       "      <td>0.0</td>\n",
       "      <td>did you know that you can buy sell store conve...</td>\n",
       "      <td>/coindirectcom/status/984792745666580481</td>\n",
       "      <td>915453520924545025</td>\n",
       "      <td>coindirectcom</td>\n",
       "      <td>1.0</td>\n",
       "      <td>[https://t.co/h1CTJHGwPs]</td>\n",
       "      <td>2018-04-13 10:00:00</td>\n",
       "      <td>1.523628e+09</td>\n",
       "      <td>2018-04-13 10:00:00</td>\n",
       "      <td>-0.004874</td>\n",
       "      <td>did you know that you can buy sell store conve...</td>\n",
       "      <td>negative</td>\n",
       "    </tr>\n",
       "    <tr>\n",
       "      <th>2</th>\n",
       "      <td>9.863800e+17</td>\n",
       "      <td>2018-04-17 19:05:02</td>\n",
       "      <td>0.0</td>\n",
       "      <td>0.0</td>\n",
       "      <td>0.0</td>\n",
       "      <td>0.0</td>\n",
       "      <td>0.0</td>\n",
       "      <td>ripple usd ripple has changed by usd in mins l...</td>\n",
       "      <td>/RippleMarket/status/986380040517701633</td>\n",
       "      <td>848989770923601922</td>\n",
       "      <td>RippleMarket</td>\n",
       "      <td>NaN</td>\n",
       "      <td>NaN</td>\n",
       "      <td>2018-04-17 20:00:00</td>\n",
       "      <td>1.524010e+09</td>\n",
       "      <td>2018-04-17 20:00:00</td>\n",
       "      <td>0.007330</td>\n",
       "      <td>ripple usd ripple has changed by usd in mins l...</td>\n",
       "      <td>positive</td>\n",
       "    </tr>\n",
       "    <tr>\n",
       "      <th>3</th>\n",
       "      <td>9.853410e+17</td>\n",
       "      <td>2018-04-14 22:16:19</td>\n",
       "      <td>0.0</td>\n",
       "      <td>0.0</td>\n",
       "      <td>0.0</td>\n",
       "      <td>0.0</td>\n",
       "      <td>1.0</td>\n",
       "      <td>batteries ito ico token tokensale invest crypt...</td>\n",
       "      <td>/nsdelpitiya/status/985341014339608576</td>\n",
       "      <td>880003387672088576</td>\n",
       "      <td>nsdelpitiya</td>\n",
       "      <td>NaN</td>\n",
       "      <td>NaN</td>\n",
       "      <td>2018-04-14 23:00:00</td>\n",
       "      <td>1.523761e+09</td>\n",
       "      <td>2018-04-14 23:00:00</td>\n",
       "      <td>-0.003548</td>\n",
       "      <td>batteries ito ico token tokensale invest crypt...</td>\n",
       "      <td>neutral</td>\n",
       "    </tr>\n",
       "    <tr>\n",
       "      <th>4</th>\n",
       "      <td>9.866047e+17</td>\n",
       "      <td>2018-04-18 09:57:42</td>\n",
       "      <td>0.0</td>\n",
       "      <td>0.0</td>\n",
       "      <td>0.0</td>\n",
       "      <td>0.0</td>\n",
       "      <td>0.0</td>\n",
       "      <td>how is ripple different from all other cryptoc...</td>\n",
       "      <td>/Matthix191/status/986604686856933376</td>\n",
       "      <td>916641996823031808</td>\n",
       "      <td>Matthix191</td>\n",
       "      <td>1.0</td>\n",
       "      <td>[https://t.co/xF5l49lz8P]</td>\n",
       "      <td>2018-04-18 10:00:00</td>\n",
       "      <td>1.524060e+09</td>\n",
       "      <td>2018-04-18 10:00:00</td>\n",
       "      <td>-0.014478</td>\n",
       "      <td>how is ripple different from all other cryptoc...</td>\n",
       "      <td>negative</td>\n",
       "    </tr>\n",
       "    <tr>\n",
       "      <th>5</th>\n",
       "      <td>9.852602e+17</td>\n",
       "      <td>2018-04-14 16:55:20</td>\n",
       "      <td>0.0</td>\n",
       "      <td>0.0</td>\n",
       "      <td>0.0</td>\n",
       "      <td>0.0</td>\n",
       "      <td>0.0</td>\n",
       "      <td>walmart and moneygram partnership could pump r...</td>\n",
       "      <td>/vandecrypto/status/985260236238934018</td>\n",
       "      <td>943489871758405632</td>\n",
       "      <td>vandecrypto</td>\n",
       "      <td>1.0</td>\n",
       "      <td>[https://t.co/LxwR2chVOy]</td>\n",
       "      <td>2018-04-14 17:00:00</td>\n",
       "      <td>1.523740e+09</td>\n",
       "      <td>2018-04-14 17:00:00</td>\n",
       "      <td>-0.003227</td>\n",
       "      <td>walmart and moneygram partnership could pump r...</td>\n",
       "      <td>neutral</td>\n",
       "    </tr>\n",
       "    <tr>\n",
       "      <th>6</th>\n",
       "      <td>9.860333e+17</td>\n",
       "      <td>2018-04-16 20:07:13</td>\n",
       "      <td>1.0</td>\n",
       "      <td>0.0</td>\n",
       "      <td>0.0</td>\n",
       "      <td>1.0</td>\n",
       "      <td>0.0</td>\n",
       "      <td>this is not fake news look at our references w...</td>\n",
       "      <td>/sniperstube/status/986033300136316928</td>\n",
       "      <td>921966736303362048</td>\n",
       "      <td>sniperstube</td>\n",
       "      <td>NaN</td>\n",
       "      <td>NaN</td>\n",
       "      <td>2018-04-16 21:00:00</td>\n",
       "      <td>1.523927e+09</td>\n",
       "      <td>2018-04-16 21:00:00</td>\n",
       "      <td>-0.004528</td>\n",
       "      <td>this is not fake news look at our references w...</td>\n",
       "      <td>positive</td>\n",
       "    </tr>\n",
       "    <tr>\n",
       "      <th>7</th>\n",
       "      <td>9.865902e+17</td>\n",
       "      <td>2018-04-18 09:00:00</td>\n",
       "      <td>0.0</td>\n",
       "      <td>0.0</td>\n",
       "      <td>1.0</td>\n",
       "      <td>0.0</td>\n",
       "      <td>0.0</td>\n",
       "      <td>top cryptocurrencies current prices btc bitcoi...</td>\n",
       "      <td>/CryptoGulp/status/986590166381887488</td>\n",
       "      <td>945716745192574977</td>\n",
       "      <td>CryptoGulp</td>\n",
       "      <td>NaN</td>\n",
       "      <td>NaN</td>\n",
       "      <td>2018-04-18 10:00:00</td>\n",
       "      <td>1.524060e+09</td>\n",
       "      <td>2018-04-18 10:00:00</td>\n",
       "      <td>-0.014478</td>\n",
       "      <td>top cryptocurrencies current prices btc bitcoi...</td>\n",
       "      <td>positive</td>\n",
       "    </tr>\n",
       "    <tr>\n",
       "      <th>8</th>\n",
       "      <td>9.873616e+17</td>\n",
       "      <td>2018-04-20 12:05:20</td>\n",
       "      <td>0.0</td>\n",
       "      <td>0.0</td>\n",
       "      <td>1.0</td>\n",
       "      <td>0.0</td>\n",
       "      <td>0.0</td>\n",
       "      <td>ripple price alert the last ask price for xrp ...</td>\n",
       "      <td>/ripplebot_cs/status/987361585122480128</td>\n",
       "      <td>944577421008875521</td>\n",
       "      <td>ripplebot_cs</td>\n",
       "      <td>NaN</td>\n",
       "      <td>NaN</td>\n",
       "      <td>2018-04-20 13:00:00</td>\n",
       "      <td>1.524244e+09</td>\n",
       "      <td>2018-04-20 13:00:00</td>\n",
       "      <td>0.000232</td>\n",
       "      <td>ripple price alert the last ask price for xrp ...</td>\n",
       "      <td>neutral</td>\n",
       "    </tr>\n",
       "    <tr>\n",
       "      <th>9</th>\n",
       "      <td>9.851089e+17</td>\n",
       "      <td>2018-04-14 06:54:01</td>\n",
       "      <td>0.0</td>\n",
       "      <td>0.0</td>\n",
       "      <td>1.0</td>\n",
       "      <td>0.0</td>\n",
       "      <td>0.0</td>\n",
       "      <td>xrp amp ripple the world s financial infrastru...</td>\n",
       "      <td>/btc_current/status/985108911312093184</td>\n",
       "      <td>952620879443320832</td>\n",
       "      <td>btc_current</td>\n",
       "      <td>1.0</td>\n",
       "      <td>[https://t.co/dKr58pbYhj]</td>\n",
       "      <td>2018-04-14 07:00:00</td>\n",
       "      <td>1.523704e+09</td>\n",
       "      <td>2018-04-14 07:00:00</td>\n",
       "      <td>-0.000314</td>\n",
       "      <td>xrp amp ripple the world s financial infrastru...</td>\n",
       "      <td>neutral</td>\n",
       "    </tr>\n",
       "  </tbody>\n",
       "</table>\n",
       "</div>"
      ],
      "text/plain": [
       "             ID            datetime  is_reply  is_retweet  nbr_favorite  \\\n",
       "0  9.885302e+17 2018-04-23 17:29:08       0.0         0.0           0.0   \n",
       "1  9.847927e+17 2018-04-13 09:57:41       0.0         0.0           0.0   \n",
       "2  9.863800e+17 2018-04-17 19:05:02       0.0         0.0           0.0   \n",
       "3  9.853410e+17 2018-04-14 22:16:19       0.0         0.0           0.0   \n",
       "4  9.866047e+17 2018-04-18 09:57:42       0.0         0.0           0.0   \n",
       "5  9.852602e+17 2018-04-14 16:55:20       0.0         0.0           0.0   \n",
       "6  9.860333e+17 2018-04-16 20:07:13       1.0         0.0           0.0   \n",
       "7  9.865902e+17 2018-04-18 09:00:00       0.0         0.0           1.0   \n",
       "8  9.873616e+17 2018-04-20 12:05:20       0.0         0.0           1.0   \n",
       "9  9.851089e+17 2018-04-14 06:54:01       0.0         0.0           1.0   \n",
       "\n",
       "   nbr_reply  nbr_retweet                                               text  \\\n",
       "0        0.0          0.0  new post could ripple xrp really reach in days...   \n",
       "1        0.0          0.0  did you know that you can buy sell store conve...   \n",
       "2        0.0          0.0  ripple usd ripple has changed by usd in mins l...   \n",
       "3        0.0          1.0  batteries ito ico token tokensale invest crypt...   \n",
       "4        0.0          0.0  how is ripple different from all other cryptoc...   \n",
       "5        0.0          0.0  walmart and moneygram partnership could pump r...   \n",
       "6        1.0          0.0  this is not fake news look at our references w...   \n",
       "7        0.0          0.0  top cryptocurrencies current prices btc bitcoi...   \n",
       "8        0.0          0.0  ripple price alert the last ask price for xrp ...   \n",
       "9        0.0          0.0  xrp amp ripple the world s financial infrastru...   \n",
       "\n",
       "                                          url             user_id  \\\n",
       "0  /ExcelVisibility/status/988530235493748736           815322320   \n",
       "1    /coindirectcom/status/984792745666580481  915453520924545025   \n",
       "2     /RippleMarket/status/986380040517701633  848989770923601922   \n",
       "3      /nsdelpitiya/status/985341014339608576  880003387672088576   \n",
       "4       /Matthix191/status/986604686856933376  916641996823031808   \n",
       "5      /vandecrypto/status/985260236238934018  943489871758405632   \n",
       "6      /sniperstube/status/986033300136316928  921966736303362048   \n",
       "7       /CryptoGulp/status/986590166381887488  945716745192574977   \n",
       "8     /ripplebot_cs/status/987361585122480128  944577421008875521   \n",
       "9      /btc_current/status/985108911312093184  952620879443320832   \n",
       "\n",
       "     usernameTweet  has_media                     medias    rounded_dateTime  \\\n",
       "0  ExcelVisibility        NaN                        NaN 2018-04-23 18:00:00   \n",
       "1    coindirectcom        1.0  [https://t.co/h1CTJHGwPs] 2018-04-13 10:00:00   \n",
       "2     RippleMarket        NaN                        NaN 2018-04-17 20:00:00   \n",
       "3      nsdelpitiya        NaN                        NaN 2018-04-14 23:00:00   \n",
       "4       Matthix191        1.0  [https://t.co/xF5l49lz8P] 2018-04-18 10:00:00   \n",
       "5      vandecrypto        1.0  [https://t.co/LxwR2chVOy] 2018-04-14 17:00:00   \n",
       "6      sniperstube        NaN                        NaN 2018-04-16 21:00:00   \n",
       "7       CryptoGulp        NaN                        NaN 2018-04-18 10:00:00   \n",
       "8     ripplebot_cs        NaN                        NaN 2018-04-20 13:00:00   \n",
       "9      btc_current        1.0  [https://t.co/dKr58pbYhj] 2018-04-14 07:00:00   \n",
       "\n",
       "         timeId                time    pDelta  \\\n",
       "0  1.524521e+09 2018-04-23 18:00:00  0.002178   \n",
       "1  1.523628e+09 2018-04-13 10:00:00 -0.004874   \n",
       "2  1.524010e+09 2018-04-17 20:00:00  0.007330   \n",
       "3  1.523761e+09 2018-04-14 23:00:00 -0.003548   \n",
       "4  1.524060e+09 2018-04-18 10:00:00 -0.014478   \n",
       "5  1.523740e+09 2018-04-14 17:00:00 -0.003227   \n",
       "6  1.523927e+09 2018-04-16 21:00:00 -0.004528   \n",
       "7  1.524060e+09 2018-04-18 10:00:00 -0.014478   \n",
       "8  1.524244e+09 2018-04-20 13:00:00  0.000232   \n",
       "9  1.523704e+09 2018-04-14 07:00:00 -0.000314   \n",
       "\n",
       "                                          tc_cleaned tc_sentiment  \n",
       "0  new post could ripple xrp really reach in days...     positive  \n",
       "1  did you know that you can buy sell store conve...     negative  \n",
       "2  ripple usd ripple has changed by usd in mins l...     positive  \n",
       "3  batteries ito ico token tokensale invest crypt...      neutral  \n",
       "4  how is ripple different from all other cryptoc...     negative  \n",
       "5  walmart and moneygram partnership could pump r...      neutral  \n",
       "6  this is not fake news look at our references w...     positive  \n",
       "7  top cryptocurrencies current prices btc bitcoi...     positive  \n",
       "8  ripple price alert the last ask price for xrp ...      neutral  \n",
       "9  xrp amp ripple the world s financial infrastru...      neutral  "
      ]
     },
     "execution_count": 50,
     "metadata": {},
     "output_type": "execute_result"
    }
   ],
   "source": [
    "cleaned2.head(10)"
   ]
  },
  {
   "cell_type": "code",
   "execution_count": 51,
   "metadata": {
    "collapsed": false
   },
   "outputs": [],
   "source": [
    "preds_df = cleaned2[['pDelta', 'tc_sentiment']]"
   ]
  },
  {
   "cell_type": "code",
   "execution_count": 53,
   "metadata": {
    "collapsed": false
   },
   "outputs": [
    {
     "data": {
      "text/html": [
       "<div>\n",
       "<style>\n",
       "    .dataframe thead tr:only-child th {\n",
       "        text-align: right;\n",
       "    }\n",
       "\n",
       "    .dataframe thead th {\n",
       "        text-align: left;\n",
       "    }\n",
       "\n",
       "    .dataframe tbody tr th {\n",
       "        vertical-align: top;\n",
       "    }\n",
       "</style>\n",
       "<table border=\"1\" class=\"dataframe\">\n",
       "  <thead>\n",
       "    <tr style=\"text-align: right;\">\n",
       "      <th></th>\n",
       "      <th>pDelta</th>\n",
       "    </tr>\n",
       "  </thead>\n",
       "  <tbody>\n",
       "    <tr>\n",
       "      <th>count</th>\n",
       "      <td>25435.000000</td>\n",
       "    </tr>\n",
       "    <tr>\n",
       "      <th>mean</th>\n",
       "      <td>0.001191</td>\n",
       "    </tr>\n",
       "    <tr>\n",
       "      <th>std</th>\n",
       "      <td>0.013683</td>\n",
       "    </tr>\n",
       "    <tr>\n",
       "      <th>min</th>\n",
       "      <td>-0.059803</td>\n",
       "    </tr>\n",
       "    <tr>\n",
       "      <th>25%</th>\n",
       "      <td>-0.005436</td>\n",
       "    </tr>\n",
       "    <tr>\n",
       "      <th>50%</th>\n",
       "      <td>0.000677</td>\n",
       "    </tr>\n",
       "    <tr>\n",
       "      <th>75%</th>\n",
       "      <td>0.007194</td>\n",
       "    </tr>\n",
       "    <tr>\n",
       "      <th>max</th>\n",
       "      <td>0.059349</td>\n",
       "    </tr>\n",
       "  </tbody>\n",
       "</table>\n",
       "</div>"
      ],
      "text/plain": [
       "             pDelta\n",
       "count  25435.000000\n",
       "mean       0.001191\n",
       "std        0.013683\n",
       "min       -0.059803\n",
       "25%       -0.005436\n",
       "50%        0.000677\n",
       "75%        0.007194\n",
       "max        0.059349"
      ]
     },
     "execution_count": 53,
     "metadata": {},
     "output_type": "execute_result"
    }
   ],
   "source": [
    "preds_df.describe()"
   ]
  },
  {
   "cell_type": "code",
   "execution_count": 59,
   "metadata": {
    "collapsed": false
   },
   "outputs": [],
   "source": [
    "def deltaConvert(d):\n",
    "    if d > 0.005:\n",
    "        return 'positive'\n",
    "    elif d < -0.005:\n",
    "        return 'negative'\n",
    "    else:\n",
    "        return 'neutral'"
   ]
  },
  {
   "cell_type": "code",
   "execution_count": 60,
   "metadata": {
    "collapsed": false
   },
   "outputs": [
    {
     "name": "stderr",
     "output_type": "stream",
     "text": [
      "/Users/Braden/anaconda/lib/python3.6/site-packages/ipykernel/__main__.py:1: SettingWithCopyWarning: \n",
      "A value is trying to be set on a copy of a slice from a DataFrame.\n",
      "Try using .loc[row_indexer,col_indexer] = value instead\n",
      "\n",
      "See the caveats in the documentation: http://pandas.pydata.org/pandas-docs/stable/indexing.html#indexing-view-versus-copy\n",
      "  if __name__ == '__main__':\n"
     ]
    }
   ],
   "source": [
    "preds_df['actual'] = preds_df['pDelta'].apply(lambda p : deltaConvert(p))"
   ]
  },
  {
   "cell_type": "code",
   "execution_count": 61,
   "metadata": {
    "collapsed": false
   },
   "outputs": [
    {
     "name": "stdout",
     "output_type": "stream",
     "text": [
      "             precision    recall  f1-score   support\n",
      "\n",
      "   negative       0.24      0.07      0.10      6616\n",
      "    neutral       0.42      0.52      0.47     10619\n",
      "   positive       0.33      0.42      0.37      8200\n",
      "\n",
      "avg / total       0.35      0.37      0.34     25435\n",
      "\n"
     ]
    }
   ],
   "source": [
    "print(classification_report(preds_df['actual'], preds_df['tc_sentiment']))"
   ]
  },
  {
   "cell_type": "code",
   "execution_count": null,
   "metadata": {
    "collapsed": true
   },
   "outputs": [],
   "source": []
  }
 ],
 "metadata": {
  "kernelspec": {
   "display_name": "Python 3",
   "language": "python",
   "name": "python3"
  },
  "language_info": {
   "codemirror_mode": {
    "name": "ipython",
    "version": 3
   },
   "file_extension": ".py",
   "mimetype": "text/x-python",
   "name": "python",
   "nbconvert_exporter": "python",
   "pygments_lexer": "ipython3",
   "version": "3.6.0"
  }
 },
 "nbformat": 4,
 "nbformat_minor": 2
}
