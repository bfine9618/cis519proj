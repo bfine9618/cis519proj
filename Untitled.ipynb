{
 "cells": [
  {
   "cell_type": "code",
   "execution_count": 1,
   "metadata": {
    "collapsed": true
   },
   "outputs": [],
   "source": [
    "import pandas as pd"
   ]
  },
  {
   "cell_type": "code",
   "execution_count": 4,
   "metadata": {
    "collapsed": true
   },
   "outputs": [],
   "source": [
    "xrp = pd.read_pickle('./Data/Raw/XRPDataSet.pkl')"
   ]
  },
  {
   "cell_type": "code",
   "execution_count": 6,
   "metadata": {
    "collapsed": true
   },
   "outputs": [],
   "source": [
    "xrp = pd.read_pickle('./Data/Cleaned/xrp_price_data_hourly.pkl')"
   ]
  },
  {
   "cell_type": "code",
   "execution_count": 7,
   "metadata": {
    "collapsed": false
   },
   "outputs": [
    {
     "data": {
      "text/html": [
       "<div>\n",
       "<style>\n",
       "    .dataframe thead tr:only-child th {\n",
       "        text-align: right;\n",
       "    }\n",
       "\n",
       "    .dataframe thead th {\n",
       "        text-align: left;\n",
       "    }\n",
       "\n",
       "    .dataframe tbody tr th {\n",
       "        vertical-align: top;\n",
       "    }\n",
       "</style>\n",
       "<table border=\"1\" class=\"dataframe\">\n",
       "  <thead>\n",
       "    <tr style=\"text-align: right;\">\n",
       "      <th></th>\n",
       "      <th>close</th>\n",
       "      <th>high</th>\n",
       "      <th>low</th>\n",
       "      <th>open</th>\n",
       "      <th>time</th>\n",
       "      <th>volumefrom</th>\n",
       "      <th>volumeto</th>\n",
       "    </tr>\n",
       "  </thead>\n",
       "  <tbody>\n",
       "    <tr>\n",
       "      <th>0</th>\n",
       "      <td>0.6478</td>\n",
       "      <td>0.6578</td>\n",
       "      <td>0.6419</td>\n",
       "      <td>0.6531</td>\n",
       "      <td>2018-04-13 04:00:00</td>\n",
       "      <td>10155756.47</td>\n",
       "      <td>6618499.29</td>\n",
       "    </tr>\n",
       "    <tr>\n",
       "      <th>1</th>\n",
       "      <td>0.6387</td>\n",
       "      <td>0.6479</td>\n",
       "      <td>0.6387</td>\n",
       "      <td>0.6479</td>\n",
       "      <td>2018-04-13 05:00:00</td>\n",
       "      <td>5368569.53</td>\n",
       "      <td>3451785.79</td>\n",
       "    </tr>\n",
       "    <tr>\n",
       "      <th>2</th>\n",
       "      <td>0.6481</td>\n",
       "      <td>0.6488</td>\n",
       "      <td>0.6340</td>\n",
       "      <td>0.6387</td>\n",
       "      <td>2018-04-13 06:00:00</td>\n",
       "      <td>6594166.84</td>\n",
       "      <td>4221667.69</td>\n",
       "    </tr>\n",
       "    <tr>\n",
       "      <th>3</th>\n",
       "      <td>0.6487</td>\n",
       "      <td>0.6549</td>\n",
       "      <td>0.6445</td>\n",
       "      <td>0.6481</td>\n",
       "      <td>2018-04-13 07:00:00</td>\n",
       "      <td>6252726.99</td>\n",
       "      <td>4065197.33</td>\n",
       "    </tr>\n",
       "    <tr>\n",
       "      <th>4</th>\n",
       "      <td>0.6872</td>\n",
       "      <td>0.6936</td>\n",
       "      <td>0.6475</td>\n",
       "      <td>0.6487</td>\n",
       "      <td>2018-04-13 08:00:00</td>\n",
       "      <td>18951857.07</td>\n",
       "      <td>12719700.76</td>\n",
       "    </tr>\n",
       "  </tbody>\n",
       "</table>\n",
       "</div>"
      ],
      "text/plain": [
       "    close    high     low    open                time   volumefrom  \\\n",
       "0  0.6478  0.6578  0.6419  0.6531 2018-04-13 04:00:00  10155756.47   \n",
       "1  0.6387  0.6479  0.6387  0.6479 2018-04-13 05:00:00   5368569.53   \n",
       "2  0.6481  0.6488  0.6340  0.6387 2018-04-13 06:00:00   6594166.84   \n",
       "3  0.6487  0.6549  0.6445  0.6481 2018-04-13 07:00:00   6252726.99   \n",
       "4  0.6872  0.6936  0.6475  0.6487 2018-04-13 08:00:00  18951857.07   \n",
       "\n",
       "      volumeto  \n",
       "0   6618499.29  \n",
       "1   3451785.79  \n",
       "2   4221667.69  \n",
       "3   4065197.33  \n",
       "4  12719700.76  "
      ]
     },
     "execution_count": 7,
     "metadata": {},
     "output_type": "execute_result"
    }
   ],
   "source": [
    "xrp.head()"
   ]
  },
  {
   "cell_type": "code",
   "execution_count": null,
   "metadata": {
    "collapsed": true
   },
   "outputs": [],
   "source": []
  }
 ],
 "metadata": {
  "kernelspec": {
   "display_name": "Python 3",
   "language": "python",
   "name": "python3"
  },
  "language_info": {
   "codemirror_mode": {
    "name": "ipython",
    "version": 3
   },
   "file_extension": ".py",
   "mimetype": "text/x-python",
   "name": "python",
   "nbconvert_exporter": "python",
   "pygments_lexer": "ipython3",
   "version": "3.6.0"
  }
 },
 "nbformat": 4,
 "nbformat_minor": 2
}
