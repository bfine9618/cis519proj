{
 "cells": [
  {
   "cell_type": "code",
   "execution_count": 12,
   "metadata": {},
   "outputs": [
    {
     "name": "stderr",
     "output_type": "stream",
     "text": [
      "/Users/Braden/anaconda/lib/python3.6/site-packages/nltk/twitter/__init__.py:20: UserWarning: The twython library has not been installed. Some functionality from the twitter package will not be available.\n",
      "  warnings.warn(\"The twython library has not been installed. \"\n"
     ]
    }
   ],
   "source": [
    "import numpy as np\n",
    "import pandas as pd\n",
    "import re\n",
    "from bs4 import BeautifulSoup\n",
    "from nltk.tokenize import WordPunctTokenizer\n",
    "from sklearn.metrics import classification_report\n",
    "\n",
    "import matplotlib.pyplot as plt\n",
    "import seaborn as sns\n",
    "% matplotlib inline\n",
    "import time\n",
    "import requests\n",
    "\n",
    "#Sentiment\n",
    "from nltk.classify import NaiveBayesClassifier\n",
    "from nltk.corpus import subjectivity\n",
    "from nltk.sentiment import SentimentAnalyzer\n",
    "from nltk.sentiment.util import *"
   ]
  },
  {
   "cell_type": "code",
   "execution_count": 5,
   "metadata": {},
   "outputs": [],
   "source": [
    "tweets = pd.read_pickle('./Data/Cleaned/completeData.pkl')"
   ]
  },
  {
   "cell_type": "code",
   "execution_count": 6,
   "metadata": {},
   "outputs": [
    {
     "data": {
      "text/plain": [
       "Index(['ID', 'datetime', 'is_reply', 'is_retweet', 'nbr_favorite', 'nbr_reply',\n",
       "       'nbr_retweet', 'text', 'url', 'user_id', 'usernameTweet', 'has_media',\n",
       "       'medias', 'spam', 'P_spam', 'rounded_dateTime', 'timeId', 'time',\n",
       "       'pDelta', 'change'],\n",
       "      dtype='object')"
      ]
     },
     "execution_count": 6,
     "metadata": {},
     "output_type": "execute_result"
    }
   ],
   "source": [
    "tweets.columns"
   ]
  },
  {
   "cell_type": "code",
   "execution_count": 7,
   "metadata": {},
   "outputs": [
    {
     "name": "stdout",
     "output_type": "stream",
     "text": [
      "New pos (Could  Ripple   XRP  Relly Rech $1. I 39 Dys?) hs bee published o  -  hps: msscrypocurrecy.com?p=2664   pic.wier.com6Dlog2TNQE\n",
      "\n",
      "\n",
      "LogShor Bicoi swigs wih up o 1 Leverge  BiMEX!\n",
      "\n",
      "1% Fee Discou usig he lik below  \n",
      "\n",
      "→  hp: bime.comregiserm9MNm   \n",
      "\n",
      " $ LSK   $ BCH   $ DGB   $ AION   $ EMC   $ RDD   $ SALT   $ OMG   $ ARK   $ EOS   $ MAID   $ WTC   $ QTUM   $ XRP   $ LTC   $ ELF   $ ZEC   $ BAT pic.wier.comIFj1YJkO\n",
      "\n",
      "\n",
      "Did you kow h you c buy, sell, sore, cover d rsfer @Ripple  #XRP  o  hp: Coidirec.com       i he UK, EU couries, Ausrli, Key, Nigeri d Souh Afric. You c use fi currecy or cover oher cois d echge hem for #Ripple  .\n",
      "\n",
      "\n",
      "1  Ripple  = .6589 USD.  Ripple  hs chged by -.26 USD i 3 mis. Live price:  hps: is.gdhI9OcA    #ripple  #rp  #crypocurrecy\n",
      "\n",
      "\n",
      "How Is #Ripple  Differe From All Oher #Crypocurrecies ? A Ulime Guide  hps:www. reddi.comrRipplecomme s8d58hrhow_is_ripple_differe_from_ll_oher   … \n",
      "#ripple  #ro   $ r   $ rp   $ eh   $ bc   $ mr   $ lc  #liecoi   $ ec   $ eos   $ eo   $ lm   $ d  #crdo   $ em   $ io   $ lsk   $ ic  #crypoews  #redbu\n",
      "\n",
      "\n",
      "Drikig  Revive by @UpldBrewCo @HopC - Brod  Ripple  —  hp: up.beersc58511666  \n",
      "\n",
      "\n",
      "his m fighig for his durg h’s o eve doig is job , i do see oe  ripple   hps: wier.comjplussus 98615781791981568   …\n",
      "\n",
      "\n",
      "immese Pid group ow free for week  hps: goo.glPwS8QF   \n",
      "\n",
      "  $ CGE   $ HEAT   $ SLS  17.23   $ POP   $ POE   $ BYC   $ SNGLS   $ NEX   $ XRP   $ XEM   $ SAFEX   $ PLBT   $ CLAM   $ TKN   $ SC   $ WAVES   $ TKY   $ CLUB   $ NMR   $ NAV   $ NXS  \n",
      "   5F4bFhK926z3Tsh43k6Fz\n",
      "\n",
      "\n",
      "Wlmr Ad Moeygrm Prership Could Pump  Ripple  ( XRP ) @EherWorldNews hps: ehereumworldews.comwlmr-d-mo eygrm-prership-could-pump-ripple-rp   …\n",
      "\n",
      "\n",
      "This is o fke ews. Look  our refereces. We did’ misled yoe, we clerly sed heir o usig  Ripple   XRP  however he ier ledger c led o  mure relioship h MAY led o hem usig  XRP .\n",
      "\n",
      "\n",
      "Wh does edurce me & why do you w i? Lise o his video RIGHT NOW becuse EVERY ime you give up or le somehig ge i he wy, you cree   ripple  effec i your cellulr memory h mkes i MORE likely you will give up he e ime.  hp: ow.lyf6Pu3jsrQS  \n",
      "\n",
      "\n",
      "# Verge  & @Porhub , o chrgebck, corols ll d rffic, 32 sies w28K mohly buyers, o credi crd fees, @Plyboy  c' compre. Porhub is he GOOGLE ADWords of he dul idusry. #mr  #bc  #vergefm  #rp  #r  #bicoi hps: youu.beeeQ7Q4I5c  \n",
      "\n",
      "\n",
      "Wih  XRP , rscios re public. Usig i, bks wo' be ble o guree he privcy of heir clies. Is his o  fudmel issue wih he sse?, hp:www. bc-curre.lcrypo-ewsri pplewih-rp-rscios-re-public-usig-i-bks-wo-be-ble-o-guree-he-privcy-of-heir-clies-is-his-o--fudmel-issue-wih-he-sse   …\n",
      "\n",
      "\n",
      "Ripple  Price Rllies 2% o Hedlie Surgig Crypocurrecy Mrkes - @CrypoCoisNews   hps:www. cc.comripple-price-r llies-2-o-hedlie-surgig-crypocurrecy-mrkes   …\n",
      "\n",
      "\n",
      "«1 club». Now we opeed our doors for 1 people   hps: goo.glLTMrN   \n",
      "\n",
      "  $ NAV   $ SAFEX   $ XRP   $ POE   $ CLAM   $ HEAT  17.23   $ CGE   $ SLS   $ BYC   $ TKN   $ SC   $ CLUB   $ NEX   $ SNGLS   $ TKY   $ POP   $ NXS   $ WAVES   $ PLBT   $ XEM   $ NMR  \n",
      "   kQSsDzZrFd8Ei22y7SZB\n",
      "\n",
      "\n",
      "(Biosis o Offer  Ripple  Trdig Srig Ne Week) hs bee published o CoigeNews-  hps:www. coigeews.com?p=3466  \n",
      "\n",
      "\n",
      "@ ovogrz   How you see @Ripple   fer oe yer ?\n",
      "\n",
      "\n",
      "So,le see. I do' rus h guy. People who sig such huge corcs i my eperiece re o such kid of guys, wih such ech. Jus sk yourself \"why  huge compy would choose THIS coi more h oher?\". Th mkes o ses. Hope for you i will work\n",
      "\n",
      "\n",
      "# Ripple  price ler. The ls sk price for  $ rp  i USD is $.857858 #rp\n",
      "\n",
      "\n",
      "I hik he SDR is  errible ide. Look  wh he euro did. \n",
      "Also, he dollr is he reserve currecy wheher he US likes i or o. I's o  volury posiio.\n",
      "\n",
      "\n",
      "Bicoi, Ehereum, Bicoi Csh,  Ripple , Sellr, Liecoi, Crdo, NEO, EOS: Price Alysis, April 13  hp: dlvr.iQPSCJh   pic.wier.comq8ljjIurAc\n",
      "\n",
      "\n",
      "Aro (LTI): O medium erm  $ XRP  rdes I m ou 15 leverge o give i room o move.\n",
      "\n",
      "\n",
      "NPR #scios  Trgeig Norh Kore  Ripple  Io Russi NPR Bu s Pyogyg coiued o igore wrigs o give up is ucler wepos progrm ls yer, Moscow hd lile choice bu o joi Chi i sigig oo he les roud of Uied Nios…  hps: goo.gl7827KN   pic.wier.comZFwKDjCLO3\n",
      "\n",
      "\n",
      "Thuder fs re goig o be feelig he  ripple  effecs of his series for mohs d possibly yers. Difficul o see he ph o surroudig Wesbrook wih eough le o mke  serious push for he chmpioship i he er fuure.\n",
      "\n",
      "\n",
      "XRP  &mp; Ripple: The World’s Ficil Ifrsrucure is Usig RippleNe, hp:www. bc-curre.lcrypo-ewsri pplerp-ripple-he-worlds-ficil-ifrsrucure-is-usig-ripplee   …\n",
      "\n",
      "\n",
      "Is lso simple busiess heory you hve o be compeiive. \n",
      "Tke WU d flshf.\n",
      "Flshf sred usig  rp  18 mihs or so go i offers rsfers  8 o 1% beer res h WU i us.\n",
      "WU los busiess i is mow rilig  rp  12\n",
      "\n",
      "\n",
      "Sme move for he e 2-5 yer d we re ll lucky. \n",
      "\n",
      "\n",
      "We eed Brd o Show The IMF The Beefis Of Movig The SDR's Usig  XRP .   ;-)\n",
      "\n",
      "\n",
      "Crypos s of 9.53m GMT+1:\n",
      "\n",
      "(Bifie)\n",
      "\n",
      "#Bicoi  (BTCUSD) +3.74%\n",
      "#Ehereum  (ETHUSD) +6.96%\n",
      "#Liecoi  (LTCUSD) +5.7%\n",
      "#Moero  (XMRUSD) +3.29%\n",
      "#Ripple  ( XRP USD) +4.2%\n",
      "\n",
      "#Crypocurrecies\n",
      "\n",
      "\n",
      "Yo, Adri!  Ripple  hs reched $ .75  hps: coirkig.comcoiripple-rp    #Ripple   $ XRP  #crypocurrecy pic.wier.comDAA8Vri4\n",
      "\n",
      "\n",
      "The  Ripple  Effec of Buyig Fke Goods -  hp:www. egypody.comAricle15484 69The-Ripple-Effec-of-Buyig-Fke-Goods   …  #EgypTody\n",
      "\n",
      "\n",
      "Childre Chorus sog performed by SBLA Childre Tem  POHELA BOISHAKH 1425 & PITHA UTSHOB o Sudy 15h April 218   Ripple  Ceer Brkig orgised by SBLA UK. Plese click o he youube lik below o wch i....  hps:www. youube.comwch?v=vBiDL_ pRYyE   …\n",
      "\n",
      "\n",
      "Lookig for hoes d profible rdig clls, recommedios d dvice, joi:\n",
      "\n",
      " hp: .meCrypoHesig ls   … \n",
      "\n",
      " $ BTC   $ ETH   $ ETC   $ BCH   $ LTC   $ XRP   $ DASH   $ XLM   $ XMR   $ ZEC   $ ADA   $ SYS   $ NEO   $ LUX   $ OMG   $ POWR   $ VTC   $ XEM   $ LSK   $ DGB   $ DOGE   $ XVG   $ VEN   $ ICX   $ ZCL   $ DRGN   $ WTC   $ IC   $ TRX   $ QTUM   $ LSK   $ ZRX  4612\n",
      "\n",
      "\n",
      "Ok, you guys hve’ ried 4s ye! I’s he BEST.   3s is jus  prcice ru. 4s is where FUN srs for rel! Do o miss ou!   You’re jus geig sred @hydeiff\n",
      "\n",
      "\n",
      "How o do 1 o oe moh? Esy  Check  hps: goo.glmemYv3   \n",
      "\n",
      "  $ CLAM   $ TKN   $ HEAT   $ CGE  17.23   $ XRP   $ SAFEX   $ SNGLS   $ POE   $ CLUB   $ TKY   $ NMR   $ XEM   $ POP   $ NEX   $ WAVES   $ SC   $ SLS   $ PLBT   $ BYC   $ NAV   $ NXS  \n",
      "   K4rYAHKT2F4ezEsE223b5E3f\n",
      "\n",
      "\n",
      "Crypocurrecy declred Hll uder Islmic lw – Bicoi [BTC] mrke opes o 1.6 billio Muslims\n",
      " hps: if.2ELRyh   \n",
      " $ BTC  #ETH   $ ETH  #Ripple  #BTC  #Bicoi  #Ehereum   $ rp  #BicoiCsh  #Alcois\n",
      "\n",
      "\n",
      "Buyig crypo o credi  Im go sy wy from h. FOMO is high bu crypo is oo volile eve i he bullish dys we hve see he ps weeks. #crypo  #lcois  #r  #bc  #rp\n",
      "\n",
      "\n",
      "How o do 1 o oe moh? Esy  Check  hps: bi.ly2JODoi   \n",
      "\n",
      "  $ FLO   $ sc   $ zec   $ POWR   $ DICE   $ CFI   $ DRT   $ NEO   $ TX   $ KCS   $ lc   $ MOT   $ SBD   $ ic   $ XSH   $ HMQ   $ WABI   $ NXS   $ MAID   $ rp   $ UFO  \n",
      "  hDTE4QeNrArZffd7AEbH9\n",
      "\n",
      "\n",
      "Righ!?\n",
      "\n",
      "\n",
      "I do o epec  mssive blue wve. Like  dem versio of 21, however The dems do hve momeum d beer cdides bu hey do' hve he rdiiol miderm voer h will ur ou. I will be  blue breeze or  blue  ripple . We will gi ses. Close o 55\n",
      "\n",
      "\n",
      "Oky wh ecly re you ccomplishig from doig his? Besides uecessrily polluig he wer?\n",
      "\n",
      "\n",
      "colossl Amzig Predicio of Sigl Check Sigls Hisory ->  hps: goo.glDpUYY   \n",
      "\n",
      "  $ SC   $ HEAT  17.23   $ BYC   $ POP   $ CLUB   $ SNGLS   $ TKN   $ NMR   $ XEM   $ PLBT   $ POE   $ CGE   $ XRP   $ SLS   $ NXS   $ NEX   $ SAFEX   $ WAVES   $ TKY   $ CLAM   $ NAV  \n",
      "   dTZFrHdK5iQ7NRAFzFkr5bH\n",
      "\n",
      "\n",
      "Former US Gov’ Regulor Cosiders ETH,  XRP  Likely ‘Nocompli Securiies’  hps: if.2HJl1go  \n",
      "\n",
      "\n",
      "his chel clled  $ DGB  before i mde 6. hey oly shre high rewrd, low risk sigls. joi:\n",
      "\n",
      " hp: .meCrypoHesig ls   … \n",
      "\n",
      " $ BTC   $ ETH   $ ETC   $ BCH   $ LTC   $ XRP   $ DASH   $ BTG   $ XLM   $ XMR   $ ZEC   $ ADA   $ SNT   $ NEO   $ MED   $ OMG   $ POWR   $ VTC   $ SC   $ XEM   $ LSK   $ DGB   $ DOGE   $ XVG   $ GRS   $ AMP   $ ZCL   $ DRGN   $ DCR  49419\n",
      "\n",
      "\n",
      "\"Ech ime  m sds up for  idel, or cs o improve he lo of ohers, or srikes ou gis ijusice, he seds forh  iy  ripple  of hope, d crossig ech oher from  millio differe ceers of eergy d\n",
      "\n",
      "\n",
      "The use of bes-i-clss securiy proocols, llows you o quickl Rico o proec \n",
      "he sses of heir users from hcker cks. We re proud of he high speed of rscios. \n",
      "#Rico  #RicoICO  #RCA  #BTC  #ETH  #XRP !\n",
      "\n",
      "\n",
      "Did o ge  chce o red i ye, Bu i did rewee i s i kow i is op och.\n",
      "\n",
      "\n",
      "Mke moey by cpilizig o BTC voliliy  \n",
      "\n",
      "→  hp: bime.comregiserm9MNm   \n",
      "\n",
      "1% Fee Discou!  \n",
      "\n",
      " $ ARK   $ BCH   $ DASH   $ XRP   $ QTUM   $ ELF   $ HSR   $ ZRX   $ ZCL   $ XRB   $ USDT   $ VEN   $ LINK   $ WAVES   $ NEO   $ ADA   $ GXS   $ DOGE pic.wier.commp6ugAd1Tc\n",
      "\n",
      "\n",
      "Pul you’re very fuddy, you wee h you jus w everyoe’s opiios bu you’re kig  very pssive ggressive pproch oo i...\n",
      "\n",
      "\n",
      "Ripple  Ivess $25 Millio i  XRP  i Blockchi Cpil’s $15 Millio VC Fud  hp:www. big.comewspiclick. sp?ref=FeRss&id=&id=6AAEF6A1CBCD4372B21B4C3D451854E&url=hps%3A%2F%2Ffice.yhoo.com%2Fews%2Fripple-ivess-25-millio-rp-145233799.hml&c=21545272964439169&mk=e-us&um_source=dlvr.i&um_medium=wier   … pic.wier.comD8hbwYod\n",
      "\n",
      "\n"
     ]
    }
   ],
   "source": [
    "for t in tweets[~tweets[\"spam\"]]['text'][0:50]:\n",
    "    print(t)\n",
    "    print()\n",
    "    print()"
   ]
  },
  {
   "cell_type": "code",
   "execution_count": 8,
   "metadata": {},
   "outputs": [
    {
     "data": {
      "text/plain": [
       "count                   83317\n",
       "unique                    281\n",
       "top       2018-04-24 17:00:00\n",
       "freq                      615\n",
       "first     2018-04-13 04:00:00\n",
       "last      2018-04-24 20:00:00\n",
       "Name: rounded_dateTime, dtype: object"
      ]
     },
     "execution_count": 8,
     "metadata": {},
     "output_type": "execute_result"
    }
   ],
   "source": [
    "tweets['rounded_dateTime'].describe()"
   ]
  },
  {
   "cell_type": "code",
   "execution_count": 9,
   "metadata": {},
   "outputs": [
    {
     "name": "stdout",
     "output_type": "stream",
     "text": [
      "<class 'pandas.core.frame.DataFrame'>\n",
      "Int64Index: 83317 entries, 0 to 85534\n",
      "Data columns (total 20 columns):\n",
      "ID                  83317 non-null float64\n",
      "datetime            83317 non-null datetime64[ns]\n",
      "is_reply            83317 non-null float64\n",
      "is_retweet          83317 non-null float64\n",
      "nbr_favorite        83317 non-null float64\n",
      "nbr_reply           83317 non-null float64\n",
      "nbr_retweet         83317 non-null float64\n",
      "text                83317 non-null object\n",
      "url                 83317 non-null object\n",
      "user_id             83317 non-null object\n",
      "usernameTweet       83317 non-null object\n",
      "has_media           28275 non-null float64\n",
      "medias              28275 non-null object\n",
      "spam                83317 non-null bool\n",
      "P_spam              83317 non-null float64\n",
      "rounded_dateTime    83317 non-null datetime64[ns]\n",
      "timeId              83317 non-null float64\n",
      "time                83317 non-null datetime64[ns]\n",
      "pDelta              83317 non-null float64\n",
      "change              83317 non-null object\n",
      "dtypes: bool(1), datetime64[ns](3), float64(10), object(6)\n",
      "memory usage: 12.8+ MB\n"
     ]
    }
   ],
   "source": [
    "tweets.info()"
   ]
  },
  {
   "cell_type": "code",
   "execution_count": 10,
   "metadata": {},
   "outputs": [],
   "source": [
    "# URLS\n",
    "tweets['text'] = tweets['text'].apply(lambda t : re.sub('https?://[A-Za-z0-9./]+',' ',t))\n",
    "\n",
    "#Mentions\n",
    "tweets['text'] = tweets['text'].apply(lambda t : re.sub(r'@[A-Za-z0-9]+',' ',t))\n",
    "\n",
    "#Hashtags\n",
    "tweets['text'] = tweets['text'].apply(lambda t : re.sub(\"#\", \" \", t))\n",
    "\n",
    "#lowercase\n",
    "tweets['text'] = tweets['text'].str.lower()"
   ]
  },
  {
   "cell_type": "code",
   "execution_count": 11,
   "metadata": {},
   "outputs": [
    {
     "data": {
      "text/plain": [
       "0    new pos (could  ripple   xrp  relly rech $1. i...\n",
       "1    logshor bicoi swigs wih up o 1 leverge  bimex!...\n",
       "2    did you kow h you c buy, sell, sore, cover d r...\n",
       "3    1  ripple  = .6589 usd.  ripple  hs chged by -...\n",
       "4    how is  ripple  differe from all oher  crypocu...\n",
       "Name: text, dtype: object"
      ]
     },
     "execution_count": 11,
     "metadata": {},
     "output_type": "execute_result"
    }
   ],
   "source": [
    "tweets['text'].head()"
   ]
  },
  {
   "cell_type": "code",
   "execution_count": 38,
   "metadata": {},
   "outputs": [],
   "source": [
    "tweets['splitText'] = tweets['text'].apply(lambda t : str(t).strip().split(' '))"
   ]
  },
  {
   "cell_type": "markdown",
   "metadata": {},
   "source": [
    "## Import sentiment training data"
   ]
  },
  {
   "cell_type": "code",
   "execution_count": 17,
   "metadata": {},
   "outputs": [],
   "source": [
    "train = pd.read_excel('./Data/sentimentTrain.xlsx')\n",
    "train['splitText'] = train['SentimentText'].apply(lambda t : str(t).strip().split(' '))\n",
    "train['trainTuple'] = train.apply(lambda row : (row['splitText'], row['Sentiment']), axis=1)"
   ]
  },
  {
   "cell_type": "code",
   "execution_count": 28,
   "metadata": {},
   "outputs": [
    {
     "data": {
      "text/html": [
       "<div>\n",
       "<style>\n",
       "    .dataframe thead tr:only-child th {\n",
       "        text-align: right;\n",
       "    }\n",
       "\n",
       "    .dataframe thead th {\n",
       "        text-align: left;\n",
       "    }\n",
       "\n",
       "    .dataframe tbody tr th {\n",
       "        vertical-align: top;\n",
       "    }\n",
       "</style>\n",
       "<table border=\"1\" class=\"dataframe\">\n",
       "  <thead>\n",
       "    <tr style=\"text-align: right;\">\n",
       "      <th></th>\n",
       "      <th>Sentiment</th>\n",
       "      <th>SentimentText</th>\n",
       "      <th>splitText</th>\n",
       "      <th>trainTuple</th>\n",
       "    </tr>\n",
       "  </thead>\n",
       "  <tbody>\n",
       "    <tr>\n",
       "      <th>0</th>\n",
       "      <td>0</td>\n",
       "      <td>is so sad for my APL frie...</td>\n",
       "      <td>[is, so, sad, for, my, APL, friend.............]</td>\n",
       "      <td>([is, so, sad, for, my, APL, friend..............</td>\n",
       "    </tr>\n",
       "    <tr>\n",
       "      <th>1</th>\n",
       "      <td>0</td>\n",
       "      <td>I missed the New Moon trail...</td>\n",
       "      <td>[I, missed, the, New, Moon, trailer...]</td>\n",
       "      <td>([I, missed, the, New, Moon, trailer...], 0)</td>\n",
       "    </tr>\n",
       "    <tr>\n",
       "      <th>2</th>\n",
       "      <td>1</td>\n",
       "      <td>omg its already 7:30 :O</td>\n",
       "      <td>[omg, its, already, 7:30, :O]</td>\n",
       "      <td>([omg, its, already, 7:30, :O], 1)</td>\n",
       "    </tr>\n",
       "    <tr>\n",
       "      <th>3</th>\n",
       "      <td>0</td>\n",
       "      <td>.. Omgaga. Im sooo  im gunna CRy. I'...</td>\n",
       "      <td>[.., Omgaga., Im, sooo, , im, gunna, CRy., I'v...</td>\n",
       "      <td>([.., Omgaga., Im, sooo, , im, gunna, CRy., I'...</td>\n",
       "    </tr>\n",
       "    <tr>\n",
       "      <th>4</th>\n",
       "      <td>0</td>\n",
       "      <td>i think mi bf is cheating on me!!!   ...</td>\n",
       "      <td>[i, think, mi, bf, is, cheating, on, me!!!, , ...</td>\n",
       "      <td>([i, think, mi, bf, is, cheating, on, me!!!, ,...</td>\n",
       "    </tr>\n",
       "  </tbody>\n",
       "</table>\n",
       "</div>"
      ],
      "text/plain": [
       "   Sentiment                                      SentimentText  \\\n",
       "0          0                       is so sad for my APL frie...   \n",
       "1          0                     I missed the New Moon trail...   \n",
       "2          1                            omg its already 7:30 :O   \n",
       "3          0            .. Omgaga. Im sooo  im gunna CRy. I'...   \n",
       "4          0           i think mi bf is cheating on me!!!   ...   \n",
       "\n",
       "                                           splitText  \\\n",
       "0   [is, so, sad, for, my, APL, friend.............]   \n",
       "1            [I, missed, the, New, Moon, trailer...]   \n",
       "2                      [omg, its, already, 7:30, :O]   \n",
       "3  [.., Omgaga., Im, sooo, , im, gunna, CRy., I'v...   \n",
       "4  [i, think, mi, bf, is, cheating, on, me!!!, , ...   \n",
       "\n",
       "                                          trainTuple  \n",
       "0  ([is, so, sad, for, my, APL, friend..............  \n",
       "1       ([I, missed, the, New, Moon, trailer...], 0)  \n",
       "2                 ([omg, its, already, 7:30, :O], 1)  \n",
       "3  ([.., Omgaga., Im, sooo, , im, gunna, CRy., I'...  \n",
       "4  ([i, think, mi, bf, is, cheating, on, me!!!, ,...  "
      ]
     },
     "execution_count": 28,
     "metadata": {},
     "output_type": "execute_result"
    }
   ],
   "source": [
    "train.head()"
   ]
  },
  {
   "cell_type": "code",
   "execution_count": 29,
   "metadata": {},
   "outputs": [],
   "source": [
    "sentim_analyzer = SentimentAnalyzer()\n",
    "allNeg = sentim_analyzer.all_words([mark_negation(doc) for doc in train['trainTuple']])"
   ]
  },
  {
   "cell_type": "code",
   "execution_count": 33,
   "metadata": {},
   "outputs": [],
   "source": [
    "unigram_feats = sentim_analyzer.unigram_word_feats(allNeg, min_freq=4)\n",
    "len(unigram_feats)\n",
    "sentim_analyzer.add_feat_extractor(extract_unigram_feats, unigrams=unigram_feats)"
   ]
  },
  {
   "cell_type": "code",
   "execution_count": 39,
   "metadata": {},
   "outputs": [],
   "source": [
    "training_set = sentim_analyzer.apply_features(train['splitText'].tolist())\n",
    "test_set = sentim_analyzer.apply_features(tweets['splitText'].tolist())"
   ]
  },
  {
   "cell_type": "code",
   "execution_count": null,
   "metadata": {},
   "outputs": [
    {
     "name": "stdout",
     "output_type": "stream",
     "text": [
      "Training classifier\n"
     ]
    }
   ],
   "source": [
    "trainer = NaiveBayesClassifier.train\n",
    "classifier = sentim_analyzer.train(trainer, training_set)"
   ]
  },
  {
   "cell_type": "code",
   "execution_count": null,
   "metadata": {},
   "outputs": [],
   "source": [
    "sentimentResults = sentim_analyzer.evaluate(test_set).items()"
   ]
  },
  {
   "cell_type": "code",
   "execution_count": 83,
   "metadata": {},
   "outputs": [],
   "source": [
    "tok = WordPunctTokenizer()\n",
    "pat1 = r'@[A-Za-z0-9]+'\n",
    "pat2 = r'https?://[A-Za-z0-9./]+'\n",
    "combined_pat = r'|'.join((pat1, pat2))\n",
    "def tweet_cleaner(text):\n",
    "    soup = BeautifulSoup(text, 'lxml')\n",
    "    souped = soup.get_text()\n",
    "    stripped = re.sub(combined_pat, '', souped)\n",
    "    try:\n",
    "        clean = stripped.decode(\"utf-8-sig\").replace(u\"\\ufffd\", \"?\")\n",
    "    except:\n",
    "        clean = stripped\n",
    "    letters_only = re.sub(\"[^a-zA-Z]\", \" \", clean)\n",
    "    lower_case = letters_only.lower()\n",
    "    \n",
    "    # During the letters_only process two lines above, it has created unnecessay white spaces,\n",
    "    # I will tokenize and join together to remove unneccessary white spaces\n",
    "    \n",
    "    words = tok.tokenize(lower_case)\n",
    "    return (\" \".join(words)).strip()"
   ]
  },
  {
   "cell_type": "code",
   "execution_count": 84,
   "metadata": {},
   "outputs": [],
   "source": [
    "tweets['text'] = tweets['text'].apply(lambda t : tweet_cleaner(t))"
   ]
  },
  {
   "cell_type": "code",
   "execution_count": 85,
   "metadata": {},
   "outputs": [],
   "source": [
    "from textblob import TextBlob\n",
    " \n",
    "class TwitterClient(object):\n",
    "    '''\n",
    "    Generic Twitter Class for sentiment analysis.\n",
    "    '''\n",
    "    def __init__(self):\n",
    "        '''\n",
    "        Class constructor or initialization method.\n",
    "        '''\n",
    " \n",
    "    def clean_tweet(self, tweet):\n",
    "        '''\n",
    "        Utility function to clean tweet text by removing links, special characters\n",
    "        using simple regex statements.\n",
    "        '''\n",
    "        return ' '.join(re.sub(\"(@[A-Za-z0-9]+)|([^0-9A-Za-z \\t])\"\\\n",
    "                                    \"|(\\w+:\\/\\/\\S+)\", \" \", tweet).split())\n",
    " \n",
    "    def get_tweet_sentiment(self, tweet):\n",
    "        '''\n",
    "        Utility function to classify sentiment of passed tweet\n",
    "        using textblob's sentiment method\n",
    "        '''\n",
    "        # create TextBlob object of passed tweet text\n",
    "        analysis = TextBlob(tweet)\n",
    "        # set sentiment\n",
    "        if analysis.sentiment.polarity > 0:\n",
    "            return 'positive'\n",
    "        elif analysis.sentiment.polarity == 0:\n",
    "            return 'neutral'\n",
    "        else:\n",
    "            return 'negative'"
   ]
  },
  {
   "cell_type": "code",
   "execution_count": 86,
   "metadata": {},
   "outputs": [],
   "source": [
    "tc = TwitterClient()"
   ]
  },
  {
   "cell_type": "code",
   "execution_count": 87,
   "metadata": {},
   "outputs": [],
   "source": [
    "cleaned2 = pd.DataFrame(tweets)"
   ]
  },
  {
   "cell_type": "code",
   "execution_count": 88,
   "metadata": {},
   "outputs": [],
   "source": [
    "cleaned2['tc_sentiment'] = cleaned2['text'].apply(lambda t : tc.get_tweet_sentiment(t))"
   ]
  },
  {
   "cell_type": "code",
   "execution_count": 89,
   "metadata": {},
   "outputs": [
    {
     "data": {
      "text/plain": [
       "0    lost me on that one nick think it s the term c...\n",
       "1    not only that but freedom of speech is only pr...\n",
       "2    a fantastic video from the archives coinscrum ...\n",
       "3    every morning i read through the posts from my...\n",
       "4    ask them why they idle there while we suffer a...\n",
       "5    first coin group newsletter going out later to...\n",
       "6    at least we d still have trees to swing from a...\n",
       "7    we may have been born on rd base but we worked...\n",
       "8    transactions are unfairly cheap right now segw...\n",
       "9    deeponion secure your files from the thieves b...\n",
       "Name: text, dtype: object"
      ]
     },
     "execution_count": 89,
     "metadata": {},
     "output_type": "execute_result"
    }
   ],
   "source": [
    "cleaned2['text'].head(10)"
   ]
  },
  {
   "cell_type": "code",
   "execution_count": 90,
   "metadata": {},
   "outputs": [
    {
     "ename": "KeyError",
     "evalue": "\"['pDelta'] not in index\"",
     "output_type": "error",
     "traceback": [
      "\u001b[0;31m---------------------------------------------------------------------------\u001b[0m",
      "\u001b[0;31mKeyError\u001b[0m                                  Traceback (most recent call last)",
      "\u001b[0;32m<ipython-input-90-7507fd8c355c>\u001b[0m in \u001b[0;36m<module>\u001b[0;34m()\u001b[0m\n\u001b[0;32m----> 1\u001b[0;31m \u001b[0mpreds_df\u001b[0m \u001b[0;34m=\u001b[0m \u001b[0mcleaned2\u001b[0m\u001b[0;34m[\u001b[0m\u001b[0;34m[\u001b[0m\u001b[0;34m'pDelta'\u001b[0m\u001b[0;34m,\u001b[0m \u001b[0;34m'tc_sentiment'\u001b[0m\u001b[0;34m]\u001b[0m\u001b[0;34m]\u001b[0m\u001b[0;34m\u001b[0m\u001b[0m\n\u001b[0m",
      "\u001b[0;32m/Users/Braden/anaconda/lib/python3.6/site-packages/pandas/core/frame.py\u001b[0m in \u001b[0;36m__getitem__\u001b[0;34m(self, key)\u001b[0m\n\u001b[1;32m   1956\u001b[0m         \u001b[0;32mif\u001b[0m \u001b[0misinstance\u001b[0m\u001b[0;34m(\u001b[0m\u001b[0mkey\u001b[0m\u001b[0;34m,\u001b[0m \u001b[0;34m(\u001b[0m\u001b[0mSeries\u001b[0m\u001b[0;34m,\u001b[0m \u001b[0mnp\u001b[0m\u001b[0;34m.\u001b[0m\u001b[0mndarray\u001b[0m\u001b[0;34m,\u001b[0m \u001b[0mIndex\u001b[0m\u001b[0;34m,\u001b[0m \u001b[0mlist\u001b[0m\u001b[0;34m)\u001b[0m\u001b[0;34m)\u001b[0m\u001b[0;34m:\u001b[0m\u001b[0;34m\u001b[0m\u001b[0m\n\u001b[1;32m   1957\u001b[0m             \u001b[0;31m# either boolean or fancy integer index\u001b[0m\u001b[0;34m\u001b[0m\u001b[0;34m\u001b[0m\u001b[0m\n\u001b[0;32m-> 1958\u001b[0;31m             \u001b[0;32mreturn\u001b[0m \u001b[0mself\u001b[0m\u001b[0;34m.\u001b[0m\u001b[0m_getitem_array\u001b[0m\u001b[0;34m(\u001b[0m\u001b[0mkey\u001b[0m\u001b[0;34m)\u001b[0m\u001b[0;34m\u001b[0m\u001b[0m\n\u001b[0m\u001b[1;32m   1959\u001b[0m         \u001b[0;32melif\u001b[0m \u001b[0misinstance\u001b[0m\u001b[0;34m(\u001b[0m\u001b[0mkey\u001b[0m\u001b[0;34m,\u001b[0m \u001b[0mDataFrame\u001b[0m\u001b[0;34m)\u001b[0m\u001b[0;34m:\u001b[0m\u001b[0;34m\u001b[0m\u001b[0m\n\u001b[1;32m   1960\u001b[0m             \u001b[0;32mreturn\u001b[0m \u001b[0mself\u001b[0m\u001b[0;34m.\u001b[0m\u001b[0m_getitem_frame\u001b[0m\u001b[0;34m(\u001b[0m\u001b[0mkey\u001b[0m\u001b[0;34m)\u001b[0m\u001b[0;34m\u001b[0m\u001b[0m\n",
      "\u001b[0;32m/Users/Braden/anaconda/lib/python3.6/site-packages/pandas/core/frame.py\u001b[0m in \u001b[0;36m_getitem_array\u001b[0;34m(self, key)\u001b[0m\n\u001b[1;32m   2000\u001b[0m             \u001b[0;32mreturn\u001b[0m \u001b[0mself\u001b[0m\u001b[0;34m.\u001b[0m\u001b[0mtake\u001b[0m\u001b[0;34m(\u001b[0m\u001b[0mindexer\u001b[0m\u001b[0;34m,\u001b[0m \u001b[0maxis\u001b[0m\u001b[0;34m=\u001b[0m\u001b[0;36m0\u001b[0m\u001b[0;34m,\u001b[0m \u001b[0mconvert\u001b[0m\u001b[0;34m=\u001b[0m\u001b[0;32mFalse\u001b[0m\u001b[0;34m)\u001b[0m\u001b[0;34m\u001b[0m\u001b[0m\n\u001b[1;32m   2001\u001b[0m         \u001b[0;32melse\u001b[0m\u001b[0;34m:\u001b[0m\u001b[0;34m\u001b[0m\u001b[0m\n\u001b[0;32m-> 2002\u001b[0;31m             \u001b[0mindexer\u001b[0m \u001b[0;34m=\u001b[0m \u001b[0mself\u001b[0m\u001b[0;34m.\u001b[0m\u001b[0mloc\u001b[0m\u001b[0;34m.\u001b[0m\u001b[0m_convert_to_indexer\u001b[0m\u001b[0;34m(\u001b[0m\u001b[0mkey\u001b[0m\u001b[0;34m,\u001b[0m \u001b[0maxis\u001b[0m\u001b[0;34m=\u001b[0m\u001b[0;36m1\u001b[0m\u001b[0;34m)\u001b[0m\u001b[0;34m\u001b[0m\u001b[0m\n\u001b[0m\u001b[1;32m   2003\u001b[0m             \u001b[0;32mreturn\u001b[0m \u001b[0mself\u001b[0m\u001b[0;34m.\u001b[0m\u001b[0mtake\u001b[0m\u001b[0;34m(\u001b[0m\u001b[0mindexer\u001b[0m\u001b[0;34m,\u001b[0m \u001b[0maxis\u001b[0m\u001b[0;34m=\u001b[0m\u001b[0;36m1\u001b[0m\u001b[0;34m,\u001b[0m \u001b[0mconvert\u001b[0m\u001b[0;34m=\u001b[0m\u001b[0;32mTrue\u001b[0m\u001b[0;34m)\u001b[0m\u001b[0;34m\u001b[0m\u001b[0m\n\u001b[1;32m   2004\u001b[0m \u001b[0;34m\u001b[0m\u001b[0m\n",
      "\u001b[0;32m/Users/Braden/anaconda/lib/python3.6/site-packages/pandas/core/indexing.py\u001b[0m in \u001b[0;36m_convert_to_indexer\u001b[0;34m(self, obj, axis, is_setter)\u001b[0m\n\u001b[1;32m   1229\u001b[0m                 \u001b[0mmask\u001b[0m \u001b[0;34m=\u001b[0m \u001b[0mcheck\u001b[0m \u001b[0;34m==\u001b[0m \u001b[0;34m-\u001b[0m\u001b[0;36m1\u001b[0m\u001b[0;34m\u001b[0m\u001b[0m\n\u001b[1;32m   1230\u001b[0m                 \u001b[0;32mif\u001b[0m \u001b[0mmask\u001b[0m\u001b[0;34m.\u001b[0m\u001b[0many\u001b[0m\u001b[0;34m(\u001b[0m\u001b[0;34m)\u001b[0m\u001b[0;34m:\u001b[0m\u001b[0;34m\u001b[0m\u001b[0m\n\u001b[0;32m-> 1231\u001b[0;31m                     \u001b[0;32mraise\u001b[0m \u001b[0mKeyError\u001b[0m\u001b[0;34m(\u001b[0m\u001b[0;34m'%s not in index'\u001b[0m \u001b[0;34m%\u001b[0m \u001b[0mobjarr\u001b[0m\u001b[0;34m[\u001b[0m\u001b[0mmask\u001b[0m\u001b[0;34m]\u001b[0m\u001b[0;34m)\u001b[0m\u001b[0;34m\u001b[0m\u001b[0m\n\u001b[0m\u001b[1;32m   1232\u001b[0m \u001b[0;34m\u001b[0m\u001b[0m\n\u001b[1;32m   1233\u001b[0m                 \u001b[0;32mreturn\u001b[0m \u001b[0m_values_from_object\u001b[0m\u001b[0;34m(\u001b[0m\u001b[0mindexer\u001b[0m\u001b[0;34m)\u001b[0m\u001b[0;34m\u001b[0m\u001b[0m\n",
      "\u001b[0;31mKeyError\u001b[0m: \"['pDelta'] not in index\""
     ]
    }
   ],
   "source": [
    "preds_df = cleaned2[['pDelta', 'tc_sentiment']]"
   ]
  },
  {
   "cell_type": "code",
   "execution_count": 91,
   "metadata": {},
   "outputs": [
    {
     "data": {
      "text/html": [
       "<div>\n",
       "<style>\n",
       "    .dataframe thead tr:only-child th {\n",
       "        text-align: right;\n",
       "    }\n",
       "\n",
       "    .dataframe thead th {\n",
       "        text-align: left;\n",
       "    }\n",
       "\n",
       "    .dataframe tbody tr th {\n",
       "        vertical-align: top;\n",
       "    }\n",
       "</style>\n",
       "<table border=\"1\" class=\"dataframe\">\n",
       "  <thead>\n",
       "    <tr style=\"text-align: right;\">\n",
       "      <th></th>\n",
       "      <th>pDelta</th>\n",
       "    </tr>\n",
       "  </thead>\n",
       "  <tbody>\n",
       "    <tr>\n",
       "      <th>count</th>\n",
       "      <td>83317.000000</td>\n",
       "    </tr>\n",
       "    <tr>\n",
       "      <th>mean</th>\n",
       "      <td>0.001582</td>\n",
       "    </tr>\n",
       "    <tr>\n",
       "      <th>std</th>\n",
       "      <td>0.014360</td>\n",
       "    </tr>\n",
       "    <tr>\n",
       "      <th>min</th>\n",
       "      <td>-0.059803</td>\n",
       "    </tr>\n",
       "    <tr>\n",
       "      <th>25%</th>\n",
       "      <td>-0.005616</td>\n",
       "    </tr>\n",
       "    <tr>\n",
       "      <th>50%</th>\n",
       "      <td>0.000709</td>\n",
       "    </tr>\n",
       "    <tr>\n",
       "      <th>75%</th>\n",
       "      <td>0.007564</td>\n",
       "    </tr>\n",
       "    <tr>\n",
       "      <th>max</th>\n",
       "      <td>0.059349</td>\n",
       "    </tr>\n",
       "  </tbody>\n",
       "</table>\n",
       "</div>"
      ],
      "text/plain": [
       "             pDelta\n",
       "count  83317.000000\n",
       "mean       0.001582\n",
       "std        0.014360\n",
       "min       -0.059803\n",
       "25%       -0.005616\n",
       "50%        0.000709\n",
       "75%        0.007564\n",
       "max        0.059349"
      ]
     },
     "execution_count": 91,
     "metadata": {},
     "output_type": "execute_result"
    }
   ],
   "source": [
    "preds_df.describe()"
   ]
  },
  {
   "cell_type": "code",
   "execution_count": 92,
   "metadata": {},
   "outputs": [],
   "source": [
    "sentimentClasses = [10, -10, 0, -5, 5, -5 ]\n",
    "\n",
    "wordLists = [\n",
    "            \"http://www3.nd.edu/~mcdonald/Data/Finance_Word_Lists/LoughranMcDonald_Positive.csv\",\n",
    "          \"http://www3.nd.edu/~mcdonald/Data/Finance_Word_Lists/LoughranMcDonald_Negative.csv\",\n",
    "          \"http://www3.nd.edu/~mcdonald/Data/Finance_Word_Lists/LoughranMcDonald_Uncertainty.csv\",\n",
    "          \"http://www3.nd.edu/~mcdonald/Data/Finance_Word_Lists/LoughranMcDonald_Litigious.csv\",\n",
    "          \"http://www3.nd.edu/~mcdonald/Data/Finance_Word_Lists/LoughranMcDonald_ModalStrong.csv\",\n",
    "          \"http://www3.nd.edu/~mcdonald/Data/Finance_Word_Lists/LoughranMcDonald_ModalWeak.csv\"]\n",
    "\n",
    "wordDict = {}\n",
    "\n",
    "for i in range(len(sentimentClasses)):\n",
    "    url = wordLists[i]\n",
    "    response = requests.get(url)\n",
    "    words = response.text.replace('\\r\\n', ' ').replace(\"'\", \"\").split(' ')[0:-1]\n",
    "    for w in words: \n",
    "        wordDict[w.lower()] = sentimentClasses[i]"
   ]
  },
  {
   "cell_type": "code",
   "execution_count": 93,
   "metadata": {},
   "outputs": [],
   "source": [
    "def computeSent(text):\n",
    "    sent = 0\n",
    "    for w in text.split(' '):\n",
    "        if w in wordDict.keys():\n",
    "            sent = sent + wordDict[w]\n",
    "            \n",
    "    return sent"
   ]
  },
  {
   "cell_type": "code",
   "execution_count": 94,
   "metadata": {},
   "outputs": [],
   "source": [
    "tweets['sentiment'] = tweets['text'].apply(lambda t : computeSent(t))"
   ]
  },
  {
   "cell_type": "code",
   "execution_count": 95,
   "metadata": {},
   "outputs": [
    {
     "data": {
      "text/plain": [
       " 0     8293\n",
       "-10    2323\n",
       " 10    1823\n",
       "-5     1300\n",
       " 5     1280\n",
       "-20     625\n",
       "-15     450\n",
       " 15     361\n",
       " 20     307\n",
       "-30     191\n",
       "-25     162\n",
       " 25      63\n",
       " 30      57\n",
       "-35      42\n",
       "-40      39\n",
       " 40      18\n",
       " 35      16\n",
       "-45      12\n",
       "-50      11\n",
       "-60       5\n",
       "-70       3\n",
       " 45       3\n",
       " 50       2\n",
       "-55       1\n",
       " 55       1\n",
       "Name: sentiment, dtype: int64"
      ]
     },
     "execution_count": 95,
     "metadata": {},
     "output_type": "execute_result"
    }
   ],
   "source": [
    "tweets['sentiment'].value_counts()"
   ]
  },
  {
   "cell_type": "code",
   "execution_count": 68,
   "metadata": {},
   "outputs": [
    {
     "name": "stdout",
     "output_type": "stream",
     "text": [
      "new pos could ripple xrp relly rech i dys hs bee published o hps msscrypocurrecy com p pic wier com dlog tnqe\n",
      "\n",
      "\n",
      "logshor bicoi swigs wih up o leverge bimex fee discou usig he lik below hp bime comregiserm mnm lsk bch dgb aion emc rdd salt omg ark eos maid wtc qtum xrp ltc elf zec bat pic wier comifj yjko\n",
      "\n",
      "\n",
      "did you kow h you c buy sell sore cover d rsfer xrp o hp coidirec com i he uk eu couries ausrli key nigeri d souh afric you c use fi currecy or cover oher cois d echge hem for ripple\n",
      "\n",
      "\n",
      "ripple usd ripple hs chged by usd i mis live price hps is gdhi oca ripple rp crypocurrecy\n",
      "\n",
      "\n",
      "how is ripple differe from all oher crypocurrecies a ulime guide hps www reddi comrripplecomme s d hrhow is ripple differe from ll oher ripple ro r rp eh bc mr lc liecoi ec eos eo lm d crdo em io lsk ic crypoews redbu\n",
      "\n",
      "\n",
      "drikig revive by brod ripple hp up beersc\n",
      "\n",
      "\n",
      "his m fighig for his durg h s o eve doig is job i do see oe ripple hps wier comjplussus\n",
      "\n",
      "\n",
      "immese pid group ow free for week hps goo glpws qf cge heat sls pop poe byc sngls nex xrp xem safex plbt clam tkn sc waves tky club nmr nav nxs f bfhk z tsh k fz\n",
      "\n",
      "\n",
      "wlmr ad moeygrm prership could pump ripple xrp hps ehereumworldews comwlmr d mo eygrm prership could pump ripple rp\n",
      "\n",
      "\n",
      "this is o fke ews look our refereces we did misled yoe we clerly sed heir o usig ripple xrp however he ier ledger c led o mure relioship h may led o hem usig xrp\n",
      "\n",
      "\n",
      "wh does edurce me why do you w i lise o his video right now becuse every ime you give up or le somehig ge i he wy you cree ripple effec i your cellulr memory h mkes i more likely you will give up he e ime hp ow lyf pu jsrqs\n",
      "\n",
      "\n",
      "verge o chrgebck corols ll d rffic sies w k mohly buyers o credi crd fees c compre porhub is he google adwords of he dul idusry mr bc vergefm rp r bicoi hps youu beeeq q i c\n",
      "\n",
      "\n",
      "wih xrp rscios re public usig i bks wo be ble o guree he privcy of heir clies is his o fudmel issue wih he sse hp www bc curre lcrypo ewsri pplewih rp rscios re public usig i bks wo be ble o guree he privcy of heir clies is his o fudmel issue wih he sse\n",
      "\n",
      "\n",
      "ripple price rllies o hedlie surgig crypocurrecy mrkes hps www cc comripple price r llies o hedlie surgig crypocurrecy mrkes\n",
      "\n",
      "\n",
      "club now we opeed our doors for people hps goo glltmrn nav safex xrp poe clam heat cge sls byc tkn sc club nex sngls tky pop nxs waves plbt xem nmr kqssdzzrfd ei y szb\n",
      "\n",
      "\n",
      "biosis o offer ripple trdig srig ne week hs bee published o coigenews hps www coigeews com p\n",
      "\n",
      "\n",
      "ovogrz how you see fer oe yer\n",
      "\n",
      "\n",
      "so le see i do rus h guy people who sig such huge corcs i my eperiece re o such kid of guys wih such ech jus sk yourself why huge compy would choose this coi more h oher th mkes o ses hope for you i will work\n",
      "\n",
      "\n",
      "ripple price ler the ls sk price for rp i usd is rp\n",
      "\n",
      "\n",
      "i hik he sdr is errible ide look wh he euro did also he dollr is he reserve currecy wheher he us likes i or o i s o volury posiio\n",
      "\n",
      "\n",
      "bicoi ehereum bicoi csh ripple sellr liecoi crdo neo eos price alysis april hp dlvr iqpscjh pic wier comq ljjiurac\n",
      "\n",
      "\n",
      "aro lti o medium erm xrp rdes i m ou leverge o give i room o move\n",
      "\n",
      "\n",
      "npr scios trgeig norh kore ripple io russi npr bu s pyogyg coiued o igore wrigs o give up is ucler wepos progrm ls yer moscow hd lile choice bu o joi chi i sigig oo he les roud of uied nios hps goo gl kn pic wier comzfwkdjclo\n",
      "\n",
      "\n",
      "thuder fs re goig o be feelig he ripple effecs of his series for mohs d possibly yers difficul o see he ph o surroudig wesbrook wih eough le o mke serious push for he chmpioship i he er fuure\n",
      "\n",
      "\n",
      "xrp mp ripple the world s ficil ifrsrucure is usig ripplene hp www bc curre lcrypo ewsri pplerp ripple he worlds ficil ifrsrucure is usig ripplee\n",
      "\n",
      "\n"
     ]
    }
   ],
   "source": [
    "for t in tweets['text'][0:25]:\n",
    "    print(t)\n",
    "    print()\n",
    "    print()"
   ]
  },
  {
   "cell_type": "code",
   "execution_count": 59,
   "metadata": {},
   "outputs": [],
   "source": [
    "def deltaConvert(d):\n",
    "    if d > 0.005:\n",
    "        return 'positive'\n",
    "    elif d < -0.005:\n",
    "        return 'negative'\n",
    "    else:\n",
    "        return 'neutral'"
   ]
  },
  {
   "cell_type": "code",
   "execution_count": 60,
   "metadata": {},
   "outputs": [
    {
     "name": "stderr",
     "output_type": "stream",
     "text": [
      "/Users/Braden/anaconda/lib/python3.6/site-packages/ipykernel/__main__.py:1: SettingWithCopyWarning: \n",
      "A value is trying to be set on a copy of a slice from a DataFrame.\n",
      "Try using .loc[row_indexer,col_indexer] = value instead\n",
      "\n",
      "See the caveats in the documentation: http://pandas.pydata.org/pandas-docs/stable/indexing.html#indexing-view-versus-copy\n",
      "  if __name__ == '__main__':\n"
     ]
    }
   ],
   "source": [
    "preds_df['actual'] = preds_df['pDelta'].apply(lambda p : deltaConvert(p))"
   ]
  },
  {
   "cell_type": "code",
   "execution_count": 61,
   "metadata": {},
   "outputs": [
    {
     "name": "stdout",
     "output_type": "stream",
     "text": [
      "             precision    recall  f1-score   support\n",
      "\n",
      "   negative       0.24      0.07      0.10      6616\n",
      "    neutral       0.42      0.52      0.47     10619\n",
      "   positive       0.33      0.42      0.37      8200\n",
      "\n",
      "avg / total       0.35      0.37      0.34     25435\n",
      "\n"
     ]
    }
   ],
   "source": [
    "print(classification_report(preds_df['actual'], preds_df['tc_sentiment']))"
   ]
  },
  {
   "cell_type": "code",
   "execution_count": 4,
   "metadata": {},
   "outputs": [],
   "source": [
    "from monkeylearn import MonkeyLearn\n",
    "\n",
    "ml = MonkeyLearn('5214f791698d7ea9b907d922cd6def91f05e1d39')"
   ]
  },
  {
   "cell_type": "code",
   "execution_count": 8,
   "metadata": {},
   "outputs": [],
   "source": [
    "textList = tweets['text'][0:1000]\n",
    "textList= textList.tolist()"
   ]
  },
  {
   "cell_type": "code",
   "execution_count": 9,
   "metadata": {},
   "outputs": [
    {
     "ename": "MonkeyLearnException",
     "evalue": "Error: \"Request Throttled. You exceeded your rate limits for your current plan. In order to raise this limit you need to configure the extra queries charging or upgrade your plan.\"",
     "output_type": "error",
     "traceback": [
      "\u001b[0;31m---------------------------------------------------------------------------\u001b[0m",
      "\u001b[0;31mMonkeyLearnException\u001b[0m                      Traceback (most recent call last)",
      "\u001b[0;32m<ipython-input-9-ae37a21e1268>\u001b[0m in \u001b[0;36m<module>\u001b[0;34m()\u001b[0m\n\u001b[1;32m      1\u001b[0m \u001b[0mmodule_id\u001b[0m \u001b[0;34m=\u001b[0m \u001b[0;34m'cl_Jx8qzYJh'\u001b[0m\u001b[0;34m\u001b[0m\u001b[0m\n\u001b[0;32m----> 2\u001b[0;31m \u001b[0mres\u001b[0m \u001b[0;34m=\u001b[0m \u001b[0mml\u001b[0m\u001b[0;34m.\u001b[0m\u001b[0mclassifiers\u001b[0m\u001b[0;34m.\u001b[0m\u001b[0mclassify\u001b[0m\u001b[0;34m(\u001b[0m\u001b[0mmodule_id\u001b[0m\u001b[0;34m,\u001b[0m \u001b[0mtextList\u001b[0m\u001b[0;34m,\u001b[0m \u001b[0msandbox\u001b[0m\u001b[0;34m=\u001b[0m\u001b[0;32mFalse\u001b[0m\u001b[0;34m)\u001b[0m\u001b[0;34m\u001b[0m\u001b[0m\n\u001b[0m",
      "\u001b[0;32m/Users/Braden/anaconda/lib/python3.6/site-packages/monkeylearn-0.3.7-py3.6.egg/monkeylearn/classification.py\u001b[0m in \u001b[0;36mclassify\u001b[0;34m(self, module_id, sample_list, sandbox, batch_size, sleep_if_throttled, debug, text_list, **kwargs)\u001b[0m\n\u001b[1;32m     65\u001b[0m                 }\n\u001b[1;32m     66\u001b[0m             \u001b[0mresponse\u001b[0m \u001b[0;34m=\u001b[0m \u001b[0mself\u001b[0m\u001b[0;34m.\u001b[0m\u001b[0mmake_request\u001b[0m\u001b[0;34m(\u001b[0m\u001b[0murl\u001b[0m\u001b[0;34m,\u001b[0m \u001b[0;34m'POST'\u001b[0m\u001b[0;34m,\u001b[0m \u001b[0mdata\u001b[0m\u001b[0;34m,\u001b[0m \u001b[0msleep_if_throttled\u001b[0m\u001b[0;34m)\u001b[0m\u001b[0;34m\u001b[0m\u001b[0m\n\u001b[0;32m---> 67\u001b[0;31m             \u001b[0mself\u001b[0m\u001b[0;34m.\u001b[0m\u001b[0mhandle_errors\u001b[0m\u001b[0;34m(\u001b[0m\u001b[0mresponse\u001b[0m\u001b[0;34m)\u001b[0m\u001b[0;34m\u001b[0m\u001b[0m\n\u001b[0m\u001b[1;32m     68\u001b[0m             \u001b[0mresponses\u001b[0m\u001b[0;34m.\u001b[0m\u001b[0mappend\u001b[0m\u001b[0;34m(\u001b[0m\u001b[0mresponse\u001b[0m\u001b[0;34m)\u001b[0m\u001b[0;34m\u001b[0m\u001b[0m\n\u001b[1;32m     69\u001b[0m             \u001b[0mres\u001b[0m\u001b[0;34m.\u001b[0m\u001b[0mextend\u001b[0m\u001b[0;34m(\u001b[0m\u001b[0mresponse\u001b[0m\u001b[0;34m.\u001b[0m\u001b[0mjson\u001b[0m\u001b[0;34m(\u001b[0m\u001b[0;34m)\u001b[0m\u001b[0;34m[\u001b[0m\u001b[0;34m'result'\u001b[0m\u001b[0;34m]\u001b[0m\u001b[0;34m)\u001b[0m\u001b[0;34m\u001b[0m\u001b[0m\n",
      "\u001b[0;32m/Users/Braden/anaconda/lib/python3.6/site-packages/monkeylearn-0.3.7-py3.6.egg/monkeylearn/utils.py\u001b[0m in \u001b[0;36mhandle_errors\u001b[0;34m(self, response)\u001b[0m\n\u001b[1;32m     99\u001b[0m             \u001b[0;32mexcept\u001b[0m \u001b[0mValueError\u001b[0m\u001b[0;34m:\u001b[0m\u001b[0;34m\u001b[0m\u001b[0m\n\u001b[1;32m    100\u001b[0m                 \u001b[0mresponse\u001b[0m\u001b[0;34m.\u001b[0m\u001b[0mraise_for_status\u001b[0m\u001b[0;34m(\u001b[0m\u001b[0;34m)\u001b[0m\u001b[0;34m\u001b[0m\u001b[0m\n\u001b[0;32m--> 101\u001b[0;31m             \u001b[0;32mraise\u001b[0m \u001b[0mMonkeyLearnException\u001b[0m\u001b[0;34m(\u001b[0m\u001b[0mjson\u001b[0m\u001b[0;34m.\u001b[0m\u001b[0mdumps\u001b[0m\u001b[0;34m(\u001b[0m\u001b[0mres\u001b[0m\u001b[0;34m[\u001b[0m\u001b[0;34m'detail'\u001b[0m\u001b[0;34m]\u001b[0m\u001b[0;34m)\u001b[0m\u001b[0;34m)\u001b[0m\u001b[0;34m\u001b[0m\u001b[0m\n\u001b[0m",
      "\u001b[0;31mMonkeyLearnException\u001b[0m: Error: \"Request Throttled. You exceeded your rate limits for your current plan. In order to raise this limit you need to configure the extra queries charging or upgrade your plan.\""
     ]
    }
   ],
   "source": [
    "module_id = 'cl_Jx8qzYJh'\n",
    "res = ml.classifiers.classify(module_id, textList, sandbox=False)"
   ]
  },
  {
   "cell_type": "code",
   "execution_count": 10,
   "metadata": {},
   "outputs": [
    {
     "ename": "NameError",
     "evalue": "name 'res' is not defined",
     "output_type": "error",
     "traceback": [
      "\u001b[0;31m---------------------------------------------------------------------------\u001b[0m",
      "\u001b[0;31mNameError\u001b[0m                                 Traceback (most recent call last)",
      "\u001b[0;32m<ipython-input-10-a444407e9546>\u001b[0m in \u001b[0;36m<module>\u001b[0;34m()\u001b[0m\n\u001b[0;32m----> 1\u001b[0;31m \u001b[0mprint\u001b[0m\u001b[0;34m(\u001b[0m\u001b[0mres\u001b[0m\u001b[0;34m.\u001b[0m\u001b[0mresponse\u001b[0m\u001b[0;34m)\u001b[0m\u001b[0;34m\u001b[0m\u001b[0m\n\u001b[0m",
      "\u001b[0;31mNameError\u001b[0m: name 'res' is not defined"
     ]
    }
   ],
   "source": [
    "print(res.response)"
   ]
  },
  {
   "cell_type": "code",
   "execution_count": null,
   "metadata": {},
   "outputs": [],
   "source": []
  }
 ],
 "metadata": {
  "kernelspec": {
   "display_name": "Python 3",
   "language": "python",
   "name": "python3"
  },
  "language_info": {
   "codemirror_mode": {
    "name": "ipython",
    "version": 3
   },
   "file_extension": ".py",
   "mimetype": "text/x-python",
   "name": "python",
   "nbconvert_exporter": "python",
   "pygments_lexer": "ipython3",
   "version": "3.6.0"
  }
 },
 "nbformat": 4,
 "nbformat_minor": 2
}
