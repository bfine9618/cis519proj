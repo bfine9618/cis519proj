{
 "cells": [
  {
   "cell_type": "code",
   "execution_count": 15,
   "metadata": {
    "collapsed": true
   },
   "outputs": [],
   "source": [
    "import numpy as np\n",
    "import pandas as pd\n",
    "import matplotlib.pyplot as plt\n",
    "import seaborn as sns\n",
    "import time\n",
    "import datetime as dt\n",
    "%matplotlib inline\n",
    "\n",
    "import requests\n",
    "import json\n",
    "import calendar"
   ]
  },
  {
   "cell_type": "code",
   "execution_count": 2,
   "metadata": {
    "collapsed": true
   },
   "outputs": [],
   "source": [
    "tweets_df = pd.read_pickle('./XRPDataSet.pkl')"
   ]
  },
  {
   "cell_type": "code",
   "execution_count": 3,
   "metadata": {
    "collapsed": false
   },
   "outputs": [],
   "source": [
    "tweets_df['datetime'] = tweets_df['datetime'].apply(lambda x : x.to_pydatetime())"
   ]
  },
  {
   "cell_type": "code",
   "execution_count": 4,
   "metadata": {
    "collapsed": false
   },
   "outputs": [
    {
     "name": "stdout",
     "output_type": "stream",
     "text": [
      "<class 'pandas.core.frame.DataFrame'>\n",
      "RangeIndex: 25435 entries, 0 to 25434\n",
      "Data columns (total 13 columns):\n",
      "ID               25435 non-null float64\n",
      "datetime         25435 non-null datetime64[ns]\n",
      "is_reply         25435 non-null float64\n",
      "is_retweet       25435 non-null float64\n",
      "nbr_favorite     25435 non-null float64\n",
      "nbr_reply        25435 non-null float64\n",
      "nbr_retweet      25435 non-null float64\n",
      "text             25435 non-null object\n",
      "url              25435 non-null object\n",
      "user_id          25435 non-null object\n",
      "usernameTweet    25435 non-null object\n",
      "has_media        8834 non-null float64\n",
      "medias           8834 non-null object\n",
      "dtypes: datetime64[ns](1), float64(7), object(5)\n",
      "memory usage: 2.5+ MB\n"
     ]
    }
   ],
   "source": [
    "tweets_df.info()"
   ]
  },
  {
   "cell_type": "code",
   "execution_count": 5,
   "metadata": {
    "collapsed": false
   },
   "outputs": [
    {
     "data": {
      "text/html": [
       "<div>\n",
       "<style>\n",
       "    .dataframe thead tr:only-child th {\n",
       "        text-align: right;\n",
       "    }\n",
       "\n",
       "    .dataframe thead th {\n",
       "        text-align: left;\n",
       "    }\n",
       "\n",
       "    .dataframe tbody tr th {\n",
       "        vertical-align: top;\n",
       "    }\n",
       "</style>\n",
       "<table border=\"1\" class=\"dataframe\">\n",
       "  <thead>\n",
       "    <tr style=\"text-align: right;\">\n",
       "      <th></th>\n",
       "      <th>ID</th>\n",
       "      <th>datetime</th>\n",
       "      <th>is_reply</th>\n",
       "      <th>is_retweet</th>\n",
       "      <th>nbr_favorite</th>\n",
       "      <th>nbr_reply</th>\n",
       "      <th>nbr_retweet</th>\n",
       "      <th>text</th>\n",
       "      <th>url</th>\n",
       "      <th>user_id</th>\n",
       "      <th>usernameTweet</th>\n",
       "      <th>has_media</th>\n",
       "      <th>medias</th>\n",
       "    </tr>\n",
       "  </thead>\n",
       "  <tbody>\n",
       "    <tr>\n",
       "      <th>0</th>\n",
       "      <td>9.885302e+17</td>\n",
       "      <td>2018-04-23 17:29:08</td>\n",
       "      <td>0.0</td>\n",
       "      <td>0.0</td>\n",
       "      <td>0.0</td>\n",
       "      <td>0.0</td>\n",
       "      <td>0.0</td>\n",
       "      <td>New post (Could  Ripple   XRP  Really Reach $1...</td>\n",
       "      <td>/ExcelVisibility/status/988530235493748736</td>\n",
       "      <td>815322320</td>\n",
       "      <td>ExcelVisibility</td>\n",
       "      <td>NaN</td>\n",
       "      <td>NaN</td>\n",
       "    </tr>\n",
       "    <tr>\n",
       "      <th>1</th>\n",
       "      <td>9.847927e+17</td>\n",
       "      <td>2018-04-13 09:57:41</td>\n",
       "      <td>0.0</td>\n",
       "      <td>0.0</td>\n",
       "      <td>0.0</td>\n",
       "      <td>0.0</td>\n",
       "      <td>0.0</td>\n",
       "      <td>Did you know that you can buy, sell, store, co...</td>\n",
       "      <td>/coindirectcom/status/984792745666580481</td>\n",
       "      <td>915453520924545025</td>\n",
       "      <td>coindirectcom</td>\n",
       "      <td>1.0</td>\n",
       "      <td>[https://t.co/h1CTJHGwPs]</td>\n",
       "    </tr>\n",
       "    <tr>\n",
       "      <th>2</th>\n",
       "      <td>9.863800e+17</td>\n",
       "      <td>2018-04-17 19:05:02</td>\n",
       "      <td>0.0</td>\n",
       "      <td>0.0</td>\n",
       "      <td>0.0</td>\n",
       "      <td>0.0</td>\n",
       "      <td>0.0</td>\n",
       "      <td>1  Ripple  = 0.6589 USD.  Ripple  has changed ...</td>\n",
       "      <td>/RippleMarket/status/986380040517701633</td>\n",
       "      <td>848989770923601922</td>\n",
       "      <td>RippleMarket</td>\n",
       "      <td>NaN</td>\n",
       "      <td>NaN</td>\n",
       "    </tr>\n",
       "    <tr>\n",
       "      <th>3</th>\n",
       "      <td>9.853410e+17</td>\n",
       "      <td>2018-04-14 22:16:19</td>\n",
       "      <td>0.0</td>\n",
       "      <td>0.0</td>\n",
       "      <td>0.0</td>\n",
       "      <td>0.0</td>\n",
       "      <td>1.0</td>\n",
       "      <td># Batteries  #ITO  #ICO  #Token  #TokenSale  #...</td>\n",
       "      <td>/nsdelpitiya/status/985341014339608576</td>\n",
       "      <td>880003387672088576</td>\n",
       "      <td>nsdelpitiya</td>\n",
       "      <td>NaN</td>\n",
       "      <td>NaN</td>\n",
       "    </tr>\n",
       "    <tr>\n",
       "      <th>4</th>\n",
       "      <td>9.866047e+17</td>\n",
       "      <td>2018-04-18 09:57:42</td>\n",
       "      <td>0.0</td>\n",
       "      <td>0.0</td>\n",
       "      <td>0.0</td>\n",
       "      <td>0.0</td>\n",
       "      <td>0.0</td>\n",
       "      <td>How Is #Ripple  Different From All Other #Cryp...</td>\n",
       "      <td>/Matthix191/status/986604686856933376</td>\n",
       "      <td>916641996823031808</td>\n",
       "      <td>Matthix191</td>\n",
       "      <td>1.0</td>\n",
       "      <td>[https://t.co/xF5l49lz8P]</td>\n",
       "    </tr>\n",
       "  </tbody>\n",
       "</table>\n",
       "</div>"
      ],
      "text/plain": [
       "             ID            datetime  is_reply  is_retweet  nbr_favorite  \\\n",
       "0  9.885302e+17 2018-04-23 17:29:08       0.0         0.0           0.0   \n",
       "1  9.847927e+17 2018-04-13 09:57:41       0.0         0.0           0.0   \n",
       "2  9.863800e+17 2018-04-17 19:05:02       0.0         0.0           0.0   \n",
       "3  9.853410e+17 2018-04-14 22:16:19       0.0         0.0           0.0   \n",
       "4  9.866047e+17 2018-04-18 09:57:42       0.0         0.0           0.0   \n",
       "\n",
       "   nbr_reply  nbr_retweet                                               text  \\\n",
       "0        0.0          0.0  New post (Could  Ripple   XRP  Really Reach $1...   \n",
       "1        0.0          0.0  Did you know that you can buy, sell, store, co...   \n",
       "2        0.0          0.0  1  Ripple  = 0.6589 USD.  Ripple  has changed ...   \n",
       "3        0.0          1.0  # Batteries  #ITO  #ICO  #Token  #TokenSale  #...   \n",
       "4        0.0          0.0  How Is #Ripple  Different From All Other #Cryp...   \n",
       "\n",
       "                                          url             user_id  \\\n",
       "0  /ExcelVisibility/status/988530235493748736           815322320   \n",
       "1    /coindirectcom/status/984792745666580481  915453520924545025   \n",
       "2     /RippleMarket/status/986380040517701633  848989770923601922   \n",
       "3      /nsdelpitiya/status/985341014339608576  880003387672088576   \n",
       "4       /Matthix191/status/986604686856933376  916641996823031808   \n",
       "\n",
       "     usernameTweet  has_media                     medias  \n",
       "0  ExcelVisibility        NaN                        NaN  \n",
       "1    coindirectcom        1.0  [https://t.co/h1CTJHGwPs]  \n",
       "2     RippleMarket        NaN                        NaN  \n",
       "3      nsdelpitiya        NaN                        NaN  \n",
       "4       Matthix191        1.0  [https://t.co/xF5l49lz8P]  "
      ]
     },
     "execution_count": 5,
     "metadata": {},
     "output_type": "execute_result"
    }
   ],
   "source": [
    "tweets_df.head()"
   ]
  },
  {
   "cell_type": "code",
   "execution_count": 6,
   "metadata": {
    "collapsed": false
   },
   "outputs": [
    {
     "data": {
      "text/plain": [
       "Timestamp('2018-04-13 07:09:42')"
      ]
     },
     "execution_count": 6,
     "metadata": {},
     "output_type": "execute_result"
    }
   ],
   "source": [
    "min(tweets_df['datetime'])"
   ]
  },
  {
   "cell_type": "code",
   "execution_count": 7,
   "metadata": {
    "collapsed": true
   },
   "outputs": [],
   "source": [
    "def cielDatetime(d):\n",
    "    delta = 3600-((d.minute*60+d.second)%3600)\n",
    "    \n",
    "    td = dt.timedelta(seconds=delta)\n",
    "    return d.to_pydatetime()+td\n",
    "\n",
    "def datetimeToZulu(d):\n",
    "    td = dt.timedelta(minutes=240)\n",
    "    return d.to_pydatetime()+td"
   ]
  },
  {
   "cell_type": "code",
   "execution_count": 8,
   "metadata": {
    "collapsed": false
   },
   "outputs": [],
   "source": [
    "tweets_df['rounded_dateTime'] = tweets_df['datetime'].apply(lambda t : cielDatetime(t))\n",
    "# tweets_df['rounded_zulu'] = tweets_df['rounded_dateTime'].apply(lambda t : datetimeToZulu(t))"
   ]
  },
  {
   "cell_type": "code",
   "execution_count": 9,
   "metadata": {
    "collapsed": false
   },
   "outputs": [
    {
     "name": "stdout",
     "output_type": "stream",
     "text": [
      "<class 'pandas.core.frame.DataFrame'>\n",
      "RangeIndex: 25435 entries, 0 to 25434\n",
      "Data columns (total 14 columns):\n",
      "ID                  25435 non-null float64\n",
      "datetime            25435 non-null datetime64[ns]\n",
      "is_reply            25435 non-null float64\n",
      "is_retweet          25435 non-null float64\n",
      "nbr_favorite        25435 non-null float64\n",
      "nbr_reply           25435 non-null float64\n",
      "nbr_retweet         25435 non-null float64\n",
      "text                25435 non-null object\n",
      "url                 25435 non-null object\n",
      "user_id             25435 non-null object\n",
      "usernameTweet       25435 non-null object\n",
      "has_media           8834 non-null float64\n",
      "medias              8834 non-null object\n",
      "rounded_dateTime    25435 non-null datetime64[ns]\n",
      "dtypes: datetime64[ns](2), float64(7), object(5)\n",
      "memory usage: 2.7+ MB\n"
     ]
    }
   ],
   "source": [
    "tweets_df.info()"
   ]
  },
  {
   "cell_type": "code",
   "execution_count": 10,
   "metadata": {
    "collapsed": false
   },
   "outputs": [],
   "source": [
    "dateTimeGroup = tweets_df.groupby('rounded_dateTime')['ID'].count().rename('tweetCount').reset_index()"
   ]
  },
  {
   "cell_type": "code",
   "execution_count": 11,
   "metadata": {
    "collapsed": false
   },
   "outputs": [
    {
     "data": {
      "text/html": [
       "<div>\n",
       "<style>\n",
       "    .dataframe thead tr:only-child th {\n",
       "        text-align: right;\n",
       "    }\n",
       "\n",
       "    .dataframe thead th {\n",
       "        text-align: left;\n",
       "    }\n",
       "\n",
       "    .dataframe tbody tr th {\n",
       "        vertical-align: top;\n",
       "    }\n",
       "</style>\n",
       "<table border=\"1\" class=\"dataframe\">\n",
       "  <thead>\n",
       "    <tr style=\"text-align: right;\">\n",
       "      <th></th>\n",
       "      <th>rounded_dateTime</th>\n",
       "      <th>tweetCount</th>\n",
       "    </tr>\n",
       "  </thead>\n",
       "  <tbody>\n",
       "    <tr>\n",
       "      <th>0</th>\n",
       "      <td>2018-04-13 08:00:00</td>\n",
       "      <td>83</td>\n",
       "    </tr>\n",
       "    <tr>\n",
       "      <th>1</th>\n",
       "      <td>2018-04-13 09:00:00</td>\n",
       "      <td>131</td>\n",
       "    </tr>\n",
       "    <tr>\n",
       "      <th>2</th>\n",
       "      <td>2018-04-13 10:00:00</td>\n",
       "      <td>169</td>\n",
       "    </tr>\n",
       "    <tr>\n",
       "      <th>3</th>\n",
       "      <td>2018-04-13 11:00:00</td>\n",
       "      <td>116</td>\n",
       "    </tr>\n",
       "    <tr>\n",
       "      <th>4</th>\n",
       "      <td>2018-04-13 12:00:00</td>\n",
       "      <td>112</td>\n",
       "    </tr>\n",
       "    <tr>\n",
       "      <th>5</th>\n",
       "      <td>2018-04-13 13:00:00</td>\n",
       "      <td>123</td>\n",
       "    </tr>\n",
       "    <tr>\n",
       "      <th>6</th>\n",
       "      <td>2018-04-13 14:00:00</td>\n",
       "      <td>135</td>\n",
       "    </tr>\n",
       "    <tr>\n",
       "      <th>7</th>\n",
       "      <td>2018-04-13 15:00:00</td>\n",
       "      <td>93</td>\n",
       "    </tr>\n",
       "    <tr>\n",
       "      <th>8</th>\n",
       "      <td>2018-04-13 16:00:00</td>\n",
       "      <td>110</td>\n",
       "    </tr>\n",
       "    <tr>\n",
       "      <th>9</th>\n",
       "      <td>2018-04-13 17:00:00</td>\n",
       "      <td>117</td>\n",
       "    </tr>\n",
       "  </tbody>\n",
       "</table>\n",
       "</div>"
      ],
      "text/plain": [
       "     rounded_dateTime  tweetCount\n",
       "0 2018-04-13 08:00:00          83\n",
       "1 2018-04-13 09:00:00         131\n",
       "2 2018-04-13 10:00:00         169\n",
       "3 2018-04-13 11:00:00         116\n",
       "4 2018-04-13 12:00:00         112\n",
       "5 2018-04-13 13:00:00         123\n",
       "6 2018-04-13 14:00:00         135\n",
       "7 2018-04-13 15:00:00          93\n",
       "8 2018-04-13 16:00:00         110\n",
       "9 2018-04-13 17:00:00         117"
      ]
     },
     "execution_count": 11,
     "metadata": {},
     "output_type": "execute_result"
    }
   ],
   "source": [
    "dateTimeGroup.head(10)"
   ]
  },
  {
   "cell_type": "code",
   "execution_count": 314,
   "metadata": {
    "collapsed": false,
    "scrolled": true
   },
   "outputs": [
    {
     "data": {
      "text/html": [
       "<div>\n",
       "<style>\n",
       "    .dataframe thead tr:only-child th {\n",
       "        text-align: right;\n",
       "    }\n",
       "\n",
       "    .dataframe thead th {\n",
       "        text-align: left;\n",
       "    }\n",
       "\n",
       "    .dataframe tbody tr th {\n",
       "        vertical-align: top;\n",
       "    }\n",
       "</style>\n",
       "<table border=\"1\" class=\"dataframe\">\n",
       "  <thead>\n",
       "    <tr style=\"text-align: right;\">\n",
       "      <th></th>\n",
       "      <th>tweetCount</th>\n",
       "    </tr>\n",
       "  </thead>\n",
       "  <tbody>\n",
       "    <tr>\n",
       "      <th>count</th>\n",
       "      <td>267.000000</td>\n",
       "    </tr>\n",
       "    <tr>\n",
       "      <th>mean</th>\n",
       "      <td>95.262172</td>\n",
       "    </tr>\n",
       "    <tr>\n",
       "      <th>std</th>\n",
       "      <td>28.270687</td>\n",
       "    </tr>\n",
       "    <tr>\n",
       "      <th>min</th>\n",
       "      <td>42.000000</td>\n",
       "    </tr>\n",
       "    <tr>\n",
       "      <th>25%</th>\n",
       "      <td>73.500000</td>\n",
       "    </tr>\n",
       "    <tr>\n",
       "      <th>50%</th>\n",
       "      <td>94.000000</td>\n",
       "    </tr>\n",
       "    <tr>\n",
       "      <th>75%</th>\n",
       "      <td>111.000000</td>\n",
       "    </tr>\n",
       "    <tr>\n",
       "      <th>max</th>\n",
       "      <td>221.000000</td>\n",
       "    </tr>\n",
       "  </tbody>\n",
       "</table>\n",
       "</div>"
      ],
      "text/plain": [
       "       tweetCount\n",
       "count  267.000000\n",
       "mean    95.262172\n",
       "std     28.270687\n",
       "min     42.000000\n",
       "25%     73.500000\n",
       "50%     94.000000\n",
       "75%    111.000000\n",
       "max    221.000000"
      ]
     },
     "execution_count": 314,
     "metadata": {},
     "output_type": "execute_result"
    }
   ],
   "source": [
    "dateTimeGroup.describe()"
   ]
  },
  {
   "cell_type": "code",
   "execution_count": 331,
   "metadata": {
    "collapsed": false
   },
   "outputs": [],
   "source": [
    "url = 'https://min-api.cryptocompare.com/data/histohour?fsym=XRP&tsym=USD&limit=297&aggregate=1&e=CCCAGG'\n",
    "response = requests.get(url)\n",
    "historical_xrp_prices = json.loads(response.text)\n",
    "fromDate = historical_xrp_prices['TimeFrom']\n",
    "toDate = historical_xrp_prices['TimeTo']"
   ]
  },
  {
   "cell_type": "code",
   "execution_count": 332,
   "metadata": {
    "collapsed": false
   },
   "outputs": [
    {
     "name": "stdout",
     "output_type": "stream",
     "text": [
      "298 Price Samples\n",
      "From: 2018-04-13 08:00:00\n",
      "To: 2018-04-25 17:00:00\n"
     ]
    }
   ],
   "source": [
    "print(str(len(historical_xrp_prices['Data'])) + ' Price Samples')\n",
    "print('From: ' + str(dt.datetime.utcfromtimestamp(int(fromDate))))\n",
    "print('To: ' + str(dt.datetime.utcfromtimestamp(int(toDate)))) "
   ]
  },
  {
   "cell_type": "code",
   "execution_count": 343,
   "metadata": {
    "collapsed": true
   },
   "outputs": [],
   "source": [
    "xrp_prices = pd.DataFrame()\n",
    "\n",
    "for price in priceData:\n",
    "    price['time'] = dt.datetime.fromtimestamp(price['time'])\n",
    "    xrp_prices = xrp_prices.append(price, ignore_index=True)"
   ]
  },
  {
   "cell_type": "code",
   "execution_count": 345,
   "metadata": {
    "collapsed": false
   },
   "outputs": [
    {
     "data": {
      "text/html": [
       "<div>\n",
       "<style>\n",
       "    .dataframe thead tr:only-child th {\n",
       "        text-align: right;\n",
       "    }\n",
       "\n",
       "    .dataframe thead th {\n",
       "        text-align: left;\n",
       "    }\n",
       "\n",
       "    .dataframe tbody tr th {\n",
       "        vertical-align: top;\n",
       "    }\n",
       "</style>\n",
       "<table border=\"1\" class=\"dataframe\">\n",
       "  <thead>\n",
       "    <tr style=\"text-align: right;\">\n",
       "      <th></th>\n",
       "      <th>close</th>\n",
       "      <th>high</th>\n",
       "      <th>low</th>\n",
       "      <th>open</th>\n",
       "      <th>time</th>\n",
       "      <th>volumefrom</th>\n",
       "      <th>volumeto</th>\n",
       "    </tr>\n",
       "  </thead>\n",
       "  <tbody>\n",
       "    <tr>\n",
       "      <th>293</th>\n",
       "      <td>0.7977</td>\n",
       "      <td>0.8181</td>\n",
       "      <td>0.7816</td>\n",
       "      <td>0.8173</td>\n",
       "      <td>2018-04-25 09:00:00</td>\n",
       "      <td>13644652.71</td>\n",
       "      <td>10884916.74</td>\n",
       "    </tr>\n",
       "    <tr>\n",
       "      <th>294</th>\n",
       "      <td>0.7935</td>\n",
       "      <td>0.7988</td>\n",
       "      <td>0.7689</td>\n",
       "      <td>0.7972</td>\n",
       "      <td>2018-04-25 10:00:00</td>\n",
       "      <td>26404658.96</td>\n",
       "      <td>20581416.05</td>\n",
       "    </tr>\n",
       "    <tr>\n",
       "      <th>295</th>\n",
       "      <td>0.8075</td>\n",
       "      <td>0.8097</td>\n",
       "      <td>0.7848</td>\n",
       "      <td>0.7935</td>\n",
       "      <td>2018-04-25 11:00:00</td>\n",
       "      <td>11383460.79</td>\n",
       "      <td>9113748.38</td>\n",
       "    </tr>\n",
       "    <tr>\n",
       "      <th>296</th>\n",
       "      <td>0.8010</td>\n",
       "      <td>0.8076</td>\n",
       "      <td>0.7845</td>\n",
       "      <td>0.8075</td>\n",
       "      <td>2018-04-25 12:00:00</td>\n",
       "      <td>5329127.79</td>\n",
       "      <td>4230833.46</td>\n",
       "    </tr>\n",
       "    <tr>\n",
       "      <th>297</th>\n",
       "      <td>0.8021</td>\n",
       "      <td>0.8021</td>\n",
       "      <td>0.8010</td>\n",
       "      <td>0.8010</td>\n",
       "      <td>2018-04-25 13:00:00</td>\n",
       "      <td>0.00</td>\n",
       "      <td>0.00</td>\n",
       "    </tr>\n",
       "  </tbody>\n",
       "</table>\n",
       "</div>"
      ],
      "text/plain": [
       "      close    high     low    open                time   volumefrom  \\\n",
       "293  0.7977  0.8181  0.7816  0.8173 2018-04-25 09:00:00  13644652.71   \n",
       "294  0.7935  0.7988  0.7689  0.7972 2018-04-25 10:00:00  26404658.96   \n",
       "295  0.8075  0.8097  0.7848  0.7935 2018-04-25 11:00:00  11383460.79   \n",
       "296  0.8010  0.8076  0.7845  0.8075 2018-04-25 12:00:00   5329127.79   \n",
       "297  0.8021  0.8021  0.8010  0.8010 2018-04-25 13:00:00         0.00   \n",
       "\n",
       "        volumeto  \n",
       "293  10884916.74  \n",
       "294  20581416.05  \n",
       "295   9113748.38  \n",
       "296   4230833.46  \n",
       "297         0.00  "
      ]
     },
     "execution_count": 345,
     "metadata": {},
     "output_type": "execute_result"
    }
   ],
   "source": [
    "xrp_prices.tail()"
   ]
  },
  {
   "cell_type": "code",
   "execution_count": 346,
   "metadata": {
    "collapsed": true
   },
   "outputs": [],
   "source": [
    "xrp_prices.to_pickle('./xrp_price_data_hourly.pkl')"
   ]
  },
  {
   "cell_type": "code",
   "execution_count": 20,
   "metadata": {
    "collapsed": false
   },
   "outputs": [
    {
     "name": "stderr",
     "output_type": "stream",
     "text": [
      "/Users/Braden/anaconda/lib/python3.6/site-packages/matplotlib/axes/_axes.py:6462: UserWarning: The 'normed' kwarg is deprecated, and has been replaced by the 'density' kwarg.\n",
      "  warnings.warn(\"The 'normed' kwarg is deprecated, and has been \"\n"
     ]
    },
    {
     "data": {
      "text/plain": [
       "<matplotlib.axes._subplots.AxesSubplot at 0x11e572a58>"
      ]
     },
     "execution_count": 20,
     "metadata": {},
     "output_type": "execute_result"
    },
    {
     "data": {
      "image/png": "[encoded data removed]",
      "text/plain": [
       "<Figure size 432x288 with 1 Axes>"
      ]
     },
     "metadata": {},
     "output_type": "display_data"
    }
   ],
   "source": [
    "sns.distplot(dateTimeGroup['tweetCount'])"
   ]
  },
  {
   "cell_type": "code",
   "execution_count": null,
   "metadata": {
    "collapsed": true
   },
   "outputs": [],
   "source": []
  }
 ],
 "metadata": {
  "kernelspec": {
   "display_name": "Python 3",
   "language": "python",
   "name": "python3"
  },
  "language_info": {
   "codemirror_mode": {
    "name": "ipython",
    "version": 3
   },
   "file_extension": ".py",
   "mimetype": "text/x-python",
   "name": "python",
   "nbconvert_exporter": "python",
   "pygments_lexer": "ipython3",
   "version": "3.6.0"
  }
 },
 "nbformat": 4,
 "nbformat_minor": 2
}
