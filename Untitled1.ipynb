{
 "cells": [
  {
   "cell_type": "code",
   "execution_count": 1,
   "metadata": {
    "collapsed": true
   },
   "outputs": [],
   "source": [
    "import pandas as pd"
   ]
  },
  {
   "cell_type": "code",
   "execution_count": 9,
   "metadata": {
    "collapsed": false
   },
   "outputs": [
    {
     "data": {
      "text/plain": [
       "{'ID': '984788405044285440',\n",
       " 'datetime': '2018-04-13 09:40:26',\n",
       " 'has_media': True,\n",
       " 'is_reply': False,\n",
       " 'is_retweet': False,\n",
       " 'medias': ['https://t.co/CRoz3Vh7ZU'],\n",
       " 'nbr_favorite': 0,\n",
       " 'nbr_reply': 0,\n",
       " 'nbr_retweet': 0,\n",
       " 'text': 'Hello! We started our spacious «10x project»  https:// goo.gl/1BZKPd \\xa0 \\n\\n  $ SC   $ NEX   $ POP   $ NXS   $ XRP  17.23   $ HEAT   $ TKY   $ WAVES   $ NMR   $ SAFEX   $ CGE   $ CLUB   $ TKN   $ NAV   $ SLS   $ BYC   $ PLBT   $ POE   $ XEM   $ CLAM   $ SNGLS  \\n   3yTGEtznrksy4G7i79Z7hzfT',\n",
       " 'url': '/HyhhDx1ubatwX52/status/984788405044285440',\n",
       " 'user_id': '913731301211074563',\n",
       " 'usernameTweet': 'HyhhDx1ubatwX52'}"
      ]
     },
     "execution_count": 9,
     "metadata": {},
     "output_type": "execute_result"
    }
   ],
   "source": [
    "pd.read_pickle(\"984788405044285440.pickle\")"
   ]
  },
  {
   "cell_type": "code",
   "execution_count": null,
   "metadata": {
    "collapsed": true
   },
   "outputs": [],
   "source": []
  }
 ],
 "metadata": {
  "kernelspec": {
   "display_name": "Python 3",
   "language": "python",
   "name": "python3"
  },
  "language_info": {
   "codemirror_mode": {
    "name": "ipython",
    "version": 3
   },
   "file_extension": ".py",
   "mimetype": "text/x-python",
   "name": "python",
   "nbconvert_exporter": "python",
   "pygments_lexer": "ipython3",
   "version": "3.6.0"
  }
 },
 "nbformat": 4,
 "nbformat_minor": 2
}
