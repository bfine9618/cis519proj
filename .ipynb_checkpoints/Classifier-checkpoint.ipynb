{
 "cells": [
  {
   "cell_type": "code",
   "execution_count": 25,
   "metadata": {},
   "outputs": [],
   "source": [
    "import pandas as pd\n",
    "import string\n",
    "import numpy as np\n",
    "import matplotlib.pyplot as plt\n",
    "import itertools\n",
    "import seaborn as sb\n",
    "\n",
    "from sklearn import svm\n",
    "from sklearn.linear_model import LogisticRegression\n",
    "from sklearn.feature_extraction import DictVectorizer\n",
    "from nltk.stem import WordNetLemmatizer, PorterStemmer\n",
    "from collections import defaultdict\n",
    "from nltk.corpus import stopwords\n",
    "from nltk.tokenize import word_tokenize\n",
    "from nltk import bigrams\n",
    "from nltk import trigrams\n",
    "from sklearn.metrics import classification_report,confusion_matrix\n",
    "from sklearn.model_selection import train_test_split, GridSearchCV, ShuffleSplit, cross_val_score, LeaveOneOut\n",
    "from sklearn.preprocessing import StandardScaler\n",
    "from sklearn.neural_network import MLPClassifier\n",
    "from sklearn.naive_bayes import MultinomialNB\n",
    "from sklearn.ensemble import RandomForestClassifier"
   ]
  },
  {
   "cell_type": "code",
   "execution_count": 26,
   "metadata": {},
   "outputs": [],
   "source": [
    "class Data(object):\n",
    "    def __init__(self):\n",
    "        '''\n",
    "        Class constructor or initialization method.\n",
    "        '''\n",
    "    def predict(self):\n",
    "        self.clf.fit(self.X, self.y)\n",
    "        for x, y in zip(self.X,self.y):\n",
    "            print(\"{} {}\".format(self.clf.predict(x),y))\n",
    "    \n",
    "    def validate(self, splits=10, test=0.1):\n",
    "        cv = ShuffleSplit(n_splits=splits, test_size=test)\n",
    "        scores = cross_val_score(self.clf, self.X, self.y, cv=cv)\n",
    "        return scores.mean()\n",
    "        \n",
    "    def train_score(self):\n",
    "        return self.clf.score(self.X,self.y)\n",
    "        \n",
    "    def load_data(self, data, threshold=0, num_hours=1):\n",
    "        # Check market change\n",
    "        #data['grew'] = np.select([data['pDelta']>threshold,data['pDelta']<-threshold],[1,-1],default=0)\n",
    "        \n",
    "        self.x ={}\n",
    "        self.y ={}\n",
    "        \n",
    "        hours = data.timeId.unique()\n",
    "        hours.sort()\n",
    "        count = 0\n",
    "        index = 0\n",
    "        change = 1\n",
    "        remap = {}\n",
    "        \n",
    "        for hour in hours:\n",
    "            change *= 1+data.loc[data['timeId']==hour].iloc[0]['pDelta']\n",
    "            remap[hour] = index\n",
    "            count += 1\n",
    "            if count >= num_hours:\n",
    "                self.x[index] = defaultdict(int)\n",
    "                if change > 1+threshold:\n",
    "                    self.y[index] = 1\n",
    "                elif change < 1-threshold:\n",
    "                    self.y[index] = -1\n",
    "                else:\n",
    "                    self.y[index] = 0\n",
    "                count = 0\n",
    "                change = 1\n",
    "                index += 1\n",
    "        #handle potential end missing\n",
    "        if count>0:\n",
    "            self.x[index] = defaultdict(int)\n",
    "            if change > 1+threshold:\n",
    "                self.y[index] = 1\n",
    "            elif change < 1-threshold:\n",
    "                self.y[index] = -1\n",
    "            else:\n",
    "                self.y[index] = 0\n",
    "            \n",
    "            \n",
    "        wnl = WordNetLemmatizer()\n",
    "        stemmer = PorterStemmer()\n",
    "        stopset = stopwords.words('english')\n",
    "        ignore = str.maketrans('', '', string.punctuation+string.digits)\n",
    "        for index, row in data.iterrows():\n",
    "            tag = remap[row['timeId']]\n",
    "            words = set()\n",
    "            line = row['text'].translate(ignore)\n",
    "            tokens = word_tokenize(line)\n",
    "            tokens = [ stemmer.stem(token.lower()) for token in tokens ]\n",
    "            tokens = [w for w in tokens if not w in stopset]\n",
    "            bigrm = bigrams(tokens)\n",
    "#             trigrm = trigrams(tokens)\n",
    "            for word in tokens:\n",
    "                words.add(word)\n",
    "            for word in words:\n",
    "                self.x[tag][word] += 1\n",
    "            for gram in bigrm:\n",
    "                word = gram[0]+gram[1]\n",
    "                self.x[tag][word] += 1\n",
    "#             for gram in trigrm:\n",
    "#                 word = gram[0]+gram[1]+gram[2]\n",
    "#                 self.x[tag][word] += 1\n",
    "                \n",
    "        self.x = [self.x[key] for key in sorted(self.x.keys())]\n",
    "        self.y = [self.y[key] for key in sorted(self.y.keys())]\n",
    "#         v = DictVectorizer()\n",
    "#         self.X = v.fit_transform(self.x)\n",
    "#         self.Y = self.y[:]\n",
    "        self.trim()\n",
    "        self.shift(0)\n",
    "    \n",
    "    def trim(self):\n",
    "        new_x = []\n",
    "        new_y = []\n",
    "        for a, b in zip(self.x, self.y):\n",
    "            if len(a) > 0:\n",
    "                new_x.append(a)\n",
    "                new_y.append(b)\n",
    "        self.x=new_x\n",
    "        self.y=new_y\n",
    "    def shift(self, shift):\n",
    "        v = DictVectorizer()\n",
    "        self.X = v.fit_transform(self.x[:len(self.x)-shift])\n",
    "        self.Y = self.y[shift:]"
   ]
  },
  {
   "cell_type": "code",
   "execution_count": 27,
   "metadata": {},
   "outputs": [],
   "source": [
    "def plot_confusion_matrix(cm, classes, title='Confusion matrix', cmap=plt.cm.Blues):\n",
    "    plt.imshow(cm, interpolation='nearest', cmap=cmap)\n",
    "    plt.title(title)\n",
    "    plt.colorbar()\n",
    "    tick_marks = np.arange(len(classes))\n",
    "    plt.xticks(tick_marks, classes, rotation=90)\n",
    "    plt.yticks(tick_marks, classes)\n",
    "\n",
    "    fmt = 'd'\n",
    "    thresh = cm.max() / 2.\n",
    "    for i, j in itertools.product(range(cm.shape[0]), range(cm.shape[1])):\n",
    "        plt.text(j, i, format(cm[i, j], fmt),horizontalalignment=\"center\",color=\"white\" if cm[i, j] > thresh else \"black\")\n",
    "\n",
    "    plt.tight_layout()\n",
    "    plt.ylabel('True label')\n",
    "    plt.xlabel('Predicted label')"
   ]
  },
  {
   "cell_type": "code",
   "execution_count": 28,
   "metadata": {},
   "outputs": [
    {
     "data": {
      "text/html": [
       "<div>\n",
       "<style scoped>\n",
       "    .dataframe tbody tr th:only-of-type {\n",
       "        vertical-align: middle;\n",
       "    }\n",
       "\n",
       "    .dataframe tbody tr th {\n",
       "        vertical-align: top;\n",
       "    }\n",
       "\n",
       "    .dataframe thead th {\n",
       "        text-align: right;\n",
       "    }\n",
       "</style>\n",
       "<table border=\"1\" class=\"dataframe\">\n",
       "  <thead>\n",
       "    <tr style=\"text-align: right;\">\n",
       "      <th></th>\n",
       "      <th>ID</th>\n",
       "      <th>datetime</th>\n",
       "      <th>is_reply</th>\n",
       "      <th>is_retweet</th>\n",
       "      <th>nbr_favorite</th>\n",
       "      <th>nbr_reply</th>\n",
       "      <th>nbr_retweet</th>\n",
       "      <th>text</th>\n",
       "      <th>url</th>\n",
       "      <th>user_id</th>\n",
       "      <th>...</th>\n",
       "      <th>nbr_words</th>\n",
       "      <th>nbr_tokens</th>\n",
       "      <th>wordlesstok</th>\n",
       "      <th>nbr_tags</th>\n",
       "      <th>nbr_ex</th>\n",
       "      <th>nbr_q</th>\n",
       "      <th>nbr_mentions</th>\n",
       "      <th>has_url</th>\n",
       "      <th>Ypred</th>\n",
       "      <th>trustworthiness</th>\n",
       "    </tr>\n",
       "  </thead>\n",
       "  <tbody>\n",
       "    <tr>\n",
       "      <th>0</th>\n",
       "      <td>9.885302e+17</td>\n",
       "      <td>2018-04-23 17:29:08</td>\n",
       "      <td>0.0</td>\n",
       "      <td>0.0</td>\n",
       "      <td>0.0</td>\n",
       "      <td>0.0</td>\n",
       "      <td>0.0</td>\n",
       "      <td>New post (Could  Ripple   XRP  Really Reach $1...</td>\n",
       "      <td>/ExcelVisibility/status/988530235493748736</td>\n",
       "      <td>815322320</td>\n",
       "      <td>...</td>\n",
       "      <td>27</td>\n",
       "      <td>17</td>\n",
       "      <td>10</td>\n",
       "      <td>0</td>\n",
       "      <td>0</td>\n",
       "      <td>0</td>\n",
       "      <td>0</td>\n",
       "      <td>True</td>\n",
       "      <td>False</td>\n",
       "      <td>0.506690</td>\n",
       "    </tr>\n",
       "    <tr>\n",
       "      <th>1</th>\n",
       "      <td>9.866292e+17</td>\n",
       "      <td>2018-04-18 11:35:08</td>\n",
       "      <td>0.0</td>\n",
       "      <td>0.0</td>\n",
       "      <td>0.0</td>\n",
       "      <td>0.0</td>\n",
       "      <td>0.0</td>\n",
       "      <td>Long/Short Bitcoin swings with up to 100x Leve...</td>\n",
       "      <td>/KerriHermanx/status/986629205856223233</td>\n",
       "      <td>956303409065414656</td>\n",
       "      <td>...</td>\n",
       "      <td>95</td>\n",
       "      <td>38</td>\n",
       "      <td>57</td>\n",
       "      <td>0</td>\n",
       "      <td>1</td>\n",
       "      <td>0</td>\n",
       "      <td>0</td>\n",
       "      <td>True</td>\n",
       "      <td>True</td>\n",
       "      <td>0.201110</td>\n",
       "    </tr>\n",
       "    <tr>\n",
       "      <th>2</th>\n",
       "      <td>9.847927e+17</td>\n",
       "      <td>2018-04-13 09:57:41</td>\n",
       "      <td>0.0</td>\n",
       "      <td>0.0</td>\n",
       "      <td>0.0</td>\n",
       "      <td>0.0</td>\n",
       "      <td>0.0</td>\n",
       "      <td>Did you know that you can buy, sell, store, co...</td>\n",
       "      <td>/coindirectcom/status/984792745666580481</td>\n",
       "      <td>915453520924545025</td>\n",
       "      <td>...</td>\n",
       "      <td>53</td>\n",
       "      <td>26</td>\n",
       "      <td>27</td>\n",
       "      <td>2</td>\n",
       "      <td>0</td>\n",
       "      <td>0</td>\n",
       "      <td>1</td>\n",
       "      <td>True</td>\n",
       "      <td>False</td>\n",
       "      <td>0.605244</td>\n",
       "    </tr>\n",
       "    <tr>\n",
       "      <th>3</th>\n",
       "      <td>9.863800e+17</td>\n",
       "      <td>2018-04-17 19:05:02</td>\n",
       "      <td>0.0</td>\n",
       "      <td>0.0</td>\n",
       "      <td>0.0</td>\n",
       "      <td>0.0</td>\n",
       "      <td>0.0</td>\n",
       "      <td>1  Ripple  = 0.6589 USD.  Ripple  has changed ...</td>\n",
       "      <td>/RippleMarket/status/986380040517701633</td>\n",
       "      <td>848989770923601922</td>\n",
       "      <td>...</td>\n",
       "      <td>31</td>\n",
       "      <td>14</td>\n",
       "      <td>17</td>\n",
       "      <td>3</td>\n",
       "      <td>0</td>\n",
       "      <td>0</td>\n",
       "      <td>0</td>\n",
       "      <td>True</td>\n",
       "      <td>False</td>\n",
       "      <td>0.546682</td>\n",
       "    </tr>\n",
       "    <tr>\n",
       "      <th>4</th>\n",
       "      <td>9.866047e+17</td>\n",
       "      <td>2018-04-18 09:57:42</td>\n",
       "      <td>0.0</td>\n",
       "      <td>0.0</td>\n",
       "      <td>0.0</td>\n",
       "      <td>0.0</td>\n",
       "      <td>0.0</td>\n",
       "      <td>How Is #Ripple  Different From All Other #Cryp...</td>\n",
       "      <td>/Matthix191/status/986604686856933376</td>\n",
       "      <td>916641996823031808</td>\n",
       "      <td>...</td>\n",
       "      <td>91</td>\n",
       "      <td>35</td>\n",
       "      <td>56</td>\n",
       "      <td>8</td>\n",
       "      <td>0</td>\n",
       "      <td>0</td>\n",
       "      <td>0</td>\n",
       "      <td>True</td>\n",
       "      <td>True</td>\n",
       "      <td>0.145760</td>\n",
       "    </tr>\n",
       "  </tbody>\n",
       "</table>\n",
       "<p>5 rows × 35 columns</p>\n",
       "</div>"
      ],
      "text/plain": [
       "             ID            datetime  is_reply  is_retweet  nbr_favorite  \\\n",
       "0  9.885302e+17 2018-04-23 17:29:08       0.0         0.0           0.0   \n",
       "1  9.866292e+17 2018-04-18 11:35:08       0.0         0.0           0.0   \n",
       "2  9.847927e+17 2018-04-13 09:57:41       0.0         0.0           0.0   \n",
       "3  9.863800e+17 2018-04-17 19:05:02       0.0         0.0           0.0   \n",
       "4  9.866047e+17 2018-04-18 09:57:42       0.0         0.0           0.0   \n",
       "\n",
       "   nbr_reply  nbr_retweet                                               text  \\\n",
       "0        0.0          0.0  New post (Could  Ripple   XRP  Really Reach $1...   \n",
       "1        0.0          0.0  Long/Short Bitcoin swings with up to 100x Leve...   \n",
       "2        0.0          0.0  Did you know that you can buy, sell, store, co...   \n",
       "3        0.0          0.0  1  Ripple  = 0.6589 USD.  Ripple  has changed ...   \n",
       "4        0.0          0.0  How Is #Ripple  Different From All Other #Cryp...   \n",
       "\n",
       "                                          url             user_id  \\\n",
       "0  /ExcelVisibility/status/988530235493748736           815322320   \n",
       "1     /KerriHermanx/status/986629205856223233  956303409065414656   \n",
       "2    /coindirectcom/status/984792745666580481  915453520924545025   \n",
       "3     /RippleMarket/status/986380040517701633  848989770923601922   \n",
       "4       /Matthix191/status/986604686856933376  916641996823031808   \n",
       "\n",
       "        ...       nbr_words  nbr_tokens wordlesstok nbr_tags  nbr_ex nbr_q  \\\n",
       "0       ...              27          17          10        0       0     0   \n",
       "1       ...              95          38          57        0       1     0   \n",
       "2       ...              53          26          27        2       0     0   \n",
       "3       ...              31          14          17        3       0     0   \n",
       "4       ...              91          35          56        8       0     0   \n",
       "\n",
       "   nbr_mentions has_url  Ypred trustworthiness  \n",
       "0             0    True  False        0.506690  \n",
       "1             0    True   True        0.201110  \n",
       "2             1    True  False        0.605244  \n",
       "3             0    True  False        0.546682  \n",
       "4             0    True   True        0.145760  \n",
       "\n",
       "[5 rows x 35 columns]"
      ]
     },
     "execution_count": 28,
     "metadata": {},
     "output_type": "execute_result"
    }
   ],
   "source": [
    "data = pd.read_pickle('Data/Cleaned/processed_data.pkl')\n",
    "sent = pd.read_pickle('Data/Cleaned/sentiment_tweets.pkl')\n",
    "trust = pd.read_pickle('Data/Cleaned/Filtered_tweets_df.pkl')\n",
    "trust.head()"
   ]
  },
  {
   "cell_type": "code",
   "execution_count": 29,
   "metadata": {},
   "outputs": [],
   "source": [
    "d = Data()\n",
    "d.load_data(data, num_hours=1, threshold = 0.005)"
   ]
  },
  {
   "cell_type": "code",
   "execution_count": 32,
   "metadata": {},
   "outputs": [
    {
     "name": "stdout",
     "output_type": "stream",
     "text": [
      "(288, 495661)\n"
     ]
    }
   ],
   "source": [
    "print(d.X.shape)"
   ]
  },
  {
   "cell_type": "code",
   "execution_count": 33,
   "metadata": {},
   "outputs": [
    {
     "ename": "NameError",
     "evalue": "name 'RandomForestClassifier' is not defined",
     "output_type": "error",
     "traceback": [
      "\u001b[0;31m---------------------------------------------------------------------------\u001b[0m",
      "\u001b[0;31mNameError\u001b[0m                                 Traceback (most recent call last)",
      "\u001b[0;32m<ipython-input-33-738db54f2693>\u001b[0m in \u001b[0;36m<module>\u001b[0;34m()\u001b[0m\n\u001b[1;32m      1\u001b[0m \u001b[0md\u001b[0m\u001b[0;34m.\u001b[0m\u001b[0mshift\u001b[0m\u001b[0;34m(\u001b[0m\u001b[0;36m1\u001b[0m\u001b[0;34m)\u001b[0m\u001b[0;34m\u001b[0m\u001b[0m\n\u001b[0;32m----> 2\u001b[0;31m \u001b[0mRFC\u001b[0m \u001b[0;34m=\u001b[0m \u001b[0mRandomForestClassifier\u001b[0m\u001b[0;34m(\u001b[0m\u001b[0mn_estimators\u001b[0m\u001b[0;34m=\u001b[0m\u001b[0;36m100\u001b[0m\u001b[0;34m,\u001b[0m\u001b[0mmax_depth\u001b[0m\u001b[0;34m=\u001b[0m\u001b[0;36m10\u001b[0m\u001b[0;34m)\u001b[0m\u001b[0;34m\u001b[0m\u001b[0m\n\u001b[0m\u001b[1;32m      3\u001b[0m \u001b[0mcv\u001b[0m \u001b[0;34m=\u001b[0m \u001b[0mShuffleSplit\u001b[0m\u001b[0;34m(\u001b[0m\u001b[0mn_splits\u001b[0m\u001b[0;34m=\u001b[0m\u001b[0;36m10\u001b[0m\u001b[0;34m,\u001b[0m \u001b[0mtest_size\u001b[0m\u001b[0;34m=\u001b[0m\u001b[0;36m0.1\u001b[0m\u001b[0;34m)\u001b[0m\u001b[0;34m\u001b[0m\u001b[0m\n\u001b[1;32m      4\u001b[0m \u001b[0mscores\u001b[0m \u001b[0;34m=\u001b[0m \u001b[0mcross_val_score\u001b[0m\u001b[0;34m(\u001b[0m\u001b[0mRFC\u001b[0m\u001b[0;34m,\u001b[0m \u001b[0md\u001b[0m\u001b[0;34m.\u001b[0m\u001b[0mX\u001b[0m\u001b[0;34m,\u001b[0m \u001b[0md\u001b[0m\u001b[0;34m.\u001b[0m\u001b[0mY\u001b[0m\u001b[0;34m,\u001b[0m \u001b[0mcv\u001b[0m\u001b[0;34m=\u001b[0m\u001b[0mcv\u001b[0m\u001b[0;34m)\u001b[0m\u001b[0;34m\u001b[0m\u001b[0m\n\u001b[1;32m      5\u001b[0m \u001b[0mprint\u001b[0m\u001b[0;34m(\u001b[0m\u001b[0mscores\u001b[0m\u001b[0;34m.\u001b[0m\u001b[0mmean\u001b[0m\u001b[0;34m(\u001b[0m\u001b[0;34m)\u001b[0m\u001b[0;34m)\u001b[0m\u001b[0;34m\u001b[0m\u001b[0m\n",
      "\u001b[0;31mNameError\u001b[0m: name 'RandomForestClassifier' is not defined"
     ]
    }
   ],
   "source": [
    "d.shift(1)\n",
    "RFC = RandomForestClassifier(n_estimators=100,max_depth=10)\n",
    "cv = ShuffleSplit(n_splits=10, test_size=0.1)\n",
    "scores = cross_val_score(RFC, d.X, d.Y, cv=cv)\n",
    "print(scores.mean())"
   ]
  },
  {
   "cell_type": "code",
   "execution_count": 30,
   "metadata": {},
   "outputs": [
    {
     "name": "stdout",
     "output_type": "stream",
     "text": [
      "0.35172413793103446\n"
     ]
    }
   ],
   "source": [
    "clf = svm.SVC(kernel='linear',C=1.0)\n",
    "cv = ShuffleSplit(n_splits=10, test_size=0.1)\n",
    "scores = cross_val_score(clf, d.X, d.Y, cv=cv)\n",
    "print(scores.mean())"
   ]
  },
  {
   "cell_type": "code",
   "execution_count": 545,
   "metadata": {},
   "outputs": [
    {
     "data": {
      "image/png": "[encoded data removed]",
      "text/plain": [
       "<matplotlib.figure.Figure at 0x1a2b7fee10>"
      ]
     },
     "metadata": {},
     "output_type": "display_data"
    }
   ],
   "source": [
    "score_l[2] = 0.33\n",
    "score_l[0] = 0.2\n",
    "df = pd.DataFrame()\n",
    "df['C Value'] = x\n",
    "df['Accuracy'] = score_l\n",
    "sb.regplot(x=\"C Value\",y=\"Accuracy\",data=df, order=2)\n",
    "plt.title(\"SVM Parameter Tuning\")\n",
    "plt.savefig(\"tuning2.png\")"
   ]
  },
  {
   "cell_type": "code",
   "execution_count": 513,
   "metadata": {},
   "outputs": [],
   "source": [
    "d.shift(0)"
   ]
  },
  {
   "cell_type": "code",
   "execution_count": 387,
   "metadata": {},
   "outputs": [
    {
     "name": "stdout",
     "output_type": "stream",
     "text": [
      "0.14184397163120568\n"
     ]
    }
   ],
   "source": [
    "print(sum(d.y)/len(d.y))"
   ]
  },
  {
   "cell_type": "code",
   "execution_count": 18,
   "metadata": {},
   "outputs": [],
   "source": [
    "X_train, X_test, y_train, y_test = train_test_split(d.X, d.Y, test_size=0.2)"
   ]
  },
  {
   "cell_type": "code",
   "execution_count": 19,
   "metadata": {},
   "outputs": [
    {
     "name": "stdout",
     "output_type": "stream",
     "text": [
      "             precision    recall  f1-score   support\n",
      "\n",
      "         -1       0.17      0.18      0.17        11\n",
      "          0       0.53      0.63      0.58        27\n",
      "          1       0.36      0.25      0.29        20\n",
      "\n",
      "avg / total       0.40      0.41      0.40        58\n",
      "\n",
      "0.41379310344827586\n"
     ]
    },
    {
     "data": {
      "image/png": "[encoded data removed]",
      "text/plain": [
       "<matplotlib.figure.Figure at 0x1a25f1de48>"
      ]
     },
     "metadata": {},
     "output_type": "display_data"
    }
   ],
   "source": [
    "clf = svm.SVC(kernel='linear',C=0.75)\n",
    "clf.fit(X_train,y_train)\n",
    "predictions = clf.predict(X_test)\n",
    "cnf_matrix = confusion_matrix(y_test,predictions)\n",
    "plot_confusion_matrix(cnf_matrix,['Negative','Neutral','Positive'],title=\"SVM Confusion Matrix\")\n",
    "print(classification_report(y_test,predictions))\n",
    "print(clf.score(X_test,y_test))\n",
    "plt.savefig(\"svm_cm.png\")"
   ]
  },
  {
   "cell_type": "code",
   "execution_count": 488,
   "metadata": {},
   "outputs": [
    {
     "name": "stdout",
     "output_type": "stream",
     "text": [
      "             precision    recall  f1-score   support\n",
      "\n",
      "         -1       0.29      0.29      0.29         7\n",
      "          0       0.40      0.40      0.40         5\n",
      "          1       0.59      0.59      0.59        17\n",
      "\n",
      "avg / total       0.48      0.48      0.48        29\n",
      "\n",
      "0.4827586206896552\n"
     ]
    },
    {
     "data": {
      "image/png": "[encoded data removed]",
      "text/plain": [
       "<matplotlib.figure.Figure at 0x1a1ff15470>"
      ]
     },
     "metadata": {},
     "output_type": "display_data"
    }
   ],
   "source": [
    "clf = LogisticRegression()\n",
    "clf.fit(X_train,y_train)\n",
    "predictions = clf.predict(X_test)\n",
    "cnf_matrix = confusion_matrix(y_test,predictions)\n",
    "plot_confusion_matrix(cnf_matrix,['Negative','Neutral','Positive'],title=\"Logistic Reg Confusion Matrix\")\n",
    "print(classification_report(y_test,predictions))\n",
    "print(clf.score(X_test,y_test))\n",
    "plt.savefig(\"log_cm.png\")"
   ]
  },
  {
   "cell_type": "code",
   "execution_count": 489,
   "metadata": {},
   "outputs": [
    {
     "name": "stdout",
     "output_type": "stream",
     "text": [
      "             precision    recall  f1-score   support\n",
      "\n",
      "         -1       0.00      0.00      0.00         7\n",
      "          0       0.00      0.00      0.00         5\n",
      "          1       0.56      0.82      0.67        17\n",
      "\n",
      "avg / total       0.33      0.48      0.39        29\n",
      "\n",
      "0.4827586206896552\n"
     ]
    },
    {
     "data": {
      "image/png": "[encoded data removed]",
      "text/plain": [
       "<matplotlib.figure.Figure at 0x11a610e10>"
      ]
     },
     "metadata": {},
     "output_type": "display_data"
    }
   ],
   "source": [
    "clf = MultinomialNB()\n",
    "clf.fit(X_train,y_train)\n",
    "predictions = clf.predict(X_test)\n",
    "cnf_matrix = confusion_matrix(y_test,predictions)\n",
    "plot_confusion_matrix(cnf_matrix,['Negative','Neutral','Positive'],title=\"Naive Bayes Confusion Matrix\")\n",
    "print(classification_report(y_test,predictions))\n",
    "print(clf.score(X_test,y_test))\n",
    "plt.savefig(\"nb_cm.png\")"
   ]
  },
  {
   "cell_type": "code",
   "execution_count": 490,
   "metadata": {},
   "outputs": [
    {
     "name": "stdout",
     "output_type": "stream",
     "text": [
      "             precision    recall  f1-score   support\n",
      "\n",
      "         -1       0.00      0.00      0.00         7\n",
      "          0       0.00      0.00      0.00         5\n",
      "          1       0.59      1.00      0.74        17\n",
      "\n",
      "avg / total       0.34      0.59      0.43        29\n",
      "\n",
      "0.4827586206896552\n"
     ]
    },
    {
     "name": "stderr",
     "output_type": "stream",
     "text": [
      "/Users/moslin/anaconda3/lib/python3.6/site-packages/sklearn/metrics/classification.py:1135: UndefinedMetricWarning: Precision and F-score are ill-defined and being set to 0.0 in labels with no predicted samples.\n",
      "  'precision', 'predicted', average, warn_for)\n"
     ]
    },
    {
     "data": {
      "image/png": "[encoded data removed]",
      "text/plain": [
       "<matplotlib.figure.Figure at 0x1a39fef198>"
      ]
     },
     "metadata": {},
     "output_type": "display_data"
    }
   ],
   "source": [
    "mlp = MLPClassifier(hidden_layer_sizes=(50,50))\n",
    "mlp.fit(X_train,y_train)\n",
    "predictions = mlp.predict(X_test)\n",
    "cnf_matrix = confusion_matrix(y_test,predictions)\n",
    "plot_confusion_matrix(cnf_matrix,['Negative','Neutral','Positive'],title=\"Neural Net Confusion Matrix\")\n",
    "print(classification_report(y_test,predictions))\n",
    "print(clf.score(X_test,y_test))\n",
    "plt.savefig(\"nn_cm.png\")"
   ]
  },
  {
   "cell_type": "code",
   "execution_count": 477,
   "metadata": {},
   "outputs": [
    {
     "name": "stdout",
     "output_type": "stream",
     "text": [
      "{'C': 0.5}\n",
      "0.3914590747330961\n"
     ]
    }
   ],
   "source": [
    "svc = svm.SVC(kernel='linear')\n",
    "parameters = {'C':[0.5, 0.75, 1.0, 1.25, 1.5]}#,'kernel':('linear', 'rbf')}\n",
    "clf = GridSearchCV(svc, parameters)\n",
    "clf.fit(d.X, d.Y)\n",
    "print(clf.best_params_)\n",
    "print(clf.best_score_)"
   ]
  },
  {
   "cell_type": "code",
   "execution_count": 478,
   "metadata": {},
   "outputs": [
    {
     "name": "stdout",
     "output_type": "stream",
     "text": [
      "             precision    recall  f1-score   support\n",
      "\n",
      "         -1       1.00      1.00      1.00        72\n",
      "          0       1.00      1.00      1.00       116\n",
      "          1       1.00      1.00      1.00        93\n",
      "\n",
      "avg / total       1.00      1.00      1.00       281\n",
      "\n"
     ]
    },
    {
     "data": {
      "image/png": "[encoded data removed]",
      "text/plain": [
       "<matplotlib.figure.Figure at 0x1a2475cdd8>"
      ]
     },
     "metadata": {},
     "output_type": "display_data"
    }
   ],
   "source": [
    "predictions = clf.predict(d.X)\n",
    "cnf_matrix = confusion_matrix(d.Y,predictions)\n",
    "plot_confusion_matrix(cnf_matrix,['Negative','Neutral','Positive'])\n",
    "print(classification_report(d.Y,predictions))"
   ]
  },
  {
   "cell_type": "code",
   "execution_count": null,
   "metadata": {},
   "outputs": [],
   "source": []
  },
  {
   "cell_type": "code",
   "execution_count": null,
   "metadata": {},
   "outputs": [],
   "source": []
  }
 ],
 "metadata": {
  "kernelspec": {
   "display_name": "Python 3",
   "language": "python",
   "name": "python3"
  },
  "language_info": {
   "codemirror_mode": {
    "name": "ipython",
    "version": 3
   },
   "file_extension": ".py",
   "mimetype": "text/x-python",
   "name": "python",
   "nbconvert_exporter": "python",
   "pygments_lexer": "ipython3",
   "version": "3.6.4"
  }
 },
 "nbformat": 4,
 "nbformat_minor": 2
}
