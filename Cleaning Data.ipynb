{
 "cells": [
  {
   "cell_type": "code",
   "execution_count": 6,
   "metadata": {
    "collapsed": true
   },
   "outputs": [],
   "source": [
    "import numpy as np\n",
    "import pandas as pd\n",
    "import os\n",
    "import ast\n",
    "from datetime import datetime\n",
    "import pickle\n",
    "import matplotlib.pyplot as plt\n",
    "%matplotlib inline\n",
    "\n",
    "import requests"
   ]
  },
  {
   "cell_type": "code",
   "execution_count": 7,
   "metadata": {
    "collapsed": false
   },
   "outputs": [],
   "source": [
    "path = './TweetScraper-master/Data/tweet'\n",
    "tweets_df = pd.DataFrame()\n",
    "\n",
    "toremove = dict.fromkeys((ord(c) for c in u'/xa0/n/t'))\n",
    "\n",
    "\n",
    "for file in os.listdir(path):\n",
    "    if '.DS_Store' not in file:\n",
    "        with open(path+'/'+file, 'rb') as f:\n",
    "            data = pickle.load(f)\n",
    "            data['datetime'] = datetime.strptime(data['datetime'], '%Y-%m-%d %H:%M:%S')\n",
    "            data['ID'] = int(data['ID'])\n",
    "            data['text'] = data['text'].translate(toremove)\n",
    "            tweets_df = tweets_df.append(data, ignore_index=True)"
   ]
  },
  {
   "cell_type": "code",
   "execution_count": 8,
   "metadata": {
    "collapsed": false,
    "scrolled": true
   },
   "outputs": [
    {
     "name": "stdout",
     "output_type": "stream",
     "text": [
      "<class 'pandas.core.frame.DataFrame'>\n",
      "RangeIndex: 25852 entries, 0 to 25851\n",
      "Data columns (total 13 columns):\n",
      "ID               25852 non-null float64\n",
      "datetime         25852 non-null datetime64[ns]\n",
      "is_reply         25852 non-null float64\n",
      "is_retweet       25852 non-null float64\n",
      "nbr_favorite     25852 non-null float64\n",
      "nbr_reply        25852 non-null float64\n",
      "nbr_retweet      25852 non-null float64\n",
      "text             25852 non-null object\n",
      "url              25852 non-null object\n",
      "user_id          25852 non-null object\n",
      "usernameTweet    25852 non-null object\n",
      "has_media        8939 non-null float64\n",
      "medias           8939 non-null object\n",
      "dtypes: datetime64[ns](1), float64(7), object(5)\n",
      "memory usage: 2.6+ MB\n"
     ]
    }
   ],
   "source": [
    "tweets_df.info()"
   ]
  },
  {
   "cell_type": "code",
   "execution_count": 9,
   "metadata": {
    "collapsed": false
   },
   "outputs": [
    {
     "data": {
      "text/html": [
       "<div>\n",
       "<style>\n",
       "    .dataframe thead tr:only-child th {\n",
       "        text-align: right;\n",
       "    }\n",
       "\n",
       "    .dataframe thead th {\n",
       "        text-align: left;\n",
       "    }\n",
       "\n",
       "    .dataframe tbody tr th {\n",
       "        vertical-align: top;\n",
       "    }\n",
       "</style>\n",
       "<table border=\"1\" class=\"dataframe\">\n",
       "  <thead>\n",
       "    <tr style=\"text-align: right;\">\n",
       "      <th></th>\n",
       "      <th>ID</th>\n",
       "      <th>datetime</th>\n",
       "      <th>is_reply</th>\n",
       "      <th>is_retweet</th>\n",
       "      <th>nbr_favorite</th>\n",
       "      <th>nbr_reply</th>\n",
       "      <th>nbr_retweet</th>\n",
       "      <th>text</th>\n",
       "      <th>url</th>\n",
       "      <th>user_id</th>\n",
       "      <th>usernameTweet</th>\n",
       "      <th>has_media</th>\n",
       "      <th>medias</th>\n",
       "    </tr>\n",
       "  </thead>\n",
       "  <tbody>\n",
       "    <tr>\n",
       "      <th>0</th>\n",
       "      <td>9.885302e+17</td>\n",
       "      <td>2018-04-23 17:29:08</td>\n",
       "      <td>0.0</td>\n",
       "      <td>0.0</td>\n",
       "      <td>0.0</td>\n",
       "      <td>0.0</td>\n",
       "      <td>0.0</td>\n",
       "      <td>New pos (Could  Ripple   XRP  Relly Rech $1. I...</td>\n",
       "      <td>/ExcelVisibility/status/988530235493748736</td>\n",
       "      <td>815322320</td>\n",
       "      <td>ExcelVisibility</td>\n",
       "      <td>NaN</td>\n",
       "      <td>NaN</td>\n",
       "    </tr>\n",
       "    <tr>\n",
       "      <th>1</th>\n",
       "      <td>9.847927e+17</td>\n",
       "      <td>2018-04-13 09:57:41</td>\n",
       "      <td>0.0</td>\n",
       "      <td>0.0</td>\n",
       "      <td>0.0</td>\n",
       "      <td>0.0</td>\n",
       "      <td>0.0</td>\n",
       "      <td>Did you kow h you c buy, sell, sore, cover d r...</td>\n",
       "      <td>/coindirectcom/status/984792745666580481</td>\n",
       "      <td>915453520924545025</td>\n",
       "      <td>coindirectcom</td>\n",
       "      <td>1.0</td>\n",
       "      <td>[https://t.co/h1CTJHGwPs]</td>\n",
       "    </tr>\n",
       "    <tr>\n",
       "      <th>2</th>\n",
       "      <td>9.863800e+17</td>\n",
       "      <td>2018-04-17 19:05:02</td>\n",
       "      <td>0.0</td>\n",
       "      <td>0.0</td>\n",
       "      <td>0.0</td>\n",
       "      <td>0.0</td>\n",
       "      <td>0.0</td>\n",
       "      <td>1  Ripple  = .6589 USD.  Ripple  hs chged by -...</td>\n",
       "      <td>/RippleMarket/status/986380040517701633</td>\n",
       "      <td>848989770923601922</td>\n",
       "      <td>RippleMarket</td>\n",
       "      <td>NaN</td>\n",
       "      <td>NaN</td>\n",
       "    </tr>\n",
       "    <tr>\n",
       "      <th>3</th>\n",
       "      <td>9.853410e+17</td>\n",
       "      <td>2018-04-14 22:16:19</td>\n",
       "      <td>0.0</td>\n",
       "      <td>0.0</td>\n",
       "      <td>0.0</td>\n",
       "      <td>0.0</td>\n",
       "      <td>1.0</td>\n",
       "      <td># Beries  #ITO  #ICO  #Toke  #TokeSle  #Ives  ...</td>\n",
       "      <td>/nsdelpitiya/status/985341014339608576</td>\n",
       "      <td>880003387672088576</td>\n",
       "      <td>nsdelpitiya</td>\n",
       "      <td>NaN</td>\n",
       "      <td>NaN</td>\n",
       "    </tr>\n",
       "    <tr>\n",
       "      <th>4</th>\n",
       "      <td>9.866047e+17</td>\n",
       "      <td>2018-04-18 09:57:42</td>\n",
       "      <td>0.0</td>\n",
       "      <td>0.0</td>\n",
       "      <td>0.0</td>\n",
       "      <td>0.0</td>\n",
       "      <td>0.0</td>\n",
       "      <td>How Is #Ripple  Differe From All Oher #Crypocu...</td>\n",
       "      <td>/Matthix191/status/986604686856933376</td>\n",
       "      <td>916641996823031808</td>\n",
       "      <td>Matthix191</td>\n",
       "      <td>1.0</td>\n",
       "      <td>[https://t.co/xF5l49lz8P]</td>\n",
       "    </tr>\n",
       "  </tbody>\n",
       "</table>\n",
       "</div>"
      ],
      "text/plain": [
       "             ID            datetime  is_reply  is_retweet  nbr_favorite  \\\n",
       "0  9.885302e+17 2018-04-23 17:29:08       0.0         0.0           0.0   \n",
       "1  9.847927e+17 2018-04-13 09:57:41       0.0         0.0           0.0   \n",
       "2  9.863800e+17 2018-04-17 19:05:02       0.0         0.0           0.0   \n",
       "3  9.853410e+17 2018-04-14 22:16:19       0.0         0.0           0.0   \n",
       "4  9.866047e+17 2018-04-18 09:57:42       0.0         0.0           0.0   \n",
       "\n",
       "   nbr_reply  nbr_retweet                                               text  \\\n",
       "0        0.0          0.0  New pos (Could  Ripple   XRP  Relly Rech $1. I...   \n",
       "1        0.0          0.0  Did you kow h you c buy, sell, sore, cover d r...   \n",
       "2        0.0          0.0  1  Ripple  = .6589 USD.  Ripple  hs chged by -...   \n",
       "3        0.0          1.0  # Beries  #ITO  #ICO  #Toke  #TokeSle  #Ives  ...   \n",
       "4        0.0          0.0  How Is #Ripple  Differe From All Oher #Crypocu...   \n",
       "\n",
       "                                          url             user_id  \\\n",
       "0  /ExcelVisibility/status/988530235493748736           815322320   \n",
       "1    /coindirectcom/status/984792745666580481  915453520924545025   \n",
       "2     /RippleMarket/status/986380040517701633  848989770923601922   \n",
       "3      /nsdelpitiya/status/985341014339608576  880003387672088576   \n",
       "4       /Matthix191/status/986604686856933376  916641996823031808   \n",
       "\n",
       "     usernameTweet  has_media                     medias  \n",
       "0  ExcelVisibility        NaN                        NaN  \n",
       "1    coindirectcom        1.0  [https://t.co/h1CTJHGwPs]  \n",
       "2     RippleMarket        NaN                        NaN  \n",
       "3      nsdelpitiya        NaN                        NaN  \n",
       "4       Matthix191        1.0  [https://t.co/xF5l49lz8P]  "
      ]
     },
     "execution_count": 9,
     "metadata": {},
     "output_type": "execute_result"
    }
   ],
   "source": [
    "tweets_df.head()"
   ]
  },
  {
   "cell_type": "code",
   "execution_count": 10,
   "metadata": {
    "collapsed": true
   },
   "outputs": [],
   "source": [
    "tweets_df.to_pickle('./Data/Cleaned/FullXRPTweets.pkl')"
   ]
  },
  {
   "cell_type": "code",
   "execution_count": 11,
   "metadata": {
    "collapsed": false
   },
   "outputs": [
    {
     "ename": "NameError",
     "evalue": "name 'subset' is not defined",
     "output_type": "error",
     "traceback": [
      "\u001b[0;31m---------------------------------------------------------------------------\u001b[0m",
      "\u001b[0;31mNameError\u001b[0m                                 Traceback (most recent call last)",
      "\u001b[0;32m<ipython-input-11-35ff1831265f>\u001b[0m in \u001b[0;36m<module>\u001b[0;34m()\u001b[0m\n\u001b[0;32m----> 1\u001b[0;31m \u001b[0muserGroup\u001b[0m \u001b[0;34m=\u001b[0m \u001b[0msubset\u001b[0m\u001b[0;34m.\u001b[0m\u001b[0mgroupby\u001b[0m\u001b[0;34m(\u001b[0m\u001b[0;34m'user_id'\u001b[0m\u001b[0;34m)\u001b[0m\u001b[0;34m.\u001b[0m\u001b[0mcount\u001b[0m\u001b[0;34m(\u001b[0m\u001b[0;34m)\u001b[0m\u001b[0;34m\u001b[0m\u001b[0m\n\u001b[0m\u001b[1;32m      2\u001b[0m \u001b[0muserGroup\u001b[0m \u001b[0;34m=\u001b[0m \u001b[0muserGroup\u001b[0m\u001b[0;34m.\u001b[0m\u001b[0msort_values\u001b[0m\u001b[0;34m(\u001b[0m\u001b[0;34m'ID'\u001b[0m\u001b[0;34m,\u001b[0m \u001b[0mascending\u001b[0m\u001b[0;34m=\u001b[0m\u001b[0;32mFalse\u001b[0m\u001b[0;34m)\u001b[0m\u001b[0;34m\u001b[0m\u001b[0m\n",
      "\u001b[0;31mNameError\u001b[0m: name 'subset' is not defined"
     ]
    }
   ],
   "source": [
    "userGroup = subset.groupby('user_id').count()\n",
    "userGroup = userGroup.sort_values('ID', ascending=False)"
   ]
  },
  {
   "cell_type": "code",
   "execution_count": null,
   "metadata": {
    "collapsed": false
   },
   "outputs": [],
   "source": []
  },
  {
   "cell_type": "code",
   "execution_count": null,
   "metadata": {
    "collapsed": true
   },
   "outputs": [],
   "source": []
  }
 ],
 "metadata": {
  "kernelspec": {
   "display_name": "Python 3",
   "language": "python",
   "name": "python3"
  },
  "language_info": {
   "codemirror_mode": {
    "name": "ipython",
    "version": 3
   },
   "file_extension": ".py",
   "mimetype": "text/x-python",
   "name": "python",
   "nbconvert_exporter": "python",
   "pygments_lexer": "ipython3",
   "version": "3.6.0"
  }
 },
 "nbformat": 4,
 "nbformat_minor": 2
}
