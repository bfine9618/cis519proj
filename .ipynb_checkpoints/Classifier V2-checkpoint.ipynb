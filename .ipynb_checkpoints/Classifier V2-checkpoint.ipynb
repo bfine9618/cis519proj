{
 "cells": [
  {
   "cell_type": "code",
   "execution_count": 10,
   "metadata": {},
   "outputs": [],
   "source": [
    "import pandas as pd\n",
    "import string\n",
    "import numpy as np\n",
    "import matplotlib.pyplot as plt\n",
    "import itertools\n",
    "import seaborn as sb\n",
    "\n",
    "from sklearn import svm\n",
    "from sklearn.linear_model import LogisticRegression\n",
    "from sklearn.feature_extraction import DictVectorizer\n",
    "from nltk.stem import WordNetLemmatizer, PorterStemmer\n",
    "from collections import defaultdict\n",
    "from nltk.corpus import stopwords\n",
    "from nltk.tokenize import word_tokenize\n",
    "from nltk import bigrams\n",
    "from nltk import trigrams\n",
    "from sklearn.metrics import classification_report,confusion_matrix\n",
    "from sklearn.model_selection import train_test_split, GridSearchCV, ShuffleSplit, cross_val_score, LeaveOneOut\n",
    "from sklearn.preprocessing import StandardScaler\n",
    "from sklearn.neural_network import MLPClassifier\n",
    "from sklearn.naive_bayes import MultinomialNB\n",
    "from sklearn.ensemble import RandomForestClassifier\n",
    "from sklearn.decomposition import PCA, TruncatedSVD"
   ]
  },
  {
   "cell_type": "code",
   "execution_count": 2,
   "metadata": {},
   "outputs": [],
   "source": [
    "class Data(object):\n",
    "    def __init__(self):\n",
    "        '''\n",
    "        Class constructor or initialization method.\n",
    "        '''\n",
    "    def predict(self):\n",
    "        self.clf.fit(self.X, self.y)\n",
    "        for x, y in zip(self.X,self.y):\n",
    "            print(\"{} {}\".format(self.clf.predict(x),y))\n",
    "    \n",
    "    def validate(self, splits=10, test=0.1):\n",
    "        cv = ShuffleSplit(n_splits=splits, test_size=test)\n",
    "        scores = cross_val_score(self.clf, self.X, self.y, cv=cv)\n",
    "        return scores.mean()\n",
    "        \n",
    "    def train_score(self):\n",
    "        return self.clf.score(self.X,self.y)\n",
    "        \n",
    "    def load_data(self, data, threshold=0, num_hours=1, K=0.0):\n",
    "        # Check market change\n",
    "        #data['grew'] = np.select([data['pDelta']>threshold,data['pDelta']<-threshold],[1,-1],default=0)\n",
    "        \n",
    "        self.threshold=threshold\n",
    "        \n",
    "        self.x ={}\n",
    "        self.y ={}\n",
    "        \n",
    "        hours = data.timeId.unique()\n",
    "        hours.sort()\n",
    "        count = 0\n",
    "        index = 0\n",
    "        change = 1\n",
    "        remap = {}\n",
    "        \n",
    "        for hour in hours:\n",
    "            change *= 1+data.loc[data['timeId']==hour].iloc[0]['pDelta']\n",
    "            remap[hour] = index\n",
    "            count += 1\n",
    "            if count >= num_hours:\n",
    "                self.x[index] = defaultdict(float)\n",
    "                self.y[index] = change-1\n",
    "#                 if change > 1+threshold:\n",
    "#                     self.y[index] = 1\n",
    "#                 elif change < 1-threshold:\n",
    "#                     self.y[index] = -1\n",
    "#                 else:\n",
    "#                     self.y[index] = 0\n",
    "                count = 0\n",
    "                change = 1\n",
    "                index += 1\n",
    "        #handle potential end missing\n",
    "        if count>0:\n",
    "            self.x[index] = defaultdict(float)\n",
    "            self.y[index] = change-1\n",
    "#             if change > 1+threshold:\n",
    "#                 self.y[index] = 1\n",
    "#             elif change < 1-threshold:\n",
    "#                 self.y[index] = -1\n",
    "#             else:\n",
    "#                 self.y[index] = 0\n",
    "        else:\n",
    "            index -= 1\n",
    "            \n",
    "            \n",
    "        for bogey, row in data.iterrows():\n",
    "            tag = remap[row['timeId']]\n",
    "            trust = 1#row['trustworthiness']\n",
    "            if K<0:\n",
    "                trust = row['trustworthiness']\n",
    "            if row['trustworthiness']<0.5:\n",
    "                trust = K\n",
    "            sent = row['scaled']\n",
    "            words = set()\n",
    "            tokens = row['regtext']\n",
    "            bigrm = bigrams(tokens)\n",
    "#             trigrm = trigrams(tokens)\n",
    "            for word in tokens:\n",
    "                words.add(word)\n",
    "            for word in words:\n",
    "                self.x[tag][word] += trust\n",
    "            for gram in bigrm:\n",
    "                word = gram[0]+gram[1]\n",
    "                self.x[tag][word] += trust\n",
    "#             for gram in trigrm:\n",
    "#                 word = gram[0]+gram[1]+gram[2]\n",
    "#                 self.x[tag][word] += 1\n",
    "\n",
    "#             self.x[tag]['has_media'] += trust* row['has_media']\n",
    "#             self.x[tag]['has_url'] += trust* row['has_url']\n",
    "#             self.x[tag]['is_reply'] += trust* row['is_reply']\n",
    "#             self.x[tag]['wordlesstok'] += trust* row['wordlesstok']\n",
    "#             self.x[tag]['is_retweet'] += trust* row['is_retweet']\n",
    "#             self.x[tag]['nbr_chars'] += trust* row['nbr_chars']\n",
    "#             self.x[tag]['nbr_ex'] += trust* row['nbr_ex']\n",
    "#             self.x[tag]['nbr_favorite'] += trust* row['nbr_favorite']\n",
    "#             self.x[tag]['nbr_mentions'] += trust* row['nbr_mentions']\n",
    "#             self.x[tag]['nbr_q'] += trust* row['nbr_q']\n",
    "#             self.x[tag]['nbr_reply'] += trust* row['nbr_reply']\n",
    "#             self.x[tag]['nbr_retweet'] += trust* row['nbr_retweet']\n",
    "#             self.x[tag]['nbr_tags'] += trust* row['nbr_tags']\n",
    "#             self.x[tag]['nbr_tokens'] += trust* row['nbr_tokens']\n",
    "#             self.x[tag]['nbr_words'] += trust* row['nbr_words']    \n",
    "#             self.x[tag]['nbr_dol'] += trust* row['nbr_dol']\n",
    "#             self.x[tag]['nbr_per'] += trust* row['nbr_per']\n",
    "#             self.x[tag]['nbr_hy'] += trust* row['nbr_hy']\n",
    "#             self.x[tag]['nbr_col'] += trust* row['nbr_col']\n",
    "\n",
    "            self.x[tag]['combined_sentiment'] += sent*trust\n",
    "            self.x[tag]['number_tweets'] += trust\n",
    "        \n",
    "        for epoch in self.x.keys():\n",
    "            self.x[epoch]['combined_sentiment'] = self.x[epoch]['combined_sentiment']/self.x[epoch]['number_tweets']\n",
    "#             self.x[tag]['has_media'] = self.x[tag]['has_media']/self.x[epoch]['number_tweets']\n",
    "#             self.x[tag]['has_url'] = self.x[tag]['has_url']/self.x[epoch]['number_tweets']\n",
    "#             self.x[tag]['is_reply'] = self.x[tag]['is_reply']/self.x[epoch]['number_tweets']\n",
    "#             self.x[tag]['wordlesstok'] = self.x[tag]['wordlesstok']/self.x[epoch]['number_tweets']\n",
    "#             self.x[tag]['is_retweet'] = self.x[tag]['is_retweet']/self.x[epoch]['number_tweets']\n",
    "#             self.x[tag]['nbr_chars'] = self.x[tag]['nbr_chars']/self.x[epoch]['number_tweets']\n",
    "#             self.x[tag]['nbr_ex'] = self.x[tag]['nbr_ex']/self.x[epoch]['number_tweets']\n",
    "#             self.x[tag]['nbr_favorite'] = self.x[tag]['nbr_favorite']/self.x[epoch]['number_tweets']\n",
    "#             self.x[tag]['nbr_mentions'] = self.x[tag]['nbr_mentions']/self.x[epoch]['number_tweets']\n",
    "#             self.x[tag]['nbr_q'] = self.x[tag]['nbr_q']/self.x[epoch]['number_tweets']\n",
    "#             self.x[tag]['nbr_reply'] = self.x[tag]['nbr_reply']/self.x[epoch]['number_tweets']\n",
    "#             self.x[tag]['nbr_retweet'] = self.x[tag]['nbr_retweet']/self.x[epoch]['number_tweets']\n",
    "#             self.x[tag]['nbr_tags'] = self.x[tag]['nbr_tags']/self.x[epoch]['number_tweets']\n",
    "#             self.x[tag]['nbr_tokens'] = self.x[tag]['nbr_tokens']/self.x[epoch]['number_tweets']\n",
    "#             self.x[tag]['nbr_words'] = self.x[tag]['nbr_words']/self.x[epoch]['number_tweets']\n",
    "#             self.x[tag]['nbr_dol'] = self.x[tag]['nbr_dol']/self.x[epoch]['number_tweets']\n",
    "#             self.x[tag]['nbr_per'] = self.x[tag]['nbr_per']/self.x[epoch]['number_tweets']\n",
    "#             self.x[tag]['nbr_hy'] = self.x[tag]['nbr_hy']/self.x[epoch]['number_tweets']\n",
    "#             self.x[tag]['nbr_col'] = self.x[tag]['nbr_col']/self.x[epoch]['number_tweets']\n",
    "        \n",
    "        self.x[0]['sent_change'] = 0\n",
    "        self.x[0]['nbr_tweets_change'] = 0\n",
    "        self.x[0]['prev_price']=0\n",
    "        for epoch in range(1,index):\n",
    "            change = self.x[epoch]['combined_sentiment']-self.x[epoch-1]['combined_sentiment']\n",
    "            self.x[epoch]['sent_change'] = change/self.x[epoch-1]['combined_sentiment']\n",
    "            \n",
    "            change = self.x[epoch]['number_tweets']-self.x[epoch-1]['number_tweets']\n",
    "            self.x[epoch]['nbr_tweets_change'] = change/self.x[epoch-1]['number_tweets']\n",
    "            \n",
    "            self.x[epoch]['prev_price'] = self.y[epoch-1]\n",
    "                \n",
    "        self.x = [self.x[key] for key in sorted(self.x.keys())]\n",
    "        self.y = [self.y[key] for key in sorted(self.y.keys())]\n",
    "        self.trim()\n",
    "        self.shift(0)\n",
    "    \n",
    "    def trim(self):\n",
    "        new_x = []\n",
    "        new_y = []\n",
    "        for a, b in zip(self.x, self.y):\n",
    "            if len(a) > 0:\n",
    "                new_x.append(a)\n",
    "                new_y.append(b)\n",
    "        self.x=new_x\n",
    "        self.y=new_y\n",
    "    def shift(self, shift):\n",
    "        v = DictVectorizer()\n",
    "        self.X = v.fit_transform(self.x[:len(self.x)-shift])\n",
    "        self.Y = self.y[shift:]\n",
    "        for i in range(len(self.Y)):\n",
    "            if self.Y[i]>self.threshold:\n",
    "                self.Y[i] = 1\n",
    "            elif self.Y[i]<-self.threshold:\n",
    "                self.Y[i]=-1\n",
    "            else:\n",
    "                self.Y[i]=0"
   ]
  },
  {
   "cell_type": "code",
   "execution_count": 3,
   "metadata": {},
   "outputs": [],
   "source": [
    "def plot_confusion_matrix(cm, classes, title='Confusion matrix', cmap=plt.cm.Blues):\n",
    "    plt.imshow(cm, interpolation='nearest', cmap=cmap)\n",
    "    plt.title(title)\n",
    "    plt.colorbar()\n",
    "    tick_marks = np.arange(len(classes))\n",
    "    plt.xticks(tick_marks, classes, rotation=90)\n",
    "    plt.yticks(tick_marks, classes)\n",
    "\n",
    "    fmt = 'd'\n",
    "    thresh = cm.max() / 2.\n",
    "    for i, j in itertools.product(range(cm.shape[0]), range(cm.shape[1])):\n",
    "        plt.text(j, i, format(cm[i, j], fmt),horizontalalignment=\"center\",color=\"white\" if cm[i, j] > thresh else \"black\")\n",
    "\n",
    "    plt.tight_layout()\n",
    "    plt.ylabel('True label')\n",
    "    plt.xlabel('Predicted label')"
   ]
  },
  {
   "cell_type": "code",
   "execution_count": 4,
   "metadata": {},
   "outputs": [],
   "source": [
    "data = pd.read_pickle('Data/Cleaned/processed_data.pkl')\n",
    "sent = pd.read_pickle('Data/Cleaned/sentiment_tweets.pkl')\n",
    "trust = pd.read_pickle('Data/Cleaned/Filtered_tweets_df.pkl')"
   ]
  },
  {
   "cell_type": "code",
   "execution_count": 5,
   "metadata": {},
   "outputs": [],
   "source": [
    "trust = trust[np.isfinite(trust['pDelta'])]\n",
    "trust = trust.merge(sent[['ID','scaled']],on='ID', how='inner')\n",
    "trust = trust[np.isfinite(trust['scaled'])]"
   ]
  },
  {
   "cell_type": "code",
   "execution_count": 6,
   "metadata": {},
   "outputs": [],
   "source": [
    "d = Data()\n",
    "d.load_data(trust, num_hours=1, threshold = 0.005, K=0)"
   ]
  },
  {
   "cell_type": "code",
   "execution_count": 7,
   "metadata": {},
   "outputs": [],
   "source": [
    "d.shift(1)"
   ]
  },
  {
   "cell_type": "code",
   "execution_count": 8,
   "metadata": {},
   "outputs": [
    {
     "name": "stdout",
     "output_type": "stream",
     "text": [
      "(280, 466623)\n"
     ]
    }
   ],
   "source": [
    "print(d.X.shape)"
   ]
  },
  {
   "cell_type": "code",
   "execution_count": 11,
   "metadata": {},
   "outputs": [],
   "source": [
    "pca = TruncatedSVD(n_components=100)\n",
    "x = pca.fit_transform(d.X)"
   ]
  },
  {
   "cell_type": "code",
   "execution_count": 16,
   "metadata": {},
   "outputs": [
    {
     "name": "stdout",
     "output_type": "stream",
     "text": [
      "0.4105820105820106\n"
     ]
    }
   ],
   "source": [
    "RFC = RandomForestClassifier(n_estimators=1000, max_depth =20)\n",
    "#cv = ShuffleSplit(n_splits=10, test_size=0.1)\n",
    "scores = cross_val_score(RFC, d.X, d.Y, cv=10)\n",
    "print(scores.mean())"
   ]
  },
  {
   "cell_type": "code",
   "execution_count": 30,
   "metadata": {},
   "outputs": [],
   "source": [
    "#X_train, X_test, y_train, y_test = train_test_split(d.X, d.Y, test_size=0.2)\n",
    "i = 230\n",
    "X_train = d.X[0:i]\n",
    "X_test = d.X[i:]\n",
    "y_train = d.Y[0:i]\n",
    "y_test = d.Y[i:]"
   ]
  },
  {
   "cell_type": "code",
   "execution_count": 31,
   "metadata": {},
   "outputs": [
    {
     "name": "stdout",
     "output_type": "stream",
     "text": [
      "             precision    recall  f1-score   support\n",
      "\n",
      "         -1       0.10      0.08      0.09        12\n",
      "          0       0.55      0.75      0.63        24\n",
      "          1       0.29      0.14      0.19        14\n",
      "\n",
      "avg / total       0.37      0.42      0.38        50\n",
      "\n",
      "0.42\n"
     ]
    },
    {
     "data": {
      "image/png": "[encoded data removed]",
      "text/plain": [
       "<matplotlib.figure.Figure at 0x1a43ff5da0>"
      ]
     },
     "metadata": {},
     "output_type": "display_data"
    }
   ],
   "source": [
    "clf = svm.SVC(kernel='linear',C=0.1)\n",
    "clf.fit(X_train,y_train)\n",
    "predictions = clf.predict(X_test)\n",
    "cnf_matrix = confusion_matrix(y_test,predictions)\n",
    "plot_confusion_matrix(cnf_matrix,['Negative','Neutral','Positive'],title=\"SVM Confusion Matrix\")\n",
    "print(classification_report(y_test,predictions))\n",
    "print(clf.score(X_test,y_test))"
   ]
  },
  {
   "cell_type": "code",
   "execution_count": 156,
   "metadata": {},
   "outputs": [
    {
     "name": "stdout",
     "output_type": "stream",
     "text": [
      "0.31785714285714284\n"
     ]
    }
   ],
   "source": [
    "clf = svm.SVC(kernel='linear',C=1.0)\n",
    "cv = ShuffleSplit(n_splits=10, test_size=0.1)\n",
    "scores = cross_val_score(clf, d.X, d.Y, cv=cv)\n",
    "print(scores.mean())"
   ]
  },
  {
   "cell_type": "code",
   "execution_count": 110,
   "metadata": {},
   "outputs": [],
   "source": [
    "df = pd.DataFrame()\n",
    "for i in range(len(d.x)):\n",
    "    df=df.append(pd.DataFrame([[d.x[i]['combined_sentiment'], d.x[i]['sent_change'], d.y[i]]], columns=['sent','sent_change','price']))"
   ]
  },
  {
   "cell_type": "code",
   "execution_count": 101,
   "metadata": {},
   "outputs": [
    {
     "name": "stdout",
     "output_type": "stream",
     "text": [
      "<class 'pandas.core.frame.DataFrame'>\n",
      "Int64Index: 280 entries, 0 to 0\n",
      "Data columns (total 3 columns):\n",
      "sent           280 non-null float64\n",
      "sent_change    280 non-null float64\n",
      "price          280 non-null float64\n",
      "dtypes: float64(3)\n",
      "memory usage: 8.8 KB\n"
     ]
    }
   ],
   "source": [
    "df.info()"
   ]
  },
  {
   "cell_type": "code",
   "execution_count": 112,
   "metadata": {},
   "outputs": [
    {
     "name": "stdout",
     "output_type": "stream",
     "text": [
      "<class 'pandas.core.frame.DataFrame'>\n",
      "Int64Index: 280 entries, 0 to 0\n",
      "Data columns (total 3 columns):\n",
      "sent           280 non-null float64\n",
      "sent_change    280 non-null float64\n",
      "price          280 non-null float64\n",
      "dtypes: float64(3)\n",
      "memory usage: 8.8 KB\n"
     ]
    }
   ],
   "source": [
    "df['price'] = df.price.shift(-1)\n",
    "df = df[np.isfinite(df['price'])]\n",
    "df.info()"
   ]
  },
  {
   "cell_type": "code",
   "execution_count": 113,
   "metadata": {},
   "outputs": [
    {
     "data": {
      "text/plain": [
       "<matplotlib.axes._subplots.AxesSubplot at 0x1a474366a0>"
      ]
     },
     "execution_count": 113,
     "metadata": {},
     "output_type": "execute_result"
    },
    {
     "data": {
      "image/png": "[encoded data removed]",
      "text/plain": [
       "<matplotlib.figure.Figure at 0x1a46743cc0>"
      ]
     },
     "metadata": {},
     "output_type": "display_data"
    }
   ],
   "source": [
    "sb.regplot(x='sent',y='price',data=df)"
   ]
  },
  {
   "cell_type": "code",
   "execution_count": null,
   "metadata": {},
   "outputs": [],
   "source": []
  }
 ],
 "metadata": {
  "kernelspec": {
   "display_name": "Python 3",
   "language": "python",
   "name": "python3"
  },
  "language_info": {
   "codemirror_mode": {
    "name": "ipython",
    "version": 3
   },
   "file_extension": ".py",
   "mimetype": "text/x-python",
   "name": "python",
   "nbconvert_exporter": "python",
   "pygments_lexer": "ipython3",
   "version": "3.6.4"
  }
 },
 "nbformat": 4,
 "nbformat_minor": 2
}
